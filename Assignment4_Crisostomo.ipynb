{
  "nbformat": 4,
  "nbformat_minor": 0,
  "metadata": {
    "colab": {
      "name": "Assignment4_Crisostomo",
      "provenance": [],
      "authorship_tag": "ABX9TyPZ03/YTYIzyYGd7mFQj4km",
      "include_colab_link": true
    },
    "kernelspec": {
      "name": "python3",
      "display_name": "Python 3"
    },
    "language_info": {
      "name": "python"
    }
  },
  "cells": [
    {
      "cell_type": "markdown",
      "metadata": {
        "id": "view-in-github",
        "colab_type": "text"
      },
      "source": [
        "<a href=\"https://colab.research.google.com/github/chescrisostomo/LinearAlgebra21/blob/main/Assignment4_Crisostomo.ipynb\" target=\"_parent\"><img src=\"https://colab.research.google.com/assets/colab-badge.svg\" alt=\"Open In Colab\"/></a>"
      ]
    },
    {
      "cell_type": "markdown",
      "metadata": {
        "id": "XBz8Xc1i8EIh"
      },
      "source": [
        "# Linear Algebra for ECE\n",
        "## Laboratory 2: Matrices\n",
        " Now that you have a fundamental knowledge about Python, we'll try to look into greater dimensions.\n",
        "\n",
        " ### Objectives\n",
        " At the end of this activity you will be able to:\n",
        "\n",
        "\n",
        "1.   Be familiar with matrices and their relation to linear equations.\n",
        "2.   Perform basic matrix operations.\n",
        "3.   Program and translate matrix equations and operations using Python.\n",
        "\n"
      ]
    },
    {
      "cell_type": "markdown",
      "metadata": {
        "id": "cP3McZ0sCb8c"
      },
      "source": [
        "# Discussion"
      ]
    },
    {
      "cell_type": "code",
      "metadata": {
        "id": "Yrs1cMFe8mZD"
      },
      "source": [
        "import numpy as np\n",
        "import matplotlib.pyplot as plt\n",
        "import scipy.linalg as la\n",
        "%matplotlib inline"
      ],
      "execution_count": null,
      "outputs": []
    },
    {
      "cell_type": "markdown",
      "metadata": {
        "id": "SDqw6Mc1Cioe"
      },
      "source": [
        "### Matrices \n",
        "\n",
        "The notation and use of matrices is probably one of the fundamentals of modern computing. Matrices are also handy representations of complex equations or multiple inter-related equations from 2-dimensional equations to even hundreds and thousands of them.\n",
        "\n",
        "Let's say for example you have $A$ and $B$ as system of equations. "
      ]
    },
    {
      "cell_type": "markdown",
      "metadata": {
        "id": "7_e1fduH9RvQ"
      },
      "source": [
        "$$\n",
        "A = \\left\\{\n",
        "    \\begin{array}\\\n",
        "        x + y \\\\ \n",
        "        4x - 10y\n",
        "    \\end{array}\n",
        "\\right. \\\\\n",
        "B = \\left\\{\n",
        "    \\begin{array}\\\n",
        "        x+y+z \\\\ \n",
        "        3x -2y -z \\\\\n",
        "        -x + 4y +2z\n",
        "    \\end{array}\n",
        "\\right. $$"
      ]
    },
    {
      "cell_type": "markdown",
      "metadata": {
        "id": "iNM6zpu0DJNu"
      },
      "source": [
        "We could see that $A$ is a system of 2 equations with 2 parameters. While $B$ is a system of 3 equations with 3 parameters. We can represent them as matrices as:"
      ]
    },
    {
      "cell_type": "markdown",
      "metadata": {
        "id": "bHRFd6IV-L1R"
      },
      "source": [
        "$$\n",
        "A=\\begin{bmatrix} 1 & 1 \\\\ 4 & {-10}\\end{bmatrix} \\\\\n",
        "B=\\begin{bmatrix} 1 & 1 & 1 \\\\ 3 & -2 & -1 \\\\ -1 & 4 & 2\\end{bmatrix}\n",
        "$$"
      ]
    },
    {
      "cell_type": "markdown",
      "metadata": {
        "id": "MJsQNmx9Dj9f"
      },
      "source": [
        "So assuming that you already discussed the fundamental representation of matrices, their types, and operations. We'll proceed in doing them in here in Python. "
      ]
    },
    {
      "cell_type": "markdown",
      "metadata": {
        "id": "Uug37yxqDz1w"
      },
      "source": [
        "### Declaring Matrices\n",
        "\n",
        "Just like our previous laboratory activity, we'll represent system of linear equations as a matrix. The entities or numbers in matrices are called the elements of a matrix. These elements are arranged and ordered in rows and columns which form the list/array-like structure of matrices. And just like arrays, these elements are indexed according to their position with respect to their rows and columns. This can be represented just like the equation below. Whereas $A$ is a matrix consisting of elements denoted by $a_{i,j}$. Denoted by $i$ is the number of rows in the matrix while $j$ stands for the number of columns.\n",
        "Do note that the $size$ of a matrix is $i\\times j$."
      ]
    },
    {
      "cell_type": "markdown",
      "metadata": {
        "id": "5cYe71vA_GPI"
      },
      "source": [
        "$$A=\\begin{bmatrix}\n",
        "a_{(0,0)}&a_{(0,1)}&\\dots&a_{(0,j-1)}\\\\\n",
        "a_{(1,0)}&a_{(1,1)}&\\dots&a_{(1,j-1)}\\\\\n",
        "\\vdots&\\vdots&\\ddots&\\vdots&\\\\\n",
        "a_{(i-1,0)}&a_{(i-1,1)}&\\dots&a_{(i-1,j-1)}\n",
        "\\end{bmatrix}\n",
        "$$"
      ]
    },
    {
      "cell_type": "markdown",
      "metadata": {
        "id": "wnxFlpHzFv50"
      },
      "source": [
        "We already gone over some of the types of matrices as vectors but we'll further discuss them in this laboratory activity. Since you already know how to describe vectors using <b>shape</b>, <b>dimensions</b> and <b>size</b> attributes, we'll use them to analyze these matrices. "
      ]
    },
    {
      "cell_type": "code",
      "metadata": {
        "id": "C2xZeGs7AcXO"
      },
      "source": [
        "## Since we'll keep on describing matrices. let's make a function.\n",
        "def describe_mat(matrix):\n",
        "    print(f'Matrix:\\n{matrix}\\n\\nShape:\\t{matrix.shape}\\nRank:\\t{matrix.ndim}\\n')"
      ],
      "execution_count": null,
      "outputs": []
    },
    {
      "cell_type": "code",
      "metadata": {
        "colab": {
          "base_uri": "https://localhost:8080/"
        },
        "id": "PQq9WG56AhfY",
        "outputId": "7d67d395-73c7-43ae-9454-2c92c6c95af2"
      },
      "source": [
        "## Declaring a 2 x 2 matrix\n",
        "A = np.array([\n",
        "    [1, 2],\n",
        "    [3, 6]\n",
        "])\n",
        "describe_mat(A)"
      ],
      "execution_count": null,
      "outputs": [
        {
          "output_type": "stream",
          "name": "stdout",
          "text": [
            "Matrix:\n",
            "[[1 2]\n",
            " [3 6]]\n",
            "\n",
            "Shape:\t(2, 2)\n",
            "Rank:\t2\n",
            "\n"
          ]
        }
      ]
    },
    {
      "cell_type": "code",
      "metadata": {
        "colab": {
          "base_uri": "https://localhost:8080/"
        },
        "id": "RAR12FlDG4J7",
        "outputId": "8982d8cb-260d-4922-84ba-3300bf5ae1cb"
      },
      "source": [
        "G = np.array([\n",
        "    [1,1],\n",
        "    [2,2]\n",
        "])\n",
        "describe_mat(G)"
      ],
      "execution_count": null,
      "outputs": [
        {
          "output_type": "stream",
          "name": "stdout",
          "text": [
            "Matrix:\n",
            "[[1 1]\n",
            " [2 2]]\n",
            "\n",
            "Shape:\t(2, 2)\n",
            "Rank:\t2\n",
            "\n"
          ]
        }
      ]
    },
    {
      "cell_type": "code",
      "metadata": {
        "colab": {
          "base_uri": "https://localhost:8080/"
        },
        "id": "qJoi1-vDG9zS",
        "outputId": "45a87d7e-2710-4498-fc9e-5cf115b36238"
      },
      "source": [
        "## Declaring a 3 x 2 matrix\n",
        "B = np.array([\n",
        "    [8, 2],\n",
        "    [5, 4],\n",
        "    [1, 1]\n",
        "])\n",
        "describe_mat(B)"
      ],
      "execution_count": null,
      "outputs": [
        {
          "output_type": "stream",
          "name": "stdout",
          "text": [
            "Matrix:\n",
            "[[8 2]\n",
            " [5 4]\n",
            " [1 1]]\n",
            "\n",
            "Shape:\t(3, 2)\n",
            "Rank:\t2\n",
            "\n"
          ]
        }
      ]
    },
    {
      "cell_type": "code",
      "metadata": {
        "colab": {
          "base_uri": "https://localhost:8080/"
        },
        "id": "7xpGStzbHBQQ",
        "outputId": "e7e15a78-c168-494d-ad47-a0efb066d2d0"
      },
      "source": [
        "H = np.array([1,2,3,4,5])\n",
        "describe_mat(H)"
      ],
      "execution_count": null,
      "outputs": [
        {
          "output_type": "stream",
          "name": "stdout",
          "text": [
            "Matrix:\n",
            "[1 2 3 4 5]\n",
            "\n",
            "Shape:\t(5,)\n",
            "Rank:\t1\n",
            "\n"
          ]
        }
      ]
    },
    {
      "cell_type": "markdown",
      "metadata": {
        "id": "fScOqzG6HKsA"
      },
      "source": [
        "## Categorizing Matrices\n",
        "\n",
        "There are  several ways of classifying matrices. Once could be according to their <b> shape </b> and another is according to their <b> element values </b>. We'll try to go through them.  "
      ]
    },
    {
      "cell_type": "markdown",
      "metadata": {
        "id": "6AYsoEZuHldy"
      },
      "source": [
        "### According to shape"
      ]
    },
    {
      "cell_type": "markdown",
      "metadata": {
        "id": "YWPuSi6tHrQt"
      },
      "source": [
        "#### Row and column Matrices\n",
        "\n",
        "Row and column matrices are common in vector and matrix computations. They can also represent row and column spaces of a bigger vector space. Row and column matrices are represented by a single column or single row. So wtih that being, the shape of row matrices would be $1 \\times j$ and column matrices would be $i \\times 1$."
      ]
    },
    {
      "cell_type": "code",
      "metadata": {
        "colab": {
          "base_uri": "https://localhost:8080/"
        },
        "id": "-rmXCJY5IiU6",
        "outputId": "1f6b2d8a-7ad8-4a23-8d6f-cf8e112b9a45"
      },
      "source": [
        "## Declaring a Row Matrix\n",
        "\n",
        "row_mat_1D = np.array([\n",
        "    1, 3, 2\n",
        "]) ## this is a 1-D Matrix with a shape of (3,), it's not really considered as a row matrix.\n",
        "row_mat_2D = np.array([\n",
        "    [1,2,3]\n",
        "]) ## this is a 2-D Matrix with a shape of (1,3)\n",
        "describe_mat(row_mat_1D)\n",
        "describe_mat(row_mat_2D)"
      ],
      "execution_count": null,
      "outputs": [
        {
          "output_type": "stream",
          "name": "stdout",
          "text": [
            "Matrix:\n",
            "[1 3 2]\n",
            "\n",
            "Shape:\t(3,)\n",
            "Rank:\t1\n",
            "\n",
            "Matrix:\n",
            "[[1 2 3]]\n",
            "\n",
            "Shape:\t(1, 3)\n",
            "Rank:\t2\n",
            "\n"
          ]
        }
      ]
    },
    {
      "cell_type": "code",
      "metadata": {
        "id": "kTQ94lQ4FdSE",
        "colab": {
          "base_uri": "https://localhost:8080/"
        },
        "outputId": "7bed8c62-5a0e-4413-c137-4055fb1bf570"
      },
      "source": [
        "## Declaring a Column Matrix\n",
        "\n",
        "col_mat = np.array([\n",
        "    [1],\n",
        "    [2],\n",
        "    [5]\n",
        "]) ## this is a 2-D Matrix with a shape of (3,1)\n",
        "describe_mat(col_mat)"
      ],
      "execution_count": null,
      "outputs": [
        {
          "output_type": "stream",
          "name": "stdout",
          "text": [
            "Matrix:\n",
            "[[1]\n",
            " [2]\n",
            " [5]]\n",
            "\n",
            "Shape:\t(3, 1)\n",
            "Rank:\t2\n",
            "\n"
          ]
        }
      ]
    },
    {
      "cell_type": "markdown",
      "metadata": {
        "id": "_PmL4p9RIrDT"
      },
      "source": [
        "#### Square Matrices\n",
        "\n",
        "Square matrices are matrices that have the same row and column sizes. We could say a matrix is square if $i = j$. we can tweak our matrix descriptor function to determine square matrices. "
      ]
    },
    {
      "cell_type": "code",
      "metadata": {
        "id": "LAg9uzX5Forq"
      },
      "source": [
        "def describe_mat(matrix):\n",
        "    is_square = True if matrix.shape[0] == matrix.shape[1] else False \n",
        "    print(f'Matrix:\\n{matrix}\\n\\nShape:\\t{matrix.shape}\\nRank:\\t{matrix.ndim}\\nIs Square: {is_square}\\n')"
      ],
      "execution_count": null,
      "outputs": []
    },
    {
      "cell_type": "code",
      "metadata": {
        "colab": {
          "base_uri": "https://localhost:8080/"
        },
        "id": "E9mnBx4CJCwz",
        "outputId": "487f42ac-6b68-4521-965c-4f423f8be610"
      },
      "source": [
        "square_mat = np.array([\n",
        "    [1,2,5],\n",
        "    [3,3,8],\n",
        "    [6,1,2]\n",
        "])\n",
        "\n",
        "non_square_mat = np.array([\n",
        "    [1,2,5],\n",
        "    [3,3,8]\n",
        "])\n",
        "describe_mat(square_mat)\n",
        "describe_mat(non_square_mat)"
      ],
      "execution_count": null,
      "outputs": [
        {
          "output_type": "stream",
          "name": "stdout",
          "text": [
            "Matrix:\n",
            "[[1 2 5]\n",
            " [3 3 8]\n",
            " [6 1 2]]\n",
            "\n",
            "Shape:\t(3, 3)\n",
            "Rank:\t2\n",
            "Is Square: True\n",
            "\n",
            "Matrix:\n",
            "[[1 2 5]\n",
            " [3 3 8]]\n",
            "\n",
            "Shape:\t(2, 3)\n",
            "Rank:\t2\n",
            "Is Square: False\n",
            "\n"
          ]
        }
      ]
    },
    {
      "cell_type": "markdown",
      "metadata": {
        "id": "-sOG9GhEJW_U"
      },
      "source": [
        "### According to element values\n",
        "\n",
        "#### Null Matrix \n",
        "A null matrix is a matrix that has no elements. It is always a subsapace of any vector or matrix."
      ]
    },
    {
      "cell_type": "code",
      "metadata": {
        "id": "mmMD96y6JJSA"
      },
      "source": [
        "def describe_mat(matrix):\n",
        "  if matrix.size > 0:\n",
        "    is_square = True if matrix.shape[0] == matrix.shape[1] else False\n",
        "    print(f'Matrix:\\n{matrix}\\n\\nShape:\\t{matrix.shape}\\nRank:\\t{matrix.ndim}\\nIs Square: {is_square}\\n')\n",
        "  else:\n",
        "    print('Matrix is Null')"
      ],
      "execution_count": null,
      "outputs": []
    },
    {
      "cell_type": "code",
      "metadata": {
        "colab": {
          "base_uri": "https://localhost:8080/"
        },
        "id": "9ekegfxYJSpY",
        "outputId": "9ca952b1-51d4-43ec-9162-6c0ab9df6935"
      },
      "source": [
        "null_matt = np.array([])\n",
        "describe_mat(null_matt)"
      ],
      "execution_count": null,
      "outputs": [
        {
          "output_type": "stream",
          "name": "stdout",
          "text": [
            "Matrix is Null\n"
          ]
        }
      ]
    },
    {
      "cell_type": "markdown",
      "metadata": {
        "id": "6iOtj8LFJuxi"
      },
      "source": [
        "#### Zero Matrix \n",
        "\n",
        "A zero matrix can be any rectangular matrix but with all elements having a value of 0."
      ]
    },
    {
      "cell_type": "code",
      "metadata": {
        "colab": {
          "base_uri": "https://localhost:8080/"
        },
        "id": "pW8iSzc3KG_P",
        "outputId": "1e1377ea-cfad-44a1-af78-f3ec28177547"
      },
      "source": [
        "zero_mat_row = np.zeros((1, 2))\n",
        "\n",
        "print(f'Ones Row Matrix: \\n{zero_mat_row}')"
      ],
      "execution_count": null,
      "outputs": [
        {
          "output_type": "stream",
          "name": "stdout",
          "text": [
            "Ones Row Matrix: \n",
            "[[0. 0.]]\n"
          ]
        }
      ]
    },
    {
      "cell_type": "markdown",
      "metadata": {
        "id": "Ine5byS6J_Dx"
      },
      "source": [
        "#### Ones Matrix\n",
        "\n",
        "A ones matrix, just like the zero matrix, can be any rectangular matrix but all of its elements are 1s instead of 0s. "
      ]
    },
    {
      "cell_type": "code",
      "metadata": {
        "colab": {
          "base_uri": "https://localhost:8080/"
        },
        "id": "9iLGcKSHKkYR",
        "outputId": "0d126703-8623-4cbe-fc8c-434ebeddc9ef"
      },
      "source": [
        "ones_mat_row = np.ones((1, 2))\n",
        "\n",
        "print(f'Ones Row Matrix: \\n{ones_mat_row}')"
      ],
      "execution_count": null,
      "outputs": [
        {
          "output_type": "stream",
          "name": "stdout",
          "text": [
            "Zero Ones Matrix: \n",
            "[[1. 1.]]\n"
          ]
        }
      ]
    },
    {
      "cell_type": "markdown",
      "metadata": {
        "id": "n8LLW0ZpKbkB"
      },
      "source": [
        "#### Diagonal Matrix \n",
        "\n",
        "A diagonal matrix is a square matrix that has values only at the diagonal of the matrix. "
      ]
    },
    {
      "cell_type": "code",
      "metadata": {
        "colab": {
          "base_uri": "https://localhost:8080/"
        },
        "id": "kQ2iGLrjKwj8",
        "outputId": "77eca8b6-cea3-4505-abf9-ad8018329e3a"
      },
      "source": [
        "np.array([\n",
        "    [2,0,0],\n",
        "    [0,3,0],\n",
        "    [0,0,5]\n",
        "])\n",
        "# a[1,1], a[2,2], a[3,3], ... a[n-1,n-1]"
      ],
      "execution_count": null,
      "outputs": [
        {
          "output_type": "execute_result",
          "data": {
            "text/plain": [
              "array([[2, 0, 0],\n",
              "       [0, 3, 0],\n",
              "       [0, 0, 5]])"
            ]
          },
          "metadata": {},
          "execution_count": 19
        }
      ]
    },
    {
      "cell_type": "code",
      "metadata": {
        "colab": {
          "base_uri": "https://localhost:8080/"
        },
        "id": "MCe2FFv4K3a-",
        "outputId": "d079014e-76ef-4005-9d24-6c4b58a7750d"
      },
      "source": [
        "d = np.diag([2, 3, 5, 7, 9])\n",
        "d"
      ],
      "execution_count": null,
      "outputs": [
        {
          "output_type": "execute_result",
          "data": {
            "text/plain": [
              "array([[2, 0, 0, 0, 0],\n",
              "       [0, 3, 0, 0, 0],\n",
              "       [0, 0, 5, 0, 0],\n",
              "       [0, 0, 0, 7, 0],\n",
              "       [0, 0, 0, 0, 9]])"
            ]
          },
          "metadata": {},
          "execution_count": 44
        }
      ]
    },
    {
      "cell_type": "markdown",
      "metadata": {
        "id": "5sN5LJq9KzOX"
      },
      "source": [
        "#### Identity Matrix\n",
        "\n",
        "An identity matrix is a special diagonal matrix in which the values at the diagonal are ones. "
      ]
    },
    {
      "cell_type": "code",
      "metadata": {
        "colab": {
          "base_uri": "https://localhost:8080/"
        },
        "id": "WISjpQZjLcCO",
        "outputId": "e33422b2-9993-4450-bf54-3bed31f74645"
      },
      "source": [
        "np.eye(5)"
      ],
      "execution_count": null,
      "outputs": [
        {
          "output_type": "execute_result",
          "data": {
            "text/plain": [
              "array([[1., 0., 0., 0., 0.],\n",
              "       [0., 1., 0., 0., 0.],\n",
              "       [0., 0., 1., 0., 0.],\n",
              "       [0., 0., 0., 1., 0.],\n",
              "       [0., 0., 0., 0., 1.]])"
            ]
          },
          "metadata": {},
          "execution_count": 45
        }
      ]
    },
    {
      "cell_type": "code",
      "metadata": {
        "colab": {
          "base_uri": "https://localhost:8080/"
        },
        "id": "4k2kKxEhLfUf",
        "outputId": "3899772a-a9f0-4fe5-b295-50acf6a43b48"
      },
      "source": [
        "np.identity(5)"
      ],
      "execution_count": null,
      "outputs": [
        {
          "output_type": "execute_result",
          "data": {
            "text/plain": [
              "array([[1., 0., 0., 0., 0.],\n",
              "       [0., 1., 0., 0., 0.],\n",
              "       [0., 0., 1., 0., 0.],\n",
              "       [0., 0., 0., 1., 0.],\n",
              "       [0., 0., 0., 0., 1.]])"
            ]
          },
          "metadata": {},
          "execution_count": 47
        }
      ]
    },
    {
      "cell_type": "markdown",
      "metadata": {
        "id": "7CiROH1cLAhG"
      },
      "source": [
        "#### Upper Triangular Matrix\n",
        "\n",
        "An upper triangular matrix is a matrix that has no values below the diagonal."
      ]
    },
    {
      "cell_type": "code",
      "metadata": {
        "colab": {
          "base_uri": "https://localhost:8080/"
        },
        "id": "hB4_L5kZLYkp",
        "outputId": "c17d2b6f-3dee-4ef9-badc-417ce6b17a80"
      },
      "source": [
        "np.array([\n",
        "    [1,2,3],\n",
        "    [0,3,1],\n",
        "    [0,0,5]\n",
        "])"
      ],
      "execution_count": null,
      "outputs": [
        {
          "output_type": "execute_result",
          "data": {
            "text/plain": [
              "array([[1, 2, 3],\n",
              "       [0, 3, 1],\n",
              "       [0, 0, 5]])"
            ]
          },
          "metadata": {},
          "execution_count": 20
        }
      ]
    },
    {
      "cell_type": "markdown",
      "metadata": {
        "id": "5AFefllMLbj0"
      },
      "source": [
        "#### Lower Triangular Matrix \n",
        "\n",
        "A lower triangular matrix is a matrix that has no values above the diagonal."
      ]
    },
    {
      "cell_type": "code",
      "metadata": {
        "colab": {
          "base_uri": "https://localhost:8080/"
        },
        "id": "8rqhJFeELllQ",
        "outputId": "86d40d5f-a362-46d9-a303-970c097dc27f"
      },
      "source": [
        "np.array([\n",
        "    [1,0,0],\n",
        "    [5,3,0],\n",
        "    [7,8,5]\n",
        "])"
      ],
      "execution_count": null,
      "outputs": [
        {
          "output_type": "execute_result",
          "data": {
            "text/plain": [
              "array([[1, 0, 0],\n",
              "       [5, 3, 0],\n",
              "       [7, 8, 5]])"
            ]
          },
          "metadata": {},
          "execution_count": 21
        }
      ]
    },
    {
      "cell_type": "markdown",
      "metadata": {
        "id": "dijj9SnlMEJR"
      },
      "source": [
        "## Practice\n",
        "\n",
        "1. Given the linear combination below, try to create a corresponding matrix representing it. "
      ]
    },
    {
      "cell_type": "markdown",
      "metadata": {
        "id": "0Tj8XsC8MQqr"
      },
      "source": [
        "$$\\theta = 5x + 3y - z$$"
      ]
    },
    {
      "cell_type": "code",
      "metadata": {
        "colab": {
          "base_uri": "https://localhost:8080/"
        },
        "id": "Gr5wx6JoMieO",
        "outputId": "165dc004-9b1d-4ba8-9784-b2c2e9120252"
      },
      "source": [
        "theta = np.array([\n",
        "  [5,3,-1]\n",
        "])\n",
        "describe_mat(theta)"
      ],
      "execution_count": null,
      "outputs": [
        {
          "output_type": "stream",
          "name": "stdout",
          "text": [
            "Matrix:\n",
            "[[ 5  3 -1]]\n",
            "\n",
            "Shape:\t(1, 3)\n",
            "Rank:\t2\n",
            "Is Square: False\n",
            "\n"
          ]
        }
      ]
    },
    {
      "cell_type": "markdown",
      "metadata": {
        "id": "518aphKSM1BX"
      },
      "source": [
        "2. Given the system of linear combinations below, try to encode it as a matrix. Alsodescribe the matrix."
      ]
    },
    {
      "cell_type": "markdown",
      "metadata": {
        "id": "Pj1vIW8cNGSE"
      },
      "source": [
        "$$\n",
        "A = \\left\\{\\begin{array}\n",
        "5x_1 + 2x_2 +x_3\\\\\n",
        "4x_2 - x_3\\\\\n",
        "10x_3\n",
        "\\end{array}\\right.\n",
        "$$"
      ]
    },
    {
      "cell_type": "markdown",
      "metadata": {
        "id": "ZuaM7I3fQWsE"
      },
      "source": [
        "3. Given the matrix below, express it as a linear combination in a markdown."
      ]
    },
    {
      "cell_type": "code",
      "metadata": {
        "colab": {
          "base_uri": "https://localhost:8080/"
        },
        "id": "W66u47jjNI8b",
        "outputId": "2c20e5a8-fb17-4a19-9b22-0841f25995f7"
      },
      "source": [
        "G = np.array([\n",
        "  [1,2,1],\n",
        "  [0,4,-1],\n",
        "  [10,0,0]\n",
        "])\n",
        "describe_mat(A)"
      ],
      "execution_count": null,
      "outputs": [
        {
          "output_type": "stream",
          "name": "stdout",
          "text": [
            "Matrix:\n",
            "[[ 1  2  1]\n",
            " [ 0  4 -1]\n",
            " [10  0  0]]\n",
            "\n",
            "Shape:\t(3, 3)\n",
            "Rank:\t2\n",
            "Is Square: True\n",
            "\n"
          ]
        }
      ]
    },
    {
      "cell_type": "markdown",
      "metadata": {
        "id": "DDnHVklnQkTV"
      },
      "source": [
        "4. Given the matrix below, display the output as a LaTeX makdown also express it as a system of linear combinations."
      ]
    },
    {
      "cell_type": "code",
      "metadata": {
        "colab": {
          "base_uri": "https://localhost:8080/"
        },
        "id": "c2V3sGYXQp3r",
        "outputId": "612dcba6-87a4-40cc-9152-c426de7fd0df"
      },
      "source": [
        "H = np.tril(G)\n",
        "H"
      ],
      "execution_count": null,
      "outputs": [
        {
          "output_type": "execute_result",
          "data": {
            "text/plain": [
              "array([[ 1,  0,  0],\n",
              "       [ 0,  4,  0],\n",
              "       [10,  0,  0]])"
            ]
          },
          "metadata": {},
          "execution_count": 30
        }
      ]
    },
    {
      "cell_type": "markdown",
      "metadata": {
        "id": "KGCESX3zQ4Lr"
      },
      "source": [
        "# Matrix Algebra\n",
        "\n",
        "### Addition"
      ]
    },
    {
      "cell_type": "code",
      "metadata": {
        "colab": {
          "base_uri": "https://localhost:8080/"
        },
        "id": "zqvBWyajRDqb",
        "outputId": "a2ef7df7-aa84-450c-ba6e-1587620cc99b"
      },
      "source": [
        "A = np.array([\n",
        "    [1,2],\n",
        "    [2,3],\n",
        "    [4,1]\n",
        "])\n",
        "B = np.array([\n",
        "    [2,2],\n",
        "    [0,0],\n",
        "    [1,1]\n",
        "])\n",
        "A+B"
      ],
      "execution_count": null,
      "outputs": [
        {
          "output_type": "execute_result",
          "data": {
            "text/plain": [
              "array([[3, 4],\n",
              "       [2, 3],\n",
              "       [5, 2]])"
            ]
          },
          "metadata": {},
          "execution_count": 31
        }
      ]
    },
    {
      "cell_type": "code",
      "metadata": {
        "colab": {
          "base_uri": "https://localhost:8080/"
        },
        "id": "o5NPLGz7RIkU",
        "outputId": "f6cd45b1-62e7-4080-e292-3a7c14097aa6"
      },
      "source": [
        "2+A ##Broadcasting\n",
        "# 2*np.ones(A.shape)+A"
      ],
      "execution_count": null,
      "outputs": [
        {
          "output_type": "execute_result",
          "data": {
            "text/plain": [
              "array([[3., 4.],\n",
              "       [4., 5.],\n",
              "       [6., 3.]])"
            ]
          },
          "metadata": {},
          "execution_count": 32
        }
      ]
    },
    {
      "cell_type": "markdown",
      "metadata": {
        "id": "VadOJuOhRQIo"
      },
      "source": [
        "### Subtraction"
      ]
    },
    {
      "cell_type": "code",
      "metadata": {
        "colab": {
          "base_uri": "https://localhost:8080/"
        },
        "id": "rlFiRFHMRUw-",
        "outputId": "ef4752ef-a3e1-412f-d7d0-220ff001d9f4"
      },
      "source": [
        "A - B"
      ],
      "execution_count": null,
      "outputs": [
        {
          "output_type": "execute_result",
          "data": {
            "text/plain": [
              "array([[-1,  0],\n",
              "       [ 2,  3],\n",
              "       [ 3,  0]])"
            ]
          },
          "metadata": {},
          "execution_count": 33
        }
      ]
    },
    {
      "cell_type": "code",
      "metadata": {
        "colab": {
          "base_uri": "https://localhost:8080/"
        },
        "id": "GGYEhcOKRZLC",
        "outputId": "54e6c6dc-459d-491d-b3a9-48d1d498087f"
      },
      "source": [
        "3-B == 3*np.ones(B.shape)-B"
      ],
      "execution_count": null,
      "outputs": [
        {
          "output_type": "execute_result",
          "data": {
            "text/plain": [
              "array([[ True,  True],\n",
              "       [ True,  True],\n",
              "       [ True,  True]])"
            ]
          },
          "metadata": {},
          "execution_count": 34
        }
      ]
    },
    {
      "cell_type": "markdown",
      "metadata": {
        "id": "37BMzq2jRcKP"
      },
      "source": [
        "### Element-wise Multiplication"
      ]
    },
    {
      "cell_type": "code",
      "metadata": {
        "colab": {
          "base_uri": "https://localhost:8080/"
        },
        "id": "5PNvlMMoRg3a",
        "outputId": "6a7dea0a-b584-4781-8261-576135fea4a4"
      },
      "source": [
        "A*B\n",
        "np.multiply(A,B)"
      ],
      "execution_count": null,
      "outputs": [
        {
          "output_type": "execute_result",
          "data": {
            "text/plain": [
              "array([[2, 4],\n",
              "       [0, 0],\n",
              "       [4, 1]])"
            ]
          },
          "metadata": {},
          "execution_count": 35
        }
      ]
    },
    {
      "cell_type": "code",
      "metadata": {
        "colab": {
          "base_uri": "https://localhost:8080/"
        },
        "id": "CTn-uU1XRiwr",
        "outputId": "ae3fce95-e826-4aaa-8146-e6196bfedc99"
      },
      "source": [
        "2*A"
      ],
      "execution_count": null,
      "outputs": [
        {
          "output_type": "execute_result",
          "data": {
            "text/plain": [
              "array([[2, 4],\n",
              "       [4, 6],\n",
              "       [8, 2]])"
            ]
          },
          "metadata": {},
          "execution_count": 36
        }
      ]
    },
    {
      "cell_type": "markdown",
      "metadata": {
        "id": "Vz3WM_0Eqx_l"
      },
      "source": [
        "### Element-wise Division"
      ]
    },
    {
      "cell_type": "code",
      "metadata": {
        "colab": {
          "base_uri": "https://localhost:8080/"
        },
        "id": "q5d09KZwRl69",
        "outputId": "db9180cf-e65c-4e77-fec9-6ec18cd4d0c6"
      },
      "source": [
        "alpha=10**-10\n",
        "A/(alpha+B)"
      ],
      "execution_count": null,
      "outputs": [
        {
          "output_type": "execute_result",
          "data": {
            "text/plain": [
              "array([[5.e-01, 1.e+00],\n",
              "       [2.e+10, 3.e+10],\n",
              "       [4.e+00, 1.e+00]])"
            ]
          },
          "metadata": {},
          "execution_count": 38
        }
      ]
    },
    {
      "cell_type": "code",
      "metadata": {
        "colab": {
          "base_uri": "https://localhost:8080/"
        },
        "id": "HI6w17DaRsAP",
        "outputId": "3f010664-c5e9-419e-f730-bf1f8645ae52"
      },
      "source": [
        "np.add(A,B)"
      ],
      "execution_count": null,
      "outputs": [
        {
          "output_type": "execute_result",
          "data": {
            "text/plain": [
              "array([[3, 4],\n",
              "       [2, 3],\n",
              "       [5, 2]])"
            ]
          },
          "metadata": {},
          "execution_count": 39
        }
      ]
    },
    {
      "cell_type": "markdown",
      "metadata": {
        "id": "k6bs3U3WRty_"
      },
      "source": [
        "## Activity\n",
        "\n"
      ]
    },
    {
      "cell_type": "markdown",
      "metadata": {
        "id": "aIJ2a6F_RyoO"
      },
      "source": [
        "### Task 1\n",
        "\n",
        "Create a function `mat_desc()` that thougoughly describes a matrix, it should:\n",
        "\n",
        "1. Displays the shape, size and rank of the matrix.\n",
        "2. Displays whether the matrix is square or non-square.\n",
        "3. Displays whether the matrix is an empty matrix.\n",
        "4. Displays if the matrix is an identity, ones, or zeros matrix\n",
        "\n",
        "Use sample matrices in which their shapes are not lower than $(3,3)$.\n",
        "In your methodology, create a flowchart discuss the functions and methods you have done. Present your results in the results section showing the description of each matrix you have declared."
      ]
    },
    {
      "cell_type": "markdown",
      "metadata": {
        "id": "_XguEHLUa3c5"
      },
      "source": [
        "### 1. Displays the shape, size and rank of the matrix."
      ]
    },
    {
      "cell_type": "code",
      "metadata": {
        "id": "FyTfKlLcSl-H"
      },
      "source": [
        "def mat_desc(matrix):\n",
        "    print(f'The matrix is:\\n\\n{matrix}\\n\\n The shape is:\\t{matrix.shape}\\n The rank is:\\t{matrix.ndim}\\n')"
      ],
      "execution_count": null,
      "outputs": []
    },
    {
      "cell_type": "code",
      "metadata": {
        "colab": {
          "base_uri": "https://localhost:8080/"
        },
        "id": "dNDJcXK1UGO1",
        "outputId": "3e48674a-ebee-4af8-d2b9-04a6e49b1c99"
      },
      "source": [
        "F = np.array([\n",
        "    [5, 7,8,9],\n",
        "    [24, 8,5,7],\n",
        "    [3, 5, 9, 10],\n",
        "    [3, 5, 4,5]\n",
        "])\n",
        "mat_desc(F)"
      ],
      "execution_count": null,
      "outputs": [
        {
          "output_type": "stream",
          "name": "stdout",
          "text": [
            "The matrix is:\n",
            "\n",
            "[[ 5  7  8  9]\n",
            " [24  8  5  7]\n",
            " [ 3  5  9 10]\n",
            " [ 3  5  4  5]]\n",
            "\n",
            " The shape is:\t(4, 4)\n",
            " The rank is:\t2\n",
            "\n"
          ]
        }
      ]
    },
    {
      "cell_type": "markdown",
      "metadata": {
        "id": "G6YHJJuZFUpn"
      },
      "source": [
        "![Untitled Diagram (17).png](data:image/png;base64,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)"
      ]
    },
    {
      "cell_type": "markdown",
      "metadata": {
        "id": "Zp22pkhsbAYj"
      },
      "source": [
        "### 2. Displays whether the matrix is square or non-square."
      ]
    },
    {
      "cell_type": "code",
      "metadata": {
        "id": "S4JgJdC1UiOV"
      },
      "source": [
        "def mat_desc(matrix):\n",
        "    is_square = True if matrix.shape[0] == matrix.shape[1] else False \n",
        "    print(f'The matrix is:\\n\\n{matrix}\\n\\nThe matrix is square: {is_square}\\n')"
      ],
      "execution_count": null,
      "outputs": []
    },
    {
      "cell_type": "code",
      "metadata": {
        "colab": {
          "base_uri": "https://localhost:8080/"
        },
        "id": "aIL6lrZMWAMe",
        "outputId": "567b8d81-2711-46e5-bb01-99bdb11954eb"
      },
      "source": [
        "square_mat = np.array([\n",
        "    [1,2,5,5],\n",
        "    [3,3,8,10],\n",
        "    [2,5,32,3],\n",
        "    [6,1,2,4]\n",
        "])\n",
        "\n",
        "non_square_mat = np.array([\n",
        "    [1,2,5],\n",
        "    [5,10, 11],\n",
        "    [4,6,9],\n",
        "    [24,3,5],\n",
        "    [3,3,8]\n",
        "])\n",
        "mat_desc (square_mat)\n",
        "mat_desc (non_square_mat)"
      ],
      "execution_count": null,
      "outputs": [
        {
          "output_type": "stream",
          "name": "stdout",
          "text": [
            "The matrix is:\n",
            "\n",
            "[[ 1  2  5  5]\n",
            " [ 3  3  8 10]\n",
            " [ 2  5 32  3]\n",
            " [ 6  1  2  4]]\n",
            "\n",
            "The matrix is square: True\n",
            "\n",
            "The matrix is:\n",
            "\n",
            "[[ 1  2  5]\n",
            " [ 5 10 11]\n",
            " [ 4  6  9]\n",
            " [24  3  5]\n",
            " [ 3  3  8]]\n",
            "\n",
            "The matrix is square: False\n",
            "\n"
          ]
        }
      ]
    },
    {
      "cell_type": "markdown",
      "metadata": {
        "id": "bPK_gs7RD9TC"
      },
      "source": [
        "![Task.png](data:image/png;base64,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)"
      ]
    },
    {
      "cell_type": "markdown",
      "metadata": {
        "id": "DHMAnEDMbIpx"
      },
      "source": [
        "### 3. Displays whether the matrix is an empty matrix."
      ]
    },
    {
      "cell_type": "code",
      "metadata": {
        "id": "Z0G2omb7aVnH"
      },
      "source": [
        "def mat_desc(matrix):\n",
        "  if matrix.size > 0:\n",
        "    is_square = True if matrix.shape[0] == matrix.shape[1] else False\n",
        "    print(f'Matrix:\\n{matrix}\\n\\nShape:\\t{matrix.shape}\\nRank:\\t{matrix.ndim}\\nIs Square: {is_square}\\n')\n",
        "  else:\n",
        "    print('The matrix is Null')"
      ],
      "execution_count": null,
      "outputs": []
    },
    {
      "cell_type": "code",
      "metadata": {
        "colab": {
          "base_uri": "https://localhost:8080/"
        },
        "id": "LZ0ZYWlTavJL",
        "outputId": "7e4bd159-567b-473b-c89a-412034eb3f07"
      },
      "source": [
        "null_matt = np.array([])\n",
        "mat_desc(null_matt)"
      ],
      "execution_count": null,
      "outputs": [
        {
          "output_type": "stream",
          "name": "stdout",
          "text": [
            "The matrix is Null\n"
          ]
        }
      ]
    },
    {
      "cell_type": "markdown",
      "metadata": {
        "id": "X21ApOc6EBMe"
      },
      "source": [
        "![Untitled Diagram (8).png](data:image/png;base64,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)"
      ]
    },
    {
      "cell_type": "markdown",
      "metadata": {
        "id": "PjQjVaRmbYUE"
      },
      "source": [
        "### 4. Displays if the matrix is an identity, ones, or zeros matrix"
      ]
    },
    {
      "cell_type": "markdown",
      "metadata": {
        "id": "34rr3BKs0mof"
      },
      "source": [
        "#### Identity"
      ]
    },
    {
      "cell_type": "code",
      "metadata": {
        "colab": {
          "base_uri": "https://localhost:8080/"
        },
        "id": "flsdcTQ7bpnm",
        "outputId": "6b460181-1df7-4726-d153-72d193aedeff"
      },
      "source": [
        "np.eye(10)"
      ],
      "execution_count": null,
      "outputs": [
        {
          "output_type": "execute_result",
          "data": {
            "text/plain": [
              "array([[1., 0., 0., 0., 0., 0., 0., 0., 0., 0.],\n",
              "       [0., 1., 0., 0., 0., 0., 0., 0., 0., 0.],\n",
              "       [0., 0., 1., 0., 0., 0., 0., 0., 0., 0.],\n",
              "       [0., 0., 0., 1., 0., 0., 0., 0., 0., 0.],\n",
              "       [0., 0., 0., 0., 1., 0., 0., 0., 0., 0.],\n",
              "       [0., 0., 0., 0., 0., 1., 0., 0., 0., 0.],\n",
              "       [0., 0., 0., 0., 0., 0., 1., 0., 0., 0.],\n",
              "       [0., 0., 0., 0., 0., 0., 0., 1., 0., 0.],\n",
              "       [0., 0., 0., 0., 0., 0., 0., 0., 1., 0.],\n",
              "       [0., 0., 0., 0., 0., 0., 0., 0., 0., 1.]])"
            ]
          },
          "metadata": {},
          "execution_count": 90
        }
      ]
    },
    {
      "cell_type": "markdown",
      "metadata": {
        "id": "1xehbacdEJUR"
      },
      "source": [
        "![Untitled Diagram (9).png](data:image/png;base64,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)"
      ]
    },
    {
      "cell_type": "markdown",
      "metadata": {
        "id": "T5qPJDDnEHY7"
      },
      "source": [
        "#### Ones"
      ]
    },
    {
      "cell_type": "code",
      "metadata": {
        "colab": {
          "base_uri": "https://localhost:8080/"
        },
        "id": "xoE8yrVnbsx8",
        "outputId": "0d82ab04-784a-46bf-807f-017e5fbf34eb"
      },
      "source": [
        "ones_mat_row = np.ones((4,8))\n",
        "ones_mat_sqr = np.ones((5,6))\n",
        "ones_mat_rct = np.ones((6,7))\n",
        "\n",
        "print(f'Ones Row Matrix: \\n\\n{ones_mat_row} \\n')\n",
        "print(f'Ones Square Matrix: \\n\\n{ones_mat_sqr} \\n')\n",
        "print(f'Ones Rectangular Matrix: \\n\\n{ones_mat_rct} \\n')"
      ],
      "execution_count": null,
      "outputs": [
        {
          "output_type": "stream",
          "name": "stdout",
          "text": [
            "Ones Row Matrix: \n",
            "\n",
            "[[1. 1. 1. 1. 1. 1. 1. 1.]\n",
            " [1. 1. 1. 1. 1. 1. 1. 1.]\n",
            " [1. 1. 1. 1. 1. 1. 1. 1.]\n",
            " [1. 1. 1. 1. 1. 1. 1. 1.]] \n",
            "\n",
            "Ones Square Matrix: \n",
            "\n",
            "[[1. 1. 1. 1. 1. 1.]\n",
            " [1. 1. 1. 1. 1. 1.]\n",
            " [1. 1. 1. 1. 1. 1.]\n",
            " [1. 1. 1. 1. 1. 1.]\n",
            " [1. 1. 1. 1. 1. 1.]] \n",
            "\n",
            "Ones Rectangular Matrix: \n",
            "\n",
            "[[1. 1. 1. 1. 1. 1. 1.]\n",
            " [1. 1. 1. 1. 1. 1. 1.]\n",
            " [1. 1. 1. 1. 1. 1. 1.]\n",
            " [1. 1. 1. 1. 1. 1. 1.]\n",
            " [1. 1. 1. 1. 1. 1. 1.]\n",
            " [1. 1. 1. 1. 1. 1. 1.]] \n",
            "\n"
          ]
        }
      ]
    },
    {
      "cell_type": "markdown",
      "metadata": {
        "id": "3ZheGm1KEMym"
      },
      "source": [
        "![Untitled Diagram (10).png](data:image/png;base64,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)"
      ]
    },
    {
      "cell_type": "markdown",
      "metadata": {
        "id": "-TBchBtEEQ6f"
      },
      "source": [
        "#### Zeros"
      ]
    },
    {
      "cell_type": "code",
      "metadata": {
        "colab": {
          "base_uri": "https://localhost:8080/"
        },
        "id": "gWe1BbREdUBd",
        "outputId": "0bdc7cfc-4962-4827-ad1e-4629fa3f7a9a"
      },
      "source": [
        "zero_mat_row = np.zeros((4,8))\n",
        "zero_mat_sqr = np.zeros((5,6))\n",
        "zero_mat_rct = np.zeros((6,7))\n",
        "\n",
        "print(f'Zeros Row Matrix: \\n\\n{zero_mat_row} \\n')\n",
        "print(f'Zeros Square Matrix: \\n\\n{zero_mat_sqr} \\n')\n",
        "print(f'Zeros Rectangular Matrix: \\n\\n{zero_mat_rct} \\n')"
      ],
      "execution_count": null,
      "outputs": [
        {
          "output_type": "stream",
          "name": "stdout",
          "text": [
            "Zeros Row Matrix: \n",
            "\n",
            "[[0. 0. 0. 0. 0. 0. 0. 0.]\n",
            " [0. 0. 0. 0. 0. 0. 0. 0.]\n",
            " [0. 0. 0. 0. 0. 0. 0. 0.]\n",
            " [0. 0. 0. 0. 0. 0. 0. 0.]] \n",
            "\n",
            "Zeros Square Matrix: \n",
            "\n",
            "[[0. 0. 0. 0. 0. 0.]\n",
            " [0. 0. 0. 0. 0. 0.]\n",
            " [0. 0. 0. 0. 0. 0.]\n",
            " [0. 0. 0. 0. 0. 0.]\n",
            " [0. 0. 0. 0. 0. 0.]] \n",
            "\n",
            "Zeros Rectangular Matrix: \n",
            "\n",
            "[[0. 0. 0. 0. 0. 0. 0.]\n",
            " [0. 0. 0. 0. 0. 0. 0.]\n",
            " [0. 0. 0. 0. 0. 0. 0.]\n",
            " [0. 0. 0. 0. 0. 0. 0.]\n",
            " [0. 0. 0. 0. 0. 0. 0.]\n",
            " [0. 0. 0. 0. 0. 0. 0.]] \n",
            "\n"
          ]
        }
      ]
    },
    {
      "cell_type": "markdown",
      "metadata": {
        "id": "2p6zKY_PET5Z"
      },
      "source": [
        "![Untitled Diagram (11).png](data:image/png;base64,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)"
      ]
    },
    {
      "cell_type": "markdown",
      "metadata": {
        "id": "TfB42cxTpnAT"
      },
      "source": [
        "### Task 2\n",
        "\n",
        "Create a function named `mat_operations()` that takes in two matrices a input parameters it should:<br>\n",
        " 1. Determines if the matrices are viable for operation and returns your own error message if they are not viable.\n",
        " 2. Returns the sum of the matrices.\n",
        " 3. Returns the difference of the matrices.\n",
        " 4. Returns the element-wise multiplication of the matrices.\n",
        " 5. Returns the element-wise division of the matrices.\n",
        "\n",
        "Use 5 sample matrices in which their shapes are not lower than $(3,3)$.\n",
        "In your methodology, create a flowchart discuss the functions and methods you have done. Present your results in the results section showing the description of each matrix you have declared."
      ]
    },
    {
      "cell_type": "markdown",
      "metadata": {
        "id": "fIHwNRd6p7BA"
      },
      "source": [
        "###  1. Determines if the matrices are viable for operation and returns your own error message if they are not viable."
      ]
    },
    {
      "cell_type": "code",
      "metadata": {
        "id": "dDcNqawFp-NN"
      },
      "source": [
        "C = np.array([\n",
        "    [3, 6, 7, 9],\n",
        "    [4, 9, 5, 6],\n",
        "    [1, 3, 7, 8],\n",
        "    [4, 6, 5, 7]\n",
        "])\n",
        "H = np.array([\n",
        "    [27, 24, 18, 14],\n",
        "    [52, 32, 40, 19],\n",
        "    [14, 23, 25, 16],\n",
        "    [21, 23, 16, 18]\n",
        "])\n",
        "E = np.array([\n",
        "    [6, 7, 8, 4],\n",
        "    [2, 5, 3, 5],\n",
        "    [2, 7, 8, 8],\n",
        "    [3, 5, 0, 2]\n",
        "])\n",
        "\n",
        "The matrices above is viable."
      ],
      "execution_count": null,
      "outputs": []
    },
    {
      "cell_type": "markdown",
      "metadata": {
        "id": "IfU5EVnQslIv"
      },
      "source": [
        " ### 2. Returns the sum of the matrices."
      ]
    },
    {
      "cell_type": "code",
      "metadata": {
        "colab": {
          "base_uri": "https://localhost:8080/"
        },
        "id": "eXcF_ZIjsaSG",
        "outputId": "7ba3cc04-1926-4e65-ff3b-3f25454ed293"
      },
      "source": [
        "C + E"
      ],
      "execution_count": null,
      "outputs": [
        {
          "output_type": "execute_result",
          "data": {
            "text/plain": [
              "array([[ 9, 13, 15, 13],\n",
              "       [ 6, 14,  8, 11],\n",
              "       [ 3, 10, 15, 16],\n",
              "       [ 7, 11,  5,  9]])"
            ]
          },
          "metadata": {},
          "execution_count": 111
        }
      ]
    },
    {
      "cell_type": "markdown",
      "metadata": {
        "id": "YGhoSvrAEbc2"
      },
      "source": [
        "![Untitled Diagram (12).png](data:image/png;base64,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)"
      ]
    },
    {
      "cell_type": "markdown",
      "metadata": {
        "id": "FTS6p3wospRP"
      },
      "source": [
        "###  3. Returns the difference of the matrices."
      ]
    },
    {
      "cell_type": "code",
      "metadata": {
        "colab": {
          "base_uri": "https://localhost:8080/"
        },
        "id": "EbrN-HRVst0V",
        "outputId": "4a522ea3-3d25-4144-f437-2b6453f2700d"
      },
      "source": [
        "H - C"
      ],
      "execution_count": null,
      "outputs": [
        {
          "output_type": "execute_result",
          "data": {
            "text/plain": [
              "array([[24, 18, 11,  5],\n",
              "       [48, 23, 35, 13],\n",
              "       [13, 20, 18,  8],\n",
              "       [17, 17, 11, 11]])"
            ]
          },
          "metadata": {},
          "execution_count": 112
        }
      ]
    },
    {
      "cell_type": "markdown",
      "metadata": {
        "id": "xOoeH-WhEean"
      },
      "source": [
        "![Untitled Diagram (13).png](data:image/png;base64,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)"
      ]
    },
    {
      "cell_type": "markdown",
      "metadata": {
        "id": "bhd8e40dsyFS"
      },
      "source": [
        "### 4. Returns the element-wise multiplication of the matrices."
      ]
    },
    {
      "cell_type": "code",
      "metadata": {
        "colab": {
          "base_uri": "https://localhost:8080/"
        },
        "id": "kdOMF5_Ys19x",
        "outputId": "394e7957-4d3a-434b-e089-76b7834802fd"
      },
      "source": [
        "C * E"
      ],
      "execution_count": null,
      "outputs": [
        {
          "output_type": "execute_result",
          "data": {
            "text/plain": [
              "array([[18, 42, 56, 36],\n",
              "       [ 8, 45, 15, 30],\n",
              "       [ 2, 21, 56, 64],\n",
              "       [12, 30,  0, 14]])"
            ]
          },
          "metadata": {},
          "execution_count": 113
        }
      ]
    },
    {
      "cell_type": "code",
      "metadata": {
        "colab": {
          "base_uri": "https://localhost:8080/"
        },
        "id": "re3a6wrktNsb",
        "outputId": "04ee9833-ac38-43c2-f0ec-9e08de424715"
      },
      "source": [
        "H * C"
      ],
      "execution_count": null,
      "outputs": [
        {
          "output_type": "execute_result",
          "data": {
            "text/plain": [
              "array([[ 81, 144, 126, 126],\n",
              "       [208, 288, 200, 114],\n",
              "       [ 14,  69, 175, 128],\n",
              "       [ 84, 138,  80, 126]])"
            ]
          },
          "metadata": {},
          "execution_count": 5
        }
      ]
    },
    {
      "cell_type": "markdown",
      "metadata": {
        "id": "LvOA5aPIEkB6"
      },
      "source": [
        "![Untitled Diagram (16).png](data:image/png;base64,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)"
      ]
    },
    {
      "cell_type": "markdown",
      "metadata": {
        "id": "oAo4_ER1tkO3"
      },
      "source": [
        "### 5. Returns the element-wise division of the matrices."
      ]
    },
    {
      "cell_type": "code",
      "metadata": {
        "colab": {
          "base_uri": "https://localhost:8080/"
        },
        "id": "Ns4ffmWJtpSv",
        "outputId": "d6191adc-9c23-45d6-dd32-a2ee1b1c7f15"
      },
      "source": [
        "H / C"
      ],
      "execution_count": null,
      "outputs": [
        {
          "output_type": "execute_result",
          "data": {
            "text/plain": [
              "array([[ 9.        ,  4.        ,  2.57142857,  1.55555556],\n",
              "       [13.        ,  3.55555556,  8.        ,  3.16666667],\n",
              "       [14.        ,  7.66666667,  3.57142857,  2.        ],\n",
              "       [ 5.25      ,  3.83333333,  3.2       ,  2.57142857]])"
            ]
          },
          "metadata": {},
          "execution_count": 118
        }
      ]
    },
    {
      "cell_type": "markdown",
      "metadata": {
        "id": "y_vGQHz6EmRG"
      },
      "source": [
        "![Untitled Diagram (15).png](data:image/png;base64,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)"
      ]
    },
    {
      "cell_type": "markdown",
      "metadata": {
        "id": "I0yAuLmQvJui"
      },
      "source": [
        "## Conclusion\n",
        "\n",
        "  In conclusion, this lesson the student learned how to make matrices using the Python programming. Also, the students can describe the matrix according to its shape, rank and can display the matrix that was imputed by the user. Not only this but also this lesson also covers the numbers of row and column of the given matrix. In connection to this, having this kind of idea the student also is capable to identify if the given matrix is a square or not and if the matrix is null. Applying the knowledge that has been taught last lesson the student uses the conditional statement to achieve this program. The zero matrix and ones matrix has the same form of matrix the only difference is that the zero matrix has an element of 0 and ones matrix has an element of 1. The diagonal matrix and the identity matrix have the same concept but the values in identity matrix composes one while the diagonal matrix can be any value but both can be seen in a diagonal of the matrix. Also, the student learned about the difference between the upper and lower triangular of the matrix. The professor also discussed the matrix algebra which is discussed in the lecture during the synchronous meeting. This uses the different operations such as: addition, subtraction, multiplication and division. Simply by using the specific symbols and imputing the matrices that is needed to be computed. \n",
        "\n",
        "Questions that students always ask is how is that lesson help us in real life. To answer this question. The matrices can easily identify different dimensions when it comes to the graphics of an object. This is very common to the pixels of the game that was being created just by simply using the rows and column of the matrix since it has a corresponding value. Which can lessen the problem that the programmer may encounter and to create a more interactive and a greater graphics.\n"
      ]
    }
  ]
}