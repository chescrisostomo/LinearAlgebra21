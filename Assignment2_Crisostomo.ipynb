{
  "nbformat": 4,
  "nbformat_minor": 0,
  "metadata": {
    "colab": {
      "name": "Assignment2.ipynb",
      "provenance": [],
      "collapsed_sections": [],
      "authorship_tag": "ABX9TyOgx6iDRhVZpfbAds7PKiB9",
      "include_colab_link": true
    },
    "kernelspec": {
      "name": "python3",
      "display_name": "Python 3"
    },
    "language_info": {
      "name": "python"
    }
  },
  "cells": [
    {
      "cell_type": "markdown",
      "metadata": {
        "id": "view-in-github",
        "colab_type": "text"
      },
      "source": [
        "<a href=\"https://colab.research.google.com/github/chescrisostomo/LinearAlgebra21/blob/main/Assignment2_Crisostomo.ipynb\" target=\"_parent\"><img src=\"https://colab.research.google.com/assets/colab-badge.svg\" alt=\"Open In Colab\"/></a>"
      ]
    },
    {
      "cell_type": "markdown",
      "metadata": {
        "id": "pBy8NGyDZ3i6"
      },
      "source": [
        "![image](https://www.wallpaperkiss.com/wimg/b/160-1609340_big.png)"
      ]
    },
    {
      "cell_type": "markdown",
      "metadata": {
        "id": "znRKiex11zpx"
      },
      "source": [
        "# Welcome to Python Fundamentals\n",
        "In this module, we are going to establish our skills in Python programming. In this notebook we are going to cover:\n",
        "\n",
        "* Variables and Data Types\n",
        "* Operations\n",
        "* Input and Output Operations\n",
        "* Logic Control\n",
        "* Iterables\n",
        "* Functions\n",
        "\n"
      ]
    },
    {
      "cell_type": "markdown",
      "metadata": {
        "id": "ROWbBRZl2rD7"
      },
      "source": [
        "# Variables and Data Types\n",
        " \n",
        "Variables are the one responsible for the storage of a value so that variables that were coded is stored in a memory to be used in further programming of the user. These variables can only be used when it is declared or assigned in the program. There different data types such as numerical data types, integers, float, strings, lists and etc. [1]"
      ]
    },
    {
      "cell_type": "markdown",
      "metadata": {
        "id": "twAT_rpUoZbD"
      },
      "source": [
        "![image](https://files.realpython.com/media/Basic-Data-Types-in-Python_Watermarked.49e17138407b.jpg)\n"
      ]
    },
    {
      "cell_type": "code",
      "metadata": {
        "id": "5VWlBBFF3Cu8"
      },
      "source": [
        "x = 1\n",
        "a, b = 3, -2\n"
      ],
      "execution_count": null,
      "outputs": []
    },
    {
      "cell_type": "code",
      "metadata": {
        "colab": {
          "base_uri": "https://localhost:8080/"
        },
        "id": "qGm552Ks3eqa",
        "outputId": "e20da4ad-2bf3-47ca-8a5c-af88ec6c716c"
      },
      "source": [
        "type(x)"
      ],
      "execution_count": null,
      "outputs": [
        {
          "output_type": "execute_result",
          "data": {
            "text/plain": [
              "int"
            ]
          },
          "metadata": {},
          "execution_count": 5
        }
      ]
    },
    {
      "cell_type": "code",
      "metadata": {
        "colab": {
          "base_uri": "https://localhost:8080/"
        },
        "id": "2_j6rRA63nKk",
        "outputId": "2fe10a4a-364d-4438-e242-3f904d6634a0"
      },
      "source": [
        "y = 3.0\n",
        "type(y)"
      ],
      "execution_count": null,
      "outputs": [
        {
          "output_type": "execute_result",
          "data": {
            "text/plain": [
              "float"
            ]
          },
          "metadata": {},
          "execution_count": 6
        }
      ]
    },
    {
      "cell_type": "code",
      "metadata": {
        "colab": {
          "base_uri": "https://localhost:8080/"
        },
        "id": "PjypigIF37HY",
        "outputId": "da73d8d6-6d7b-4138-ab14-f02a2ef975ad"
      },
      "source": [
        "x = float(x)\n",
        "type(x)\n",
        "x"
      ],
      "execution_count": null,
      "outputs": [
        {
          "output_type": "execute_result",
          "data": {
            "text/plain": [
              "1.0"
            ]
          },
          "metadata": {},
          "execution_count": 7
        }
      ]
    },
    {
      "cell_type": "code",
      "metadata": {
        "colab": {
          "base_uri": "https://localhost:8080/"
        },
        "id": "BLey0Q2E4LyE",
        "outputId": "9f942836-9bb1-41a5-c13a-4f830474df4a"
      },
      "source": [
        "s, t, u = \"1\", \"3\", \"three\"\n",
        "type(u)"
      ],
      "execution_count": null,
      "outputs": [
        {
          "output_type": "execute_result",
          "data": {
            "text/plain": [
              "str"
            ]
          },
          "metadata": {},
          "execution_count": 10
        }
      ]
    },
    {
      "cell_type": "markdown",
      "metadata": {
        "id": "-4HO6Wht4nrO"
      },
      "source": [
        "## Operations\n",
        "\n",
        "Operators are symbols in Python where it perform the arithmatic and logical computation of an operation. There are different types of Operators in Python these are Arithmatic operators, Comparison operators, logical operators and etc. [2]"
      ]
    },
    {
      "cell_type": "markdown",
      "metadata": {
        "id": "UGbnypnIuW6y"
      },
      "source": [
        "![image](https://files.realpython.com/media/Operators-and-Expressions-in-Python_Watermarked.1c057c3cc6cd.jpg)"
      ]
    },
    {
      "cell_type": "markdown",
      "metadata": {
        "id": "qfdYo1mn4uF_"
      },
      "source": [
        "### Arithmatic Operators\n",
        "\n",
        "In arithmatic operators this is where mathematical operations were used. Examples of this are addition, subtraction, multiplication and etc. [2]"
      ]
    },
    {
      "cell_type": "code",
      "metadata": {
        "id": "qqWf-Q4D40mb"
      },
      "source": [
        "w, x, y, z = 4.0, -3.0, 2, -32\n"
      ],
      "execution_count": null,
      "outputs": []
    },
    {
      "cell_type": "code",
      "metadata": {
        "colab": {
          "base_uri": "https://localhost:8080/"
        },
        "id": "_fQytxZI5HxX",
        "outputId": "14e3420b-391c-4c70-f87c-fc0113111a04"
      },
      "source": [
        "### Addition\n",
        "S = w + x"
      ],
      "execution_count": null,
      "outputs": [
        {
          "output_type": "execute_result",
          "data": {
            "text/plain": [
              "1.0"
            ]
          },
          "metadata": {},
          "execution_count": 15
        }
      ]
    },
    {
      "cell_type": "code",
      "metadata": {
        "colab": {
          "base_uri": "https://localhost:8080/"
        },
        "id": "SMpZkj_D5daq",
        "outputId": "08b91f0a-565c-4cc9-cfe2-934e528b3252"
      },
      "source": [
        "### Subtraction\n",
        "D = y - z"
      ],
      "execution_count": null,
      "outputs": [
        {
          "output_type": "execute_result",
          "data": {
            "text/plain": [
              "33"
            ]
          },
          "metadata": {},
          "execution_count": 16
        }
      ]
    },
    {
      "cell_type": "code",
      "metadata": {
        "colab": {
          "base_uri": "https://localhost:8080/"
        },
        "id": "sn6-hvH15l_0",
        "outputId": "7edb6136-fdda-4f91-d1af-74994a9d0522"
      },
      "source": [
        "### Multiplication\n",
        "P = w * z"
      ],
      "execution_count": null,
      "outputs": [
        {
          "output_type": "execute_result",
          "data": {
            "text/plain": [
              "-128.0"
            ]
          },
          "metadata": {},
          "execution_count": 17
        }
      ]
    },
    {
      "cell_type": "code",
      "metadata": {
        "colab": {
          "base_uri": "https://localhost:8080/"
        },
        "id": "jvJHTBuK5veG",
        "outputId": "60462e7b-d08c-4709-972c-49bfbfad27c8"
      },
      "source": [
        "### Division\n",
        "Q = y / x"
      ],
      "execution_count": null,
      "outputs": [
        {
          "output_type": "execute_result",
          "data": {
            "text/plain": [
              "-0.3333333333333333"
            ]
          },
          "metadata": {},
          "execution_count": 20
        }
      ]
    },
    {
      "cell_type": "code",
      "metadata": {
        "colab": {
          "base_uri": "https://localhost:8080/"
        },
        "id": "MU2MoavM6Uf5",
        "outputId": "404f6455-7d4b-4243-9fbd-6bcfd1c2dacf"
      },
      "source": [
        "### Floor Division (Rounding up)\n",
        "Qf = w // x"
      ],
      "execution_count": null,
      "outputs": [
        {
          "output_type": "execute_result",
          "data": {
            "text/plain": [
              "-2.0"
            ]
          },
          "metadata": {},
          "execution_count": 23
        }
      ]
    },
    {
      "cell_type": "code",
      "metadata": {
        "colab": {
          "base_uri": "https://localhost:8080/"
        },
        "id": "jw2SXJdA7FBO",
        "outputId": "07f59ff0-4a52-4b1f-c79d-88ad83644ff8"
      },
      "source": [
        "### Exponentiation (Raise power)\n",
        "E = w**w"
      ],
      "execution_count": null,
      "outputs": [
        {
          "output_type": "execute_result",
          "data": {
            "text/plain": [
              "256.0"
            ]
          },
          "metadata": {},
          "execution_count": 26
        }
      ]
    },
    {
      "cell_type": "code",
      "metadata": {
        "colab": {
          "base_uri": "https://localhost:8080/"
        },
        "id": "o8CAbOgE7Wy4",
        "outputId": "56f71ebe-e8ab-4d61-f4f3-ef2344e9450a"
      },
      "source": [
        "### Modulo (Remainder)\n",
        "mod = z % x"
      ],
      "execution_count": null,
      "outputs": [
        {
          "output_type": "execute_result",
          "data": {
            "text/plain": [
              "-2.0"
            ]
          },
          "metadata": {},
          "execution_count": 27
        }
      ]
    },
    {
      "cell_type": "markdown",
      "metadata": {
        "id": "h6DyNZPQ7u-N"
      },
      "source": [
        "### Assignment Operations\n",
        "\n",
        "In Assignment operators is the assigning of values in a variable. The operators usually used in assignment operations are: =, +=, -=, *= and etc. [2]"
      ]
    },
    {
      "cell_type": "code",
      "metadata": {
        "id": "vjJacah87xyw"
      },
      "source": [
        "A, B, C, D, E = 0, 100, 2, 1, 2"
      ],
      "execution_count": null,
      "outputs": []
    },
    {
      "cell_type": "code",
      "metadata": {
        "colab": {
          "base_uri": "https://localhost:8080/"
        },
        "id": "3S5nLi4F73rD",
        "outputId": "7d186d23-acc6-4062-facc-0c1fba46fb1e"
      },
      "source": [
        "### Increment\n",
        "A += w"
      ],
      "execution_count": null,
      "outputs": [
        {
          "output_type": "execute_result",
          "data": {
            "text/plain": [
              "12.0"
            ]
          },
          "metadata": {},
          "execution_count": 31
        }
      ]
    },
    {
      "cell_type": "code",
      "metadata": {
        "colab": {
          "base_uri": "https://localhost:8080/"
        },
        "id": "UJSc8m2Z8RZN",
        "outputId": "50a86766-a0aa-4222-e79a-0fc98a5986b7"
      },
      "source": [
        "### Decrement\n",
        "B -= x"
      ],
      "execution_count": null,
      "outputs": [
        {
          "output_type": "execute_result",
          "data": {
            "text/plain": [
              "103.0"
            ]
          },
          "metadata": {},
          "execution_count": 32
        }
      ]
    },
    {
      "cell_type": "code",
      "metadata": {
        "colab": {
          "base_uri": "https://localhost:8080/"
        },
        "id": "6FwLlup_8ciy",
        "outputId": "4e2a69f9-8e9a-4149-9f33-3dc56f71f5e4"
      },
      "source": [
        "C *= w"
      ],
      "execution_count": null,
      "outputs": [
        {
          "output_type": "execute_result",
          "data": {
            "text/plain": [
              "32.0"
            ]
          },
          "metadata": {},
          "execution_count": 36
        }
      ]
    },
    {
      "cell_type": "code",
      "metadata": {
        "colab": {
          "base_uri": "https://localhost:8080/"
        },
        "id": "OCnxxFf39TVT",
        "outputId": "fe41ad63-a285-4a0f-85d4-cc94ba7f5e76"
      },
      "source": [
        "D /= x"
      ],
      "execution_count": null,
      "outputs": [
        {
          "output_type": "execute_result",
          "data": {
            "text/plain": [
              "-0.3333333333333333"
            ]
          },
          "metadata": {},
          "execution_count": 37
        }
      ]
    },
    {
      "cell_type": "code",
      "metadata": {
        "colab": {
          "base_uri": "https://localhost:8080/"
        },
        "id": "agXVn8Q59eGX",
        "outputId": "f8ba2809-a813-4177-9f82-3d7cc27276e8"
      },
      "source": [
        "E **= y"
      ],
      "execution_count": null,
      "outputs": [
        {
          "output_type": "execute_result",
          "data": {
            "text/plain": [
              "256.0"
            ]
          },
          "metadata": {},
          "execution_count": 44
        }
      ]
    },
    {
      "cell_type": "markdown",
      "metadata": {
        "id": "g9rW3iBu-TJv"
      },
      "source": [
        "### Comparators Operations\n",
        "\n",
        "In Comparators operation is the comparing between to variables. The ouput of this is True or False depending on the condition given by the user. The operotrs usually used in comparators are: <, >, == and etc. [2]"
      ]
    },
    {
      "cell_type": "code",
      "metadata": {
        "id": "J0QOopXN-WFL"
      },
      "source": [
        "size_1, size_2, size_3 = 1, 2.0, \"1\"\n",
        "true_size = 1.0"
      ],
      "execution_count": null,
      "outputs": []
    },
    {
      "cell_type": "code",
      "metadata": {
        "colab": {
          "base_uri": "https://localhost:8080/"
        },
        "id": "KEx0mD_U-hBN",
        "outputId": "2e1bdb95-594d-4812-f401-5c898ba4c806"
      },
      "source": [
        "## Equality\n",
        "size_1 == true_size"
      ],
      "execution_count": null,
      "outputs": [
        {
          "output_type": "execute_result",
          "data": {
            "text/plain": [
              "True"
            ]
          },
          "metadata": {},
          "execution_count": 47
        }
      ]
    },
    {
      "cell_type": "code",
      "metadata": {
        "colab": {
          "base_uri": "https://localhost:8080/"
        },
        "id": "c5-0FE2n-1Gi",
        "outputId": "1fca3e33-af6e-43b6-fe73-1460e6338fee"
      },
      "source": [
        "## Non-Equality\n",
        "size_2 != true_size"
      ],
      "execution_count": null,
      "outputs": [
        {
          "output_type": "execute_result",
          "data": {
            "text/plain": [
              "True"
            ]
          },
          "metadata": {},
          "execution_count": 48
        }
      ]
    },
    {
      "cell_type": "code",
      "metadata": {
        "colab": {
          "base_uri": "https://localhost:8080/"
        },
        "id": "pFx_3d6h-_eZ",
        "outputId": "16538543-3842-4d0e-99a3-d2fcee55ab18"
      },
      "source": [
        "## Inequality\n",
        "s1 = size_1 > size_2 \n",
        "s2 = size_1 < size_2/2\n",
        "s3 = true_size >= size_1\n",
        "s4 = size_2 <= true_size\n",
        "s4"
      ],
      "execution_count": null,
      "outputs": [
        {
          "output_type": "execute_result",
          "data": {
            "text/plain": [
              "False"
            ]
          },
          "metadata": {},
          "execution_count": 56
        }
      ]
    },
    {
      "cell_type": "markdown",
      "metadata": {
        "id": "EzutwPs4_3SA"
      },
      "source": [
        "### Logical Operations\n",
        "\n",
        "In logical operations uses and, or and not as operators."
      ]
    },
    {
      "cell_type": "code",
      "metadata": {
        "colab": {
          "base_uri": "https://localhost:8080/"
        },
        "id": "Mc-wL9mc_5WX",
        "outputId": "1b8fed41-f5c2-4a50-890f-a704512e3cdd"
      },
      "source": [
        "size_1 == true_size"
      ],
      "execution_count": null,
      "outputs": [
        {
          "output_type": "execute_result",
          "data": {
            "text/plain": [
              "1"
            ]
          },
          "metadata": {},
          "execution_count": 57
        }
      ]
    },
    {
      "cell_type": "code",
      "metadata": {
        "colab": {
          "base_uri": "https://localhost:8080/"
        },
        "id": "Zpev9_QbAFxV",
        "outputId": "e11f77b7-f509-44ab-c201-eae7d015bdf9"
      },
      "source": [
        "size_1 is true_size"
      ],
      "execution_count": null,
      "outputs": [
        {
          "output_type": "execute_result",
          "data": {
            "text/plain": [
              "False"
            ]
          },
          "metadata": {},
          "execution_count": 59
        }
      ]
    },
    {
      "cell_type": "code",
      "metadata": {
        "colab": {
          "base_uri": "https://localhost:8080/"
        },
        "id": "RmlkeBUHAaa6",
        "outputId": "9475a388-6e30-4790-c67b-a1aa31f07569"
      },
      "source": [
        "size_1 is not true_size"
      ],
      "execution_count": null,
      "outputs": [
        {
          "output_type": "execute_result",
          "data": {
            "text/plain": [
              "True"
            ]
          },
          "metadata": {},
          "execution_count": 60
        }
      ]
    },
    {
      "cell_type": "code",
      "metadata": {
        "colab": {
          "base_uri": "https://localhost:8080/"
        },
        "id": "dMDeKMkrAfrq",
        "outputId": "08e87e62-4a1e-4ff8-b5c1-dab2c3b014e7"
      },
      "source": [
        "## Conjunction (and)\n",
        "P, Q = True, False\n",
        "conj = P and Q"
      ],
      "execution_count": null,
      "outputs": [
        {
          "output_type": "execute_result",
          "data": {
            "text/plain": [
              "False"
            ]
          },
          "metadata": {},
          "execution_count": 65
        }
      ]
    },
    {
      "cell_type": "code",
      "metadata": {
        "colab": {
          "base_uri": "https://localhost:8080/"
        },
        "id": "y7ggH4XzA-gX",
        "outputId": "406feffb-e2c2-4d0d-be27-af7a9f67332f"
      },
      "source": [
        "## Disjunction (or)\n",
        "disj = P or Q"
      ],
      "execution_count": null,
      "outputs": [
        {
          "output_type": "execute_result",
          "data": {
            "text/plain": [
              "True"
            ]
          },
          "metadata": {},
          "execution_count": 66
        }
      ]
    },
    {
      "cell_type": "code",
      "metadata": {
        "colab": {
          "base_uri": "https://localhost:8080/"
        },
        "id": "Qy4m9t7iBHI9",
        "outputId": "124a6554-8637-4884-86bc-22b35a1358de"
      },
      "source": [
        "## Nand (not)\n",
        "nand = not (P and Q)\n",
        "nand"
      ],
      "execution_count": null,
      "outputs": [
        {
          "output_type": "execute_result",
          "data": {
            "text/plain": [
              "True"
            ]
          },
          "metadata": {},
          "execution_count": 67
        }
      ]
    },
    {
      "cell_type": "code",
      "metadata": {
        "colab": {
          "base_uri": "https://localhost:8080/"
        },
        "id": "G4RlLyPpBVZi",
        "outputId": "6ee56532-42ff-492b-d9b9-8cc79dab119f"
      },
      "source": [
        "xor = (not P and Q) or (P and not Q)\n",
        "xor"
      ],
      "execution_count": null,
      "outputs": [
        {
          "output_type": "execute_result",
          "data": {
            "text/plain": [
              "True"
            ]
          },
          "metadata": {},
          "execution_count": 68
        }
      ]
    },
    {
      "cell_type": "markdown",
      "metadata": {
        "id": "XaeacFlrBxib"
      },
      "source": [
        "## Input and Output\n",
        "\n",
        "Input in Python are used when the user are required to fill in a data and executed by input (). While on the other hand, the ouput is where the programmer need to present the data that are needed back to its user and executed by print (). [3]"
      ]
    },
    {
      "cell_type": "markdown",
      "metadata": {
        "id": "uD2Gz6BmznjK"
      },
      "source": [
        "![image](https://files.realpython.com/media/Basic-Input-Output-and-String-Formatting-in-Python_Watermarked.59ecd279c01b.jpg)"
      ]
    },
    {
      "cell_type": "code",
      "metadata": {
        "colab": {
          "base_uri": "https://localhost:8080/"
        },
        "id": "v0jw5WXRB07D",
        "outputId": "7f98de31-1e9f-4f29-c04a-9a184a00214c"
      },
      "source": [
        "print(\"Hello World!\")"
      ],
      "execution_count": null,
      "outputs": [
        {
          "output_type": "stream",
          "name": "stdout",
          "text": [
            "Hello World!\n"
          ]
        }
      ]
    },
    {
      "cell_type": "code",
      "metadata": {
        "id": "vs6cvO1hCDLC"
      },
      "source": [
        "cnt = 14000"
      ],
      "execution_count": null,
      "outputs": []
    },
    {
      "cell_type": "code",
      "metadata": {
        "colab": {
          "base_uri": "https://localhost:8080/"
        },
        "id": "CUqXDPnDCH69",
        "outputId": "e178b632-f1dd-4a2b-ca88-bc0e4c5bd3b4"
      },
      "source": [
        "string = \"Hello World!\"\n",
        "print(string, \", Current COVID count is:\", cnt)\n",
        "cnt += 10000"
      ],
      "execution_count": null,
      "outputs": [
        {
          "output_type": "stream",
          "name": "stdout",
          "text": [
            "Hello World! , Current COVID count is: 24003\n"
          ]
        }
      ]
    },
    {
      "cell_type": "code",
      "metadata": {
        "colab": {
          "base_uri": "https://localhost:8080/"
        },
        "id": "5-WHIPYEC5YJ",
        "outputId": "cc42f8a5-b429-4568-ba54-f9c5d1ba5178"
      },
      "source": [
        "print (f\"{string}, current count is: {cnt}\")"
      ],
      "execution_count": null,
      "outputs": [
        {
          "output_type": "stream",
          "name": "stdout",
          "text": [
            "Hello World!, current count is: 34003\n"
          ]
        }
      ]
    },
    {
      "cell_type": "code",
      "metadata": {
        "colab": {
          "base_uri": "https://localhost:8080/"
        },
        "id": "TUbUt6ELDyJJ",
        "outputId": "392f4096-f821-4262-8ef3-de646d1b14de"
      },
      "source": [
        "sem_grade = 86.25\n",
        "name = \"Chesca\"\n",
        "print(\"Hello {}, your semestral grade is: {}\" .format(name, sem_grade))"
      ],
      "execution_count": null,
      "outputs": [
        {
          "output_type": "stream",
          "name": "stdout",
          "text": [
            "Hello Chesca, your semestral grade is: 86.25\n"
          ]
        }
      ]
    },
    {
      "cell_type": "code",
      "metadata": {
        "colab": {
          "base_uri": "https://localhost:8080/"
        },
        "id": "_RCZsM_HDKDl",
        "outputId": "9d286159-88e7-4d67-8e9e-b3e651f05829"
      },
      "source": [
        "pg, mg, fg = 0.3, 0.3, 0.4\n",
        "print(\"The weight of your semestral grade are:\\\n",
        "\\n\\t {:.2%} for Prelims\\\n",
        "\\n\\t {:.2%} for Midterms, and\\\n",
        "\\n\\t {:.2%} for Finals.\".format(pg, mg, fg))"
      ],
      "execution_count": null,
      "outputs": [
        {
          "output_type": "stream",
          "name": "stdout",
          "text": [
            "The weight of your semestral grade are:\n",
            "\t 30.00% for Prelims\n",
            "\t 30.00% for Midterms, and\n",
            "\t 40.00% for Finals.\n"
          ]
        }
      ]
    },
    {
      "cell_type": "code",
      "metadata": {
        "colab": {
          "base_uri": "https://localhost:8080/",
          "height": 52
        },
        "id": "bi_Anqs5FfIc",
        "outputId": "24c01007-90d7-4587-ad63-3decb21c0cb0"
      },
      "source": [
        "e = input(\"Enter a number: \")\n",
        "e\n"
      ],
      "execution_count": null,
      "outputs": [
        {
          "name": "stdout",
          "output_type": "stream",
          "text": [
            "Enter a number: 2\n"
          ]
        },
        {
          "output_type": "execute_result",
          "data": {
            "application/vnd.google.colaboratory.intrinsic+json": {
              "type": "string"
            },
            "text/plain": [
              "'2'"
            ]
          },
          "metadata": {},
          "execution_count": 93
        }
      ]
    },
    {
      "cell_type": "code",
      "metadata": {
        "colab": {
          "base_uri": "https://localhost:8080/"
        },
        "id": "nWhhFlzgFzX9",
        "outputId": "35264ed9-1a55-40f4-fc2d-81f9871e5a30"
      },
      "source": [
        "name = input(\"Enter your name: \")\n",
        "pg = input(\"Enter prelim grade: \")\n",
        "mg = input(\"Enter midterm grade: \")\n",
        "fg = input(\"Enter final grade: \")\n",
        "sem_grade = None\n",
        "print (\"Hello {}, your semestral grade is: {}\".format(name, sem_grade))"
      ],
      "execution_count": null,
      "outputs": [
        {
          "output_type": "stream",
          "name": "stdout",
          "text": [
            "Enter your name: CHesca\n",
            "Enter prelim grade: 12\n",
            "Enter midterm grade: 23\n",
            "Enter final grade: 23\n",
            "Hello CHesca, your semestral grade is: None\n"
          ]
        }
      ]
    },
    {
      "cell_type": "markdown",
      "metadata": {
        "id": "pEDef__bLNsR"
      },
      "source": [
        "## Looping Statement \n",
        "\n",
        "Looping statement is the one responsible for the execution of a statement in a multiple tries. There different types of loops and these are: while loop, for loop and nested loop. [4]"
      ]
    },
    {
      "cell_type": "markdown",
      "metadata": {
        "id": "VP1vnsDBLT8r"
      },
      "source": [
        "## While Loop\n",
        "\n",
        "While loop repeats a statement whenever the condition is true. [4]"
      ]
    },
    {
      "cell_type": "markdown",
      "metadata": {
        "id": "kxLj4onn34mG"
      },
      "source": [
        "![image](https://files.realpython.com/media/Python-while-Loops-Indefinite-Iteration_Watermarked.ef0b89ed9dae.jpg)\n"
      ]
    },
    {
      "cell_type": "code",
      "metadata": {
        "colab": {
          "base_uri": "https://localhost:8080/"
        },
        "id": "Mqbr2V1aLV7G",
        "outputId": "4f2aa4cc-47c4-4be4-8dd4-4a9d97a4b46f"
      },
      "source": [
        "## while loops\n",
        "i, j = 0 , 10\n",
        "while(i<=j):\n",
        "    print(f\"{i}\\t|\\t{j}\")\n",
        "    i += 1"
      ],
      "execution_count": null,
      "outputs": [
        {
          "output_type": "stream",
          "name": "stdout",
          "text": [
            "0\t|\t10\n",
            "1\t|\t10\n",
            "2\t|\t10\n",
            "3\t|\t10\n",
            "4\t|\t10\n",
            "5\t|\t10\n",
            "6\t|\t10\n",
            "7\t|\t10\n",
            "8\t|\t10\n",
            "9\t|\t10\n",
            "10\t|\t10\n"
          ]
        }
      ]
    },
    {
      "cell_type": "markdown",
      "metadata": {
        "id": "aGYQbbZcL6ik"
      },
      "source": [
        "## For\n",
        "\n",
        "For loop shows a sequence of output or statements in multiple times depending on the inputed statement of the programmer. [4]"
      ]
    },
    {
      "cell_type": "markdown",
      "metadata": {
        "id": "4NyoaEPY4AYb"
      },
      "source": [
        "![image](https://files.realpython.com/media/Python-for-Loops-Definite-Iteration_Watermarked.b38126d495e1.jpg)\n"
      ]
    },
    {
      "cell_type": "code",
      "metadata": {
        "colab": {
          "base_uri": "https://localhost:8080/"
        },
        "id": "XWyFrDCML75X",
        "outputId": "e69ba2b7-8a57-4aa9-d83b-ac4fbe840300"
      },
      "source": [
        "## for(int = 0; i<10; 1++){\n",
        "# printf(i)    \n",
        "# }\n",
        "\n",
        "i =0 \n",
        "for i in range(11):\n",
        "    print(i)"
      ],
      "execution_count": null,
      "outputs": [
        {
          "output_type": "stream",
          "name": "stdout",
          "text": [
            "0\n",
            "1\n",
            "2\n",
            "3\n",
            "4\n",
            "5\n",
            "6\n",
            "7\n",
            "8\n",
            "9\n",
            "10\n"
          ]
        }
      ]
    },
    {
      "cell_type": "code",
      "metadata": {
        "colab": {
          "base_uri": "https://localhost:8080/"
        },
        "id": "PzFtTouYMtGi",
        "outputId": "a2e679d4-cca7-456a-b257-dcb446024fc8"
      },
      "source": [
        "playlist = [\"Bahay Kubo\", \"Magandang Kanta\", \"Buko\"]\n",
        "print('Now Playing:\\n')\n",
        "for song in playlist:\n",
        "  print(song)"
      ],
      "execution_count": null,
      "outputs": [
        {
          "output_type": "stream",
          "name": "stdout",
          "text": [
            "Now Playing:\n",
            "\n",
            "Bahay Kubo\n",
            "Magandang Kanta\n",
            "Buko\n"
          ]
        }
      ]
    },
    {
      "cell_type": "markdown",
      "metadata": {
        "id": "F8oq5uOKNOBD"
      },
      "source": [
        "## Flow Control\n",
        "\n",
        "The flow control in Python is the order where the codes that has been inputed are executed. [5]"
      ]
    },
    {
      "cell_type": "markdown",
      "metadata": {
        "id": "oPApBQFW7EWm"
      },
      "source": [
        "![image](https://files.realpython.com/media/Conditional-Statements-in-Python_Watermarked.9fe9d98a8558.jpg)"
      ]
    },
    {
      "cell_type": "markdown",
      "metadata": {
        "id": "w9TiXuwJNSiN"
      },
      "source": [
        "### Condition Statements\n",
        "\n"
      ]
    },
    {
      "cell_type": "code",
      "metadata": {
        "colab": {
          "base_uri": "https://localhost:8080/"
        },
        "id": "70gSJXbXNVDb",
        "outputId": "b9342d43-93f2-4d3b-c48a-c9daf8e25f9e"
      },
      "source": [
        "num_1, num_2 = 23, 13\n",
        "if(num_1 == num_2):\n",
        "  print(\"HAHA\")\n",
        "elif(num_1>num_2):\n",
        "  print(\"HOHO\")\n",
        "else:\n",
        "  print(\"HUHU\")"
      ],
      "execution_count": null,
      "outputs": [
        {
          "output_type": "stream",
          "name": "stdout",
          "text": [
            "HOHO\n"
          ]
        }
      ]
    },
    {
      "cell_type": "markdown",
      "metadata": {
        "id": "TctUsCAoN8VP"
      },
      "source": [
        "## Functions\n",
        "\n",
        "In functions this are groups that execute commands given in a task. [6]"
      ]
    },
    {
      "cell_type": "markdown",
      "metadata": {
        "id": "9ImgxY7mEopF"
      },
      "source": [
        "![image](https://files.realpython.com/media/Operator-and-Function-Overloading-in-Custom-Python-Classes_Watermarked.3a8e3f4682bc.jpg)"
      ]
    },
    {
      "cell_type": "code",
      "metadata": {
        "id": "OtNOXU2ON_qs"
      },
      "source": [
        "# void DeleteUser (int userid){\n",
        "# delete(userid);\n",
        "# }\n",
        "\n",
        "def delete_user (userid):\n",
        "  print(\"successfully deleted user: {}\" .format(userid))\n"
      ],
      "execution_count": null,
      "outputs": []
    },
    {
      "cell_type": "code",
      "metadata": {
        "colab": {
          "base_uri": "https://localhost:8080/"
        },
        "id": "Spj_cGQAOcPV",
        "outputId": "c035388b-94b4-4b83-903b-a93421ef2e4b"
      },
      "source": [
        "userid = 2020_100010\n",
        "delete_user(2020_100010)"
      ],
      "execution_count": null,
      "outputs": [
        {
          "output_type": "stream",
          "name": "stdout",
          "text": [
            "successfully deleted user: 2020100010\n"
          ]
        }
      ]
    },
    {
      "cell_type": "code",
      "metadata": {
        "id": "4jehL2NZO00m"
      },
      "source": [
        "def add(addend1, addend2):\n",
        "  sum = addend1 + addend2\n",
        "  return sum"
      ],
      "execution_count": null,
      "outputs": []
    },
    {
      "cell_type": "code",
      "metadata": {
        "colab": {
          "base_uri": "https://localhost:8080/"
        },
        "id": "zFMttazvPsmD",
        "outputId": "584875e0-ec52-48cb-e21f-197e4276cbca"
      },
      "source": [
        "add(3, 4)"
      ],
      "execution_count": null,
      "outputs": [
        {
          "output_type": "execute_result",
          "data": {
            "text/plain": [
              "7"
            ]
          },
          "metadata": {},
          "execution_count": 111
        }
      ]
    },
    {
      "cell_type": "markdown",
      "metadata": {
        "id": "r6UTx6h0QCA8"
      },
      "source": [
        "[1] Waseem, Mohammad (2021), [Variables and Data type](https://www.edureka.comblog/variables-and-data-types-in-python/)\n",
        "\n",
        "[2] Parewa Labs Pvt. Ltd (2013), [Operations](https://www.programiz.com/python-programming/operators)\n",
        "\n",
        "[3] Sturtz, John (2021), [Input and Output](https://realpython.com/python-input-output/)\n",
        "\n",
        "[4] Tutorials point (2021), [Looping Statement](https://www.tutorialspoint.com/python/python_loops.htm)\n",
        "\n",
        "[5] O’Reilly Media, Inc (2021), [Flow Control](https://www.oreilly.com/library/view/python-in-a/0596001886/ch04s09.html)\n",
        "\n",
        "[6] Parewa Labs Pvt. Ltd (2013), [Functions](https://www.programiz.com/python-programming/function)"
      ]
    }
  ]
}