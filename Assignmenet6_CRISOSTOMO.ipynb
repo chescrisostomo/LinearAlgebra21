{
  "nbformat": 4,
  "nbformat_minor": 0,
  "metadata": {
    "colab": {
      "name": "Assignmenet6_CRISOSTOMO.ipynb",
      "provenance": [],
      "authorship_tag": "ABX9TyO8gdvdBz6Jm1aO7q4em7VV",
      "include_colab_link": true
    },
    "kernelspec": {
      "name": "python3",
      "display_name": "Python 3"
    },
    "language_info": {
      "name": "python"
    }
  },
  "cells": [
    {
      "cell_type": "markdown",
      "metadata": {
        "id": "view-in-github",
        "colab_type": "text"
      },
      "source": [
        "<a href=\"https://colab.research.google.com/github/chescrisostomo/LinearAlgebra21/blob/main/Assignmenet6_CRISOSTOMO.ipynb\" target=\"_parent\"><img src=\"https://colab.research.google.com/assets/colab-badge.svg\" alt=\"Open In Colab\"/></a>"
      ]
    },
    {
      "cell_type": "markdown",
      "metadata": {
        "id": "AutqUVa9EZC6"
      },
      "source": [
        "# Linear Algebra for ECE\n",
        "\n",
        "## Laboratory 6: Matrix Operations"
      ]
    },
    {
      "cell_type": "markdown",
      "metadata": {
        "id": "eC12ehF8El5T"
      },
      "source": [
        "Now that you have a fundamental knowledge about representing and operating with vectors as well as the fundamentals of matrices, we'll try to do the same operations with matrices and even more."
      ]
    },
    {
      "cell_type": "markdown",
      "metadata": {
        "id": "GN4JABwMEzB7"
      },
      "source": [
        "### Objectives\n",
        "At the end of this activity you will be able to:\n",
        "\n",
        "1. Be familiar with the fundamental matrix operations.\n",
        "2. Apply the operations to solve intermediate equations.\n",
        "3. Apply matrix algebra in engineering solutions."
      ]
    },
    {
      "cell_type": "markdown",
      "metadata": {
        "id": "1GlOez1RFHJG"
      },
      "source": [
        "## Discussion"
      ]
    },
    {
      "cell_type": "code",
      "metadata": {
        "id": "kpr70WRqFIuL"
      },
      "source": [
        "import numpy as np\n",
        "import matplotlib.pyplot as plt\n",
        "%matplotlib inline"
      ],
      "execution_count": null,
      "outputs": []
    },
    {
      "cell_type": "markdown",
      "metadata": {
        "id": "bGEXQA54HHcO"
      },
      "source": [
        "## Transposition"
      ]
    },
    {
      "cell_type": "markdown",
      "metadata": {
        "id": "IjkkrzNOHLQh"
      },
      "source": [
        "One of the fundamental operations in matrix algebra is Transposition. The transpose of a matrix is done by flipping the values of its elements over its diagonals. WIth this, the rows and columns from the original matrix will be switched. So for a matrix $A$ its transpose is denoted as $A^T$"
      ]
    },
    {
      "cell_type": "markdown",
      "metadata": {
        "id": "OAGd-Rf4HwOy"
      },
      "source": [
        "$$A = \\begin{bmatrix} 1 & 2 & 5\\\\5 & -1 &0 \\\\ 0 & -3 & 3\\end{bmatrix} $$"
      ]
    },
    {
      "cell_type": "markdown",
      "metadata": {
        "id": "VDRqceppH_NF"
      },
      "source": [
        "$$ A^T = \\begin{bmatrix} 1 & 5 & 0\\\\2 & -1 &-3 \\\\ 5 & 0 & 3\\end{bmatrix}$$"
      ]
    },
    {
      "cell_type": "markdown",
      "metadata": {
        "id": "MepAt84nIDg5"
      },
      "source": [
        "This can now be achieved programmatically by using `np.transpose()` or using the `T` method"
      ]
    },
    {
      "cell_type": "code",
      "metadata": {
        "colab": {
          "base_uri": "https://localhost:8080/"
        },
        "id": "RbvqjH5IJUQ5",
        "outputId": "1167fcad-2b6c-4b3d-d17e-2fd14be402de"
      },
      "source": [
        "A = np.array([\n",
        "  [1, 2, 5],\n",
        "  [5, -1, 0],\n",
        "  [0, -3, 3]\n",
        "])\n",
        "A"
      ],
      "execution_count": null,
      "outputs": [
        {
          "output_type": "execute_result",
          "data": {
            "text/plain": [
              "array([[ 1,  2,  5],\n",
              "       [ 5, -1,  0],\n",
              "       [ 0, -3,  3]])"
            ]
          },
          "metadata": {},
          "execution_count": 6
        }
      ]
    },
    {
      "cell_type": "code",
      "metadata": {
        "colab": {
          "base_uri": "https://localhost:8080/"
        },
        "id": "F_ixOel4JX9v",
        "outputId": "54c14041-efdb-4c61-ae78-38e51947de04"
      },
      "source": [
        "AT1 = np.transpose(A)\n",
        "AT1"
      ],
      "execution_count": null,
      "outputs": [
        {
          "output_type": "execute_result",
          "data": {
            "text/plain": [
              "array([[ 1,  5,  0],\n",
              "       [ 2, -1, -3],\n",
              "       [ 5,  0,  3]])"
            ]
          },
          "metadata": {},
          "execution_count": 7
        }
      ]
    },
    {
      "cell_type": "code",
      "metadata": {
        "colab": {
          "base_uri": "https://localhost:8080/"
        },
        "id": "cE32sVUJJahs",
        "outputId": "b0eedfa8-0e12-4825-cdda-927d7819fb2d"
      },
      "source": [
        "AT2 = A.T\n",
        "AT2"
      ],
      "execution_count": null,
      "outputs": [
        {
          "output_type": "execute_result",
          "data": {
            "text/plain": [
              "array([[ 1,  5,  0],\n",
              "       [ 2, -1, -3],\n",
              "       [ 5,  0,  3]])"
            ]
          },
          "metadata": {},
          "execution_count": 8
        }
      ]
    },
    {
      "cell_type": "code",
      "metadata": {
        "colab": {
          "base_uri": "https://localhost:8080/"
        },
        "id": "cHkQmWgHJdl_",
        "outputId": "75cfc4f1-f0bf-4614-c5b7-a15345b74860"
      },
      "source": [
        "np.array_equiv(AT1, AT2)"
      ],
      "execution_count": null,
      "outputs": [
        {
          "output_type": "execute_result",
          "data": {
            "text/plain": [
              "True"
            ]
          },
          "metadata": {},
          "execution_count": 9
        }
      ]
    },
    {
      "cell_type": "code",
      "metadata": {
        "colab": {
          "base_uri": "https://localhost:8080/"
        },
        "id": "fEVDxHXNJhgy",
        "outputId": "96c33162-6120-4b17-c64a-e816058921f0"
      },
      "source": [
        "B = np.array([\n",
        "    [1,2,3,4],\n",
        "    [1,0,2,1]\n",
        "])\n",
        "B.shape"
      ],
      "execution_count": null,
      "outputs": [
        {
          "output_type": "execute_result",
          "data": {
            "text/plain": [
              "(2, 4)"
            ]
          },
          "metadata": {},
          "execution_count": 10
        }
      ]
    },
    {
      "cell_type": "code",
      "metadata": {
        "colab": {
          "base_uri": "https://localhost:8080/"
        },
        "id": "mvX2F4onKu_u",
        "outputId": "10d2b57e-9b5c-46fc-de52-c19895c4bdbb"
      },
      "source": [
        "np.transpose(B).shape"
      ],
      "execution_count": null,
      "outputs": [
        {
          "output_type": "execute_result",
          "data": {
            "text/plain": [
              "(4, 2)"
            ]
          },
          "metadata": {},
          "execution_count": 11
        }
      ]
    },
    {
      "cell_type": "code",
      "metadata": {
        "colab": {
          "base_uri": "https://localhost:8080/"
        },
        "id": "O__9IL5bLHC3",
        "outputId": "35738eff-0b44-4625-b687-5fc8e9767582"
      },
      "source": [
        "B.T.shape"
      ],
      "execution_count": null,
      "outputs": [
        {
          "output_type": "execute_result",
          "data": {
            "text/plain": [
              "(4, 2)"
            ]
          },
          "metadata": {},
          "execution_count": 12
        }
      ]
    },
    {
      "cell_type": "markdown",
      "metadata": {
        "id": "8TxwCruELM_W"
      },
      "source": [
        " To create your own matrix (you can try non-squares) to test transposition"
      ]
    },
    {
      "cell_type": "code",
      "metadata": {
        "colab": {
          "base_uri": "https://localhost:8080/"
        },
        "id": "vMyP0hy5LWd8",
        "outputId": "6edc07c6-990d-4252-c004-b47acdb0c1f4"
      },
      "source": [
        "C = np.array([\n",
        "  [1, 2, 6, 5],\n",
        "  [5, 2, 4, 5],\n",
        "  [0, 5, 2, 5]\n",
        "])\n",
        "CT1 = np.transpose(C)\n",
        "CT1"
      ],
      "execution_count": null,
      "outputs": [
        {
          "output_type": "execute_result",
          "data": {
            "text/plain": [
              "array([[1, 5, 0],\n",
              "       [2, 2, 5],\n",
              "       [6, 4, 2],\n",
              "       [5, 5, 5]])"
            ]
          },
          "metadata": {},
          "execution_count": 13
        }
      ]
    },
    {
      "cell_type": "code",
      "metadata": {
        "colab": {
          "base_uri": "https://localhost:8080/"
        },
        "id": "AobkwhTgL7ti",
        "outputId": "b1f44543-308b-4379-9363-625984c34083"
      },
      "source": [
        "C.shape"
      ],
      "execution_count": null,
      "outputs": [
        {
          "output_type": "execute_result",
          "data": {
            "text/plain": [
              "(3, 4)"
            ]
          },
          "metadata": {},
          "execution_count": 14
        }
      ]
    },
    {
      "cell_type": "code",
      "metadata": {
        "colab": {
          "base_uri": "https://localhost:8080/"
        },
        "id": "whFhROteMFTs",
        "outputId": "659a9c73-b4fd-4345-bf09-8fdc01e6cc52"
      },
      "source": [
        "C.T.shape"
      ],
      "execution_count": null,
      "outputs": [
        {
          "output_type": "execute_result",
          "data": {
            "text/plain": [
              "(4, 3)"
            ]
          },
          "metadata": {},
          "execution_count": 15
        }
      ]
    },
    {
      "cell_type": "code",
      "metadata": {
        "colab": {
          "base_uri": "https://localhost:8080/"
        },
        "id": "rZjmmptR-UTX",
        "outputId": "0c3d272b-5cc8-40cf-e7ca-ed838a839526"
      },
      "source": [
        "CT= C.T\n",
        "CT"
      ],
      "execution_count": null,
      "outputs": [
        {
          "output_type": "execute_result",
          "data": {
            "text/plain": [
              "array([[1, 5, 0],\n",
              "       [2, 2, 5],\n",
              "       [6, 4, 2],\n",
              "       [5, 5, 5]])"
            ]
          },
          "metadata": {},
          "execution_count": 16
        }
      ]
    },
    {
      "cell_type": "markdown",
      "metadata": {
        "id": "f1rRtW7ENvxd"
      },
      "source": [
        "### Dot Product / Inner Product"
      ]
    },
    {
      "cell_type": "markdown",
      "metadata": {
        "id": "nMQXYQ9l-mH1"
      },
      "source": [
        "If you can recall the dot product from laboratory activity before, we will try to implement the same operaiton with matrices. In matrix dot product we are going to get the sum of products of the vectors by row-column pairs. So if we have two matrices $X$ and $Y$:"
      ]
    },
    {
      "cell_type": "markdown",
      "metadata": {
        "id": "-UbKcZ5F-75U"
      },
      "source": [
        "$$X = \\begin{bmatrix}x_{(0,0)}&x_{(0,1)}\\\\ x_{(1,0)}&x_{(1,1)}\\end{bmatrix}, Y = \\begin{bmatrix}y_{(0,0)}&y_{(0,1)}\\\\ y_{(1,0)}&y_{(1,1)}\\end{bmatrix}$$\n",
        "\n",
        "The dot product will then be computed as:\n",
        "$$X \\cdot Y= \\begin{bmatrix} x_{(0,0)}*y_{(0,0)} + x_{(0,1)}*y_{(1,0)} & x_{(0,0)}*y_{(0,1)} + x_{(0,1)}*y_{(1,1)} \\\\  x_{(1,0)}*y_{(0,0)} + x_{(1,1)}*y_{(1,0)} & x_{(1,0)}*y_{(0,1)} + x_{(1,1)}*y_{(1,1)}\n",
        "\\end{bmatrix}$$\n",
        "\n",
        "So if we assign values to $X$ and $Y$:\n",
        "$$X = \\begin{bmatrix}1&2\\\\ 0&1\\end{bmatrix}, Y = \\begin{bmatrix}-1&0\\\\ 2&2\\end{bmatrix}$$"
      ]
    },
    {
      "cell_type": "markdown",
      "metadata": {
        "id": "U3lPf4q5_BLd"
      },
      "source": [
        "$$X \\cdot Y= \\begin{bmatrix} 1*-1 + 2*2 & 1*0 + 2*2 \\\\  0*-1 + 1*2 & 0*0 + 1*2 \\end{bmatrix} = \\begin{bmatrix} 3 & 4 \\\\2 & 2 \\end{bmatrix}$$\n",
        "This could be achieved programmatically using `np.dot()`, `np.matmul()` or the `@` operator."
      ]
    },
    {
      "cell_type": "code",
      "metadata": {
        "id": "3nFrFKd2N1th"
      },
      "source": [
        "X = np.array([\n",
        "    [1,2],\n",
        "    [0,1]\n",
        "])\n",
        "Y = np.array([\n",
        "    [-1,0],\n",
        "    [2,2]\n",
        "])"
      ],
      "execution_count": null,
      "outputs": []
    },
    {
      "cell_type": "code",
      "metadata": {
        "colab": {
          "base_uri": "https://localhost:8080/"
        },
        "id": "dJeHMLaP_Ek0",
        "outputId": "8b662fff-556c-4e96-bb83-03aff1f03c06"
      },
      "source": [
        "np.array_equiv(X,Y)"
      ],
      "execution_count": null,
      "outputs": [
        {
          "output_type": "execute_result",
          "data": {
            "text/plain": [
              "False"
            ]
          },
          "metadata": {},
          "execution_count": 19
        }
      ]
    },
    {
      "cell_type": "code",
      "metadata": {
        "colab": {
          "base_uri": "https://localhost:8080/"
        },
        "id": "Wmju7dz6OGtk",
        "outputId": "9a85e024-f6aa-4b39-f251-20fae61d9999"
      },
      "source": [
        "np.dot(X,Y)"
      ],
      "execution_count": null,
      "outputs": [
        {
          "output_type": "execute_result",
          "data": {
            "text/plain": [
              "array([[3, 4],\n",
              "       [2, 2]])"
            ]
          },
          "metadata": {},
          "execution_count": 20
        }
      ]
    },
    {
      "cell_type": "code",
      "metadata": {
        "colab": {
          "base_uri": "https://localhost:8080/"
        },
        "id": "7AmM5eRJOKVr",
        "outputId": "765fd40f-086b-4e5f-cca0-2ee43c090ad8"
      },
      "source": [
        "X.dot(Y)"
      ],
      "execution_count": null,
      "outputs": [
        {
          "output_type": "execute_result",
          "data": {
            "text/plain": [
              "array([[3, 4],\n",
              "       [2, 2]])"
            ]
          },
          "metadata": {},
          "execution_count": 21
        }
      ]
    },
    {
      "cell_type": "code",
      "metadata": {
        "colab": {
          "base_uri": "https://localhost:8080/"
        },
        "id": "JPd3kcpvOOlZ",
        "outputId": "e4d61187-092d-45bb-994d-c8fa4c100836"
      },
      "source": [
        "X @ Y "
      ],
      "execution_count": null,
      "outputs": [
        {
          "output_type": "execute_result",
          "data": {
            "text/plain": [
              "array([[3, 4],\n",
              "       [2, 2]])"
            ]
          },
          "metadata": {},
          "execution_count": 22
        }
      ]
    },
    {
      "cell_type": "code",
      "metadata": {
        "colab": {
          "base_uri": "https://localhost:8080/"
        },
        "id": "MUHXJlQ8OQwP",
        "outputId": "78752ebf-7d37-428f-ca73-c7e51c687c61"
      },
      "source": [
        "np.matmul (X,Y)"
      ],
      "execution_count": null,
      "outputs": [
        {
          "output_type": "execute_result",
          "data": {
            "text/plain": [
              "array([[3, 4],\n",
              "       [2, 2]])"
            ]
          },
          "metadata": {},
          "execution_count": 23
        }
      ]
    },
    {
      "cell_type": "code",
      "metadata": {
        "id": "n-4Qifz-OVNy"
      },
      "source": [
        "F = np.array([\n",
        "    [1,2,5],\n",
        "    [0,1,6],\n",
        "    [6,7,0]\n",
        "\n",
        "])\n",
        "C = np.array([\n",
        "    [-1,5,8],\n",
        "    [2,5,3],\n",
        "    [5,8,9]\n",
        "])"
      ],
      "execution_count": null,
      "outputs": []
    },
    {
      "cell_type": "code",
      "metadata": {
        "colab": {
          "base_uri": "https://localhost:8080/"
        },
        "id": "rDNkqK0TOnLW",
        "outputId": "47e1e56c-8db1-4509-d080-84519df34a88"
      },
      "source": [
        "np.dot (F,C)"
      ],
      "execution_count": null,
      "outputs": [
        {
          "output_type": "execute_result",
          "data": {
            "text/plain": [
              "array([[28, 55, 59],\n",
              "       [32, 53, 57],\n",
              "       [ 8, 65, 69]])"
            ]
          },
          "metadata": {},
          "execution_count": 30
        }
      ]
    },
    {
      "cell_type": "code",
      "metadata": {
        "colab": {
          "base_uri": "https://localhost:8080/"
        },
        "id": "CaRhk1ElPb9r",
        "outputId": "85c9ad5a-b586-4cca-d8cb-35e7f6980cbb"
      },
      "source": [
        "F.dot(C)"
      ],
      "execution_count": null,
      "outputs": [
        {
          "output_type": "execute_result",
          "data": {
            "text/plain": [
              "array([[28, 55, 59],\n",
              "       [32, 53, 57],\n",
              "       [ 8, 65, 69]])"
            ]
          },
          "metadata": {},
          "execution_count": 31
        }
      ]
    },
    {
      "cell_type": "code",
      "metadata": {
        "colab": {
          "base_uri": "https://localhost:8080/"
        },
        "id": "5Se5RT6kPgBg",
        "outputId": "06766277-07fd-4f89-cd59-7771a93397a1"
      },
      "source": [
        "F @ C"
      ],
      "execution_count": null,
      "outputs": [
        {
          "output_type": "execute_result",
          "data": {
            "text/plain": [
              "array([[28, 55, 59],\n",
              "       [32, 53, 57],\n",
              "       [ 8, 65, 69]])"
            ]
          },
          "metadata": {},
          "execution_count": 32
        }
      ]
    },
    {
      "cell_type": "code",
      "metadata": {
        "colab": {
          "base_uri": "https://localhost:8080/"
        },
        "id": "SH44ox-7PjC4",
        "outputId": "eeee6f9d-3bd0-4e0f-c41e-96f90fcb4397"
      },
      "source": [
        "np.matmul (F,C)"
      ],
      "execution_count": null,
      "outputs": [
        {
          "output_type": "execute_result",
          "data": {
            "text/plain": [
              "array([[28, 55, 59],\n",
              "       [32, 53, 57],\n",
              "       [ 8, 65, 69]])"
            ]
          },
          "metadata": {},
          "execution_count": 33
        }
      ]
    },
    {
      "cell_type": "markdown",
      "metadata": {
        "id": "qhwMt5nJ_ggF"
      },
      "source": [
        "In matrix do tproducts there are additional rules compareed with vector dot products. Since vector dot product were just in one dimension there are less resctrictions. Since now we are dealing with rank 2 vectors we need to consider some rules:\n",
        "\n",
        "### Rule 1: The inner dimension of the two matrices in question must be the same.\n",
        "\n",
        "So given a matrix $A$ with a shape of $(a,b)$ where $a$ and $b$ are any integers. If we want to do a dot product between $A$ and another matrix $B$, then matrix $B$ should have a shape of $(b,c)$ where $b$ and $c$ are any integers. So for given the following matrices:\n",
        "\n",
        "$$A = \\begin{bmatrix}2&4\\\\5&-2\\\\0&1\\end{bmatrix}, B = \\begin{bmatrix}1&1\\\\3&3\\\\-1&-2\\end{bmatrix}, C = \\begin{bmatrix}0&1&1\\\\1&1&2\\end{bmatrix}$$\n",
        "\n",
        "So in this case $A$ has a shape of $(3,2)$, $B$ has a shape of $(3,2)$ and $C$ has a shape of $(2,3)$. So the only matrix pairs that is eligible to perform dot product is matrices $A \\cdot C$, or $B \\cdot C$. "
      ]
    },
    {
      "cell_type": "code",
      "metadata": {
        "colab": {
          "base_uri": "https://localhost:8080/"
        },
        "id": "4vPEpOgbQYo7",
        "outputId": "6a5386b9-1e3c-4c1b-abbd-50404b5d8661"
      },
      "source": [
        "W = np.array([\n",
        "    [1,2],\n",
        "    [0,1],\n",
        "    [6,7]\n",
        "\n",
        "])\n",
        "Q = np.array([\n",
        "    [-1,5],\n",
        "    [2,5],\n",
        "    [5,8]\n",
        "])\n",
        "E = np.array([\n",
        "    [-1,5,10],\n",
        "    [2,5,6],\n",
        "])\n",
        "\n",
        "print(W.shape)\n",
        "print(Q.shape)\n",
        "print(E.shape)"
      ],
      "execution_count": null,
      "outputs": [
        {
          "output_type": "stream",
          "name": "stdout",
          "text": [
            "(3, 2)\n",
            "(3, 2)\n",
            "(2, 3)\n"
          ]
        }
      ]
    },
    {
      "cell_type": "code",
      "metadata": {
        "colab": {
          "base_uri": "https://localhost:8080/"
        },
        "id": "lQQXlP2IRIih",
        "outputId": "ad41e80f-0af1-4e0e-8f8c-976f00fbb175"
      },
      "source": [
        "np.dot (Q,E)"
      ],
      "execution_count": null,
      "outputs": [
        {
          "output_type": "execute_result",
          "data": {
            "text/plain": [
              "array([[11, 20, 20],\n",
              "       [ 8, 35, 50],\n",
              "       [11, 65, 98]])"
            ]
          },
          "metadata": {},
          "execution_count": 37
        }
      ]
    },
    {
      "cell_type": "code",
      "metadata": {
        "colab": {
          "base_uri": "https://localhost:8080/"
        },
        "id": "EcRV6vZ4RL5S",
        "outputId": "6431b021-2814-4488-9077-6008403f4295"
      },
      "source": [
        "W @ E"
      ],
      "execution_count": null,
      "outputs": [
        {
          "output_type": "execute_result",
          "data": {
            "text/plain": [
              "array([[  3,  15,  22],\n",
              "       [  2,   5,   6],\n",
              "       [  8,  65, 102]])"
            ]
          },
          "metadata": {},
          "execution_count": 38
        }
      ]
    },
    {
      "cell_type": "markdown",
      "metadata": {
        "id": "evDvpI2WBB5s"
      },
      "source": [
        "If you would notice the shape of the dot product changed and its shpae is not the same as any iof the matrices we used. The shape of a dot product is actually derived from the shapes of the matrices used. So recall matrix $A$ with a shape of $(a,b)$ and matrix $B$ with a shape of $(b,c)$, $A \\cdot B$ should have a shape $(a,c)$."
      ]
    },
    {
      "cell_type": "code",
      "metadata": {
        "colab": {
          "base_uri": "https://localhost:8080/"
        },
        "id": "elE_cgy0SD5g",
        "outputId": "d6d0fb10-f266-4ada-fc4d-ba45fd026bca"
      },
      "source": [
        "X = np.array([\n",
        "    [1,2,3,4]\n",
        "])\n",
        "Y= np.array ([\n",
        "    [1,5,6,7,]\n",
        "])\n",
        "print(X.shape)\n",
        "print(Y.shape)"
      ],
      "execution_count": null,
      "outputs": [
        {
          "output_type": "stream",
          "name": "stdout",
          "text": [
            "(1, 4)\n",
            "(1, 4)\n"
          ]
        }
      ]
    },
    {
      "cell_type": "code",
      "metadata": {
        "colab": {
          "base_uri": "https://localhost:8080/"
        },
        "id": "YYjJBPkVSnj4",
        "outputId": "650c001f-0593-4de9-8b95-e3c487c55a95"
      },
      "source": [
        "Y.T @ X"
      ],
      "execution_count": null,
      "outputs": [
        {
          "output_type": "execute_result",
          "data": {
            "text/plain": [
              "array([[ 1,  2,  3,  4],\n",
              "       [ 5, 10, 15, 20],\n",
              "       [ 6, 12, 18, 24],\n",
              "       [ 7, 14, 21, 28]])"
            ]
          },
          "metadata": {},
          "execution_count": 40
        }
      ]
    },
    {
      "cell_type": "code",
      "metadata": {
        "colab": {
          "base_uri": "https://localhost:8080/"
        },
        "id": "oHa6Xu8pSu9U",
        "outputId": "3a8e8fe1-ca31-4650-e5bc-b34eaff06011"
      },
      "source": [
        "X @ Y.T"
      ],
      "execution_count": null,
      "outputs": [
        {
          "output_type": "execute_result",
          "data": {
            "text/plain": [
              "array([[57]])"
            ]
          },
          "metadata": {},
          "execution_count": 41
        }
      ]
    },
    {
      "cell_type": "markdown",
      "metadata": {
        "id": "syu9UPlmBpFm"
      },
      "source": [
        "And you can see that when you try to multiply A and B, it returns `ValueError` pertaining to matrix shape mismatch."
      ]
    },
    {
      "cell_type": "markdown",
      "metadata": {
        "id": "dS-aJtlLB89g"
      },
      "source": [
        "### Rule 2: Dot product has special properties\n",
        "\n",
        "Dot products are prevalent in matrix algebra, this implies that it has several unique properties and it should be considered when formulation solutions:\n",
        " 1. $A \\cdot B \\neq B \\cdot A$\n",
        " 2. $A \\cdot (B \\cdot C) = (A \\cdot B) \\cdot C$\n",
        " 3. $A\\cdot(B+C) = A\\cdot B + A\\cdot C$\n",
        " 4. $(B+C)\\cdot A = B\\cdot A + C\\cdot A$\n",
        " 5. $A\\cdot I = A$\n",
        " 6. $A\\cdot \\emptyset = \\emptyset$ \n"
      ]
    },
    {
      "cell_type": "markdown",
      "metadata": {
        "id": "ufWbrWScCO-w"
      },
      "source": [
        "## Determinant\n",
        "\n",
        "A determinant is a scalar value derived from a square matrix. The determinant is a fundamental and important value used in algebra. Although it will not be evident in this laboratory on how it can be used practically, but it will be really used in future lesson.\n",
        "\n",
        "The determinant of some matrix $A$ is denoted as $det(A)$ or $|A|$. So let's say $A$ is represented as:\n",
        "$$A = \\begin{bmatrix}a_{(0,0)}&a_{(0,1)}\\\\a_{(1,0)}&a_{(1,1)}\\end{bmatrix}$$\n",
        "We can compute for the determinant as:\n",
        "$$|A| = a_{(0,0)}*a_{(1,1)} - a_{(1,0)}*a_{(0,1)}$$\n",
        "So if we have $A$ as:\n",
        "$$A = \\begin{bmatrix}1&4\\\\0&3\\end{bmatrix}, |A| = 3$$\n",
        "\n",
        "But you might wonder how about square matrices beyond the shape $(2,2)$? We can approach this problem by using several methods such as co-factor expansion and the minors method. This can be taught in the lecture of the laboratory but we can achieve the strenuous computation of high-dimensional matrices programmatically using Python. We can achieve this by using `np.linalg.det()`."
      ]
    },
    {
      "cell_type": "code",
      "metadata": {
        "colab": {
          "base_uri": "https://localhost:8080/"
        },
        "id": "FLrwWs30TT0g",
        "outputId": "06f1a996-7d35-4449-c923-e770d30fbcc8"
      },
      "source": [
        "M = np.array([\n",
        "    [1,7],\n",
        "    [-3, 5]\n",
        "])\n",
        "\n",
        "np.array(M @ np.linalg.inv(M), dtype=int)"
      ],
      "execution_count": null,
      "outputs": [
        {
          "output_type": "execute_result",
          "data": {
            "text/plain": [
              "array([[1, 0],\n",
              "       [0, 1]])"
            ]
          },
          "metadata": {},
          "execution_count": 21
        }
      ]
    },
    {
      "cell_type": "code",
      "metadata": {
        "colab": {
          "base_uri": "https://localhost:8080/"
        },
        "id": "8DOq2AtlTXmh",
        "outputId": "8672dee0-2d8b-4701-bd7d-5cd8506643a3"
      },
      "source": [
        "P = np.array([\n",
        "              [6, 9, 0],\n",
        "              [4, 2, -1],\n",
        "              [3, 6, 7]\n",
        "])\n",
        "Q = np.linalg.inv(P)\n",
        "Q"
      ],
      "execution_count": null,
      "outputs": [
        {
          "output_type": "execute_result",
          "data": {
            "text/plain": [
              "array([[-0.12578616,  0.39622642,  0.05660377],\n",
              "       [ 0.19496855, -0.26415094, -0.03773585],\n",
              "       [-0.11320755,  0.05660377,  0.1509434 ]])"
            ]
          },
          "metadata": {},
          "execution_count": 22
        }
      ]
    },
    {
      "cell_type": "code",
      "metadata": {
        "colab": {
          "base_uri": "https://localhost:8080/"
        },
        "id": "JirHuPMCTaZZ",
        "outputId": "ca883686-5cd3-44ce-f34c-53161be9c8f3"
      },
      "source": [
        "P @ Q"
      ],
      "execution_count": null,
      "outputs": [
        {
          "output_type": "execute_result",
          "data": {
            "text/plain": [
              "array([[ 1.00000000e+00, -5.55111512e-17, -6.93889390e-18],\n",
              "       [ 8.32667268e-17,  1.00000000e+00, -2.77555756e-17],\n",
              "       [ 2.77555756e-17, -1.38777878e-17,  1.00000000e+00]])"
            ]
          },
          "metadata": {},
          "execution_count": 23
        }
      ]
    },
    {
      "cell_type": "code",
      "metadata": {
        "colab": {
          "base_uri": "https://localhost:8080/"
        },
        "id": "4OxHPDcaTc2u",
        "outputId": "70c1bc0c-47bf-460b-b049-1b90122f8cb1"
      },
      "source": [
        "N = np.array([\n",
        "    [18,5,23,1,0,33,5],\n",
        "    [0,45,0,11,2,4,2],\n",
        "    [5,9,20,0,0,0,3],\n",
        "    [1,6,4,4,8,43,1],\n",
        "    [8,6,8,7,1,6,1],\n",
        "    [-5,15,2,0,0,6,-30],\n",
        "    [-2,-5,1,2,1,20,12],\n",
        "])\n",
        "N_inv = np.linalg.inv(N)\n",
        "np.array(N @ N_inv,dtype=int)"
      ],
      "execution_count": null,
      "outputs": [
        {
          "output_type": "execute_result",
          "data": {
            "text/plain": [
              "array([[0, 0, 0, 0, 0, 0, 0],\n",
              "       [0, 0, 0, 0, 0, 0, 0],\n",
              "       [0, 0, 1, 0, 0, 0, 0],\n",
              "       [0, 0, 0, 1, 0, 0, 0],\n",
              "       [0, 0, 0, 0, 0, 0, 0],\n",
              "       [0, 0, 0, 0, 0, 0, 0],\n",
              "       [0, 0, 0, 0, 0, 0, 1]])"
            ]
          },
          "metadata": {},
          "execution_count": 24
        }
      ]
    },
    {
      "cell_type": "markdown",
      "metadata": {
        "id": "cbkgdpiLTfqi"
      },
      "source": [
        "To validate the wether if the matric that you have solved is really the inverse, we follow this dot product property for a matrix $M$:\n",
        "$$M\\cdot M^{-1} = I$$"
      ]
    },
    {
      "cell_type": "code",
      "metadata": {
        "colab": {
          "base_uri": "https://localhost:8080/"
        },
        "id": "HOTNIKkjTglG",
        "outputId": "5dcc8017-083f-4639-d471-ba88189b1f97"
      },
      "source": [
        "squad = np.array([\n",
        "    [1.0, 1.0, 0.5],\n",
        "    [0.7, 0.7, 0.9],\n",
        "    [0.3, 0.3, 1.0]\n",
        "])\n",
        "weights = np.array([\n",
        "    [0.2, 0.2, 0.6]\n",
        "])\n",
        "p_grade = squad @ weights.T\n",
        "p_grade"
      ],
      "execution_count": null,
      "outputs": [
        {
          "output_type": "execute_result",
          "data": {
            "text/plain": [
              "array([[0.7 ],\n",
              "       [0.82],\n",
              "       [0.72]])"
            ]
          },
          "metadata": {},
          "execution_count": 25
        }
      ]
    },
    {
      "cell_type": "markdown",
      "metadata": {
        "id": "dtymYwNeTkat"
      },
      "source": [
        "## Activity \n",
        "\n",
        "### Task 1\n",
        "Prove and implement the remaining 6 matrix multiplication properties. You may create your own matrices in which their shapes should not be lower than $(3,3)$. In your methodology, create individual flowcharts for each property discuss the property you would then present your proofs or validity of your implementation in the results section by comparing your result to present functions from NumPy."
      ]
    },
    {
      "cell_type": "code",
      "metadata": {
        "id": "0E4roIt2S8fj"
      },
      "source": [
        "A = np.array([\n",
        "  [1, 8, 9],\n",
        "  [6, -1, 0],\n",
        "  [0, 9, 3]\n",
        "])\n",
        "B = np.array([\n",
        "  [1, 8, 5],\n",
        "  [7, -1, -2],\n",
        "  [2, -3, 4]\n",
        "])\n",
        "C = np.array([\n",
        "  [4, 5, 6],\n",
        "  [5, 8, 0],\n",
        "  [1, 2, 9]\n",
        "])"
      ],
      "execution_count": null,
      "outputs": []
    },
    {
      "cell_type": "markdown",
      "metadata": {
        "id": "zeDXYzcrpJ5i"
      },
      "source": [
        "![Ass6 (1).png](data:image/png;base64,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)"
      ]
    },
    {
      "cell_type": "code",
      "metadata": {
        "colab": {
          "base_uri": "https://localhost:8080/"
        },
        "id": "KsWo1uz8Tbp0",
        "outputId": "49d3c0ca-9e44-4fc5-af4d-f33307181394"
      },
      "source": [
        "#1\n",
        "AB= np.dot(A,B)\n",
        "AB"
      ],
      "execution_count": null,
      "outputs": [
        {
          "output_type": "execute_result",
          "data": {
            "text/plain": [
              "array([[ 75, -27,  25],\n",
              "       [ -1,  49,  32],\n",
              "       [ 69, -18,  -6]])"
            ]
          },
          "metadata": {},
          "execution_count": 48
        }
      ]
    },
    {
      "cell_type": "code",
      "metadata": {
        "colab": {
          "base_uri": "https://localhost:8080/"
        },
        "id": "R5MHoDH5Tji2",
        "outputId": "ac95dadf-8aa0-42ef-e734-d03ad8c657ed"
      },
      "source": [
        "BA= np.dot(B,A)\n",
        "BA"
      ],
      "execution_count": null,
      "outputs": [
        {
          "output_type": "execute_result",
          "data": {
            "text/plain": [
              "array([[ 49,  45,  24],\n",
              "       [  1,  39,  57],\n",
              "       [-16,  55,  30]])"
            ]
          },
          "metadata": {},
          "execution_count": 49
        }
      ]
    },
    {
      "cell_type": "code",
      "metadata": {
        "colab": {
          "base_uri": "https://localhost:8080/"
        },
        "id": "m8Ww60gdTq4V",
        "outputId": "57add056-cabc-4d5a-b1c4-bb64de02564e"
      },
      "source": [
        "np.array_equiv(AB, BA)"
      ],
      "execution_count": null,
      "outputs": [
        {
          "output_type": "execute_result",
          "data": {
            "text/plain": [
              "False"
            ]
          },
          "metadata": {},
          "execution_count": 50
        }
      ]
    },
    {
      "cell_type": "markdown",
      "metadata": {
        "id": "nJIrTCwypR8k"
      },
      "source": [
        "![Ass6 (2).png](data:image/png;base64,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)"
      ]
    },
    {
      "cell_type": "code",
      "metadata": {
        "colab": {
          "base_uri": "https://localhost:8080/"
        },
        "id": "TMiMNfJ6URxj",
        "outputId": "5b5f446e-b053-4d63-a9ff-0e78d3c28b7a"
      },
      "source": [
        "#2\n",
        "ABC = A @ (B @ C)\n",
        "\n",
        "ABC"
      ],
      "execution_count": null,
      "outputs": [
        {
          "output_type": "execute_result",
          "data": {
            "text/plain": [
              "array([[190, 209, 675],\n",
              "       [273, 451, 282],\n",
              "       [180, 189, 360]])"
            ]
          },
          "metadata": {},
          "execution_count": 30
        }
      ]
    },
    {
      "cell_type": "code",
      "metadata": {
        "colab": {
          "base_uri": "https://localhost:8080/"
        },
        "id": "bygAScXEVejF",
        "outputId": "e53af66e-eaf3-4b60-bbbd-354f01c3741b"
      },
      "source": [
        "ABC1 = (A @ B) @ C\n",
        "\n",
        "ABC1"
      ],
      "execution_count": null,
      "outputs": [
        {
          "output_type": "execute_result",
          "data": {
            "text/plain": [
              "array([[190, 209, 675],\n",
              "       [273, 451, 282],\n",
              "       [180, 189, 360]])"
            ]
          },
          "metadata": {},
          "execution_count": 34
        }
      ]
    },
    {
      "cell_type": "code",
      "metadata": {
        "colab": {
          "base_uri": "https://localhost:8080/"
        },
        "id": "x_89aCC8U4Qh",
        "outputId": "3b4259fc-0862-48a7-8942-6a1514cab334"
      },
      "source": [
        "np.array_equiv(ABC, ABC1)"
      ],
      "execution_count": null,
      "outputs": [
        {
          "output_type": "execute_result",
          "data": {
            "text/plain": [
              "True"
            ]
          },
          "metadata": {},
          "execution_count": 35
        }
      ]
    },
    {
      "cell_type": "markdown",
      "metadata": {
        "id": "7d0BztGqpVIi"
      },
      "source": [
        "![Ass6 (3).png](data:image/png;base64,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)"
      ]
    },
    {
      "cell_type": "code",
      "metadata": {
        "colab": {
          "base_uri": "https://localhost:8080/"
        },
        "id": "RhJw182yVBFL",
        "outputId": "0c564d64-1980-4251-dd0e-11328063f70a"
      },
      "source": [
        "#3\n",
        "BC= A @ (B + C)\n",
        "\n",
        "BC\n"
      ],
      "execution_count": null,
      "outputs": [
        {
          "output_type": "execute_result",
          "data": {
            "text/plain": [
              "array([[128,  60, 112],\n",
              "       [ 18,  71,  68],\n",
              "       [117,  60,  21]])"
            ]
          },
          "metadata": {},
          "execution_count": 42
        }
      ]
    },
    {
      "cell_type": "code",
      "metadata": {
        "colab": {
          "base_uri": "https://localhost:8080/"
        },
        "id": "Mx7aTqe5VzrM",
        "outputId": "ce0df8e1-828c-4fc9-891b-b6e0e7e91724"
      },
      "source": [
        "ABAC = A @ B + A @ C\n",
        "\n",
        "ABAC"
      ],
      "execution_count": null,
      "outputs": [
        {
          "output_type": "execute_result",
          "data": {
            "text/plain": [
              "array([[128,  60, 112],\n",
              "       [ 18,  71,  68],\n",
              "       [117,  60,  21]])"
            ]
          },
          "metadata": {},
          "execution_count": 43
        }
      ]
    },
    {
      "cell_type": "code",
      "metadata": {
        "colab": {
          "base_uri": "https://localhost:8080/"
        },
        "id": "tgs2yHltVmUR",
        "outputId": "9c4c2e37-3c08-4b7c-b0f8-7e88986c4f54"
      },
      "source": [
        "np.array_equiv(BC, ABAC)"
      ],
      "execution_count": null,
      "outputs": [
        {
          "output_type": "execute_result",
          "data": {
            "text/plain": [
              "True"
            ]
          },
          "metadata": {},
          "execution_count": 44
        }
      ]
    },
    {
      "cell_type": "markdown",
      "metadata": {
        "id": "xQp62_aKpbOb"
      },
      "source": [
        "![Ass6 (4).png](data:image/png;base64,iVBORw0KGgoAAAANSUhEUgAAATAAAAIdCAYAAAC6ISGGAAAAAXNSR0IArs4c6QAABmd0RVh0bXhmaWxlACUzQ214ZmlsZSUyMGhvc3QlM0QlMjJhcHAuZGlhZ3JhbXMubmV0JTIyJTIwbW9kaWZpZWQlM0QlMjIyMDIxLTEwLTI0VDA5JTNBMzAlM0EwMi43MjZaJTIyJTIwYWdlbnQlM0QlMjI1LjAlMjAoV2luZG93cyUyME5UJTIwMTAuMCUzQiUyMFdpbjY0JTNCJTIweDY0KSUyMEFwcGxlV2ViS2l0JTJGNTM3LjM2JTIwKEtIVE1MJTJDJTIwbGlrZSUyMEdlY2tvKSUyMENocm9tZSUyRjk1LjAuNDYzOC41NCUyMFNhZmFyaSUyRjUzNy4zNiUyMiUyMGV0YWclM0QlMjJNMWhFNmlWWXViMEVGY0FCUHdQWiUyMiUyMHZlcnNpb24lM0QlMjIxNS41LjglMjIlMjB0eXBlJTNEJTIyZ29vZ2xlJTIyJTNFJTNDZGlhZ3JhbSUyMGlkJTNEJTIyMk53VElRRzdlcktZSlJMOGhJNEElMjIlMjBuYW1lJTNEJTIyUGFnZS0xJTIyJTNFN1ZsdGI1c3dFUDQxU051SFRydzVTVDhXbW02VnVxbFNKblg5NklZTHNEbVlHZE9RJTJGdnJad1lDSm03WmJsN2V0VWhUNUh2dkNjWGZQMmI1WVhqaXZQaktjSjU5cEJNUnk3YWl5dkhQTGRSM2ZkUzM1c2FObGpReTlZUTNFTEkzVW9nNllwQSUyQmdRRnVoWlJwQjBWdklLU1U4emZ2Z2xHWVpUSGtQdzR6UlJYJTJGWmpKTCUyQlUzTWNnd0ZNcHBpWTZFMGE4YVJHUjhqdThFJTJCUXhrbnpaTWRXTTNQY0xGWkFrZUNJTGpUSUcxdGV5Q2psOVdoZWhVQ2s4eHElMkYxSG9YRzJaYnd4aGslMkZDVUtsMGtRanJ5VENibUFHNiUyRndrd2ZrMHhQZlU4YnhaZlBHRUFrSEtKRXludENZWnBpTU96Umd0TXdpa0Q5ckM2bGJjMFZwTGtCSGdOJTJCQjg2V0tKaTQ1RlZEQzUwVE5RcFh5YjFMOUExTFNyVFp6WHFsZlhnbkxSc2c0VzJwS1VyelY1enExbGRUb3pWSkNRa29vVzcyZE41dkJZRG9WZU1FWiUyRlFIYVREUTh2Yk9sUnUwUjZZYU5ubFpRUVVzMmhhZmM2NnVVeFN3RyUyRnRUQ1Fac1Jna3BBNXlEZVFTZ3lJSmluOTMxTHNNcnB1RjNYaFYwTVZPUiUyRkp3dVVtZmVZbE9wUkUyRXlOM09ERUVFOG1RT0xKT1V3eWZIcTlSZUMlMkIlMkYwSSUyRjZuWDc0RnhxSjcydSUyQmtscGVBaFYlMkJUR1NrbFZtNVo4aTQ2N0F3VWxHbTE5ZTF1ZVJjZkNyJTJGM3k1TFhwcjFTdmFTb2UzU1hFYUQwaHZOTzFTTmZNVkhwcndXNE5lVVg4QndhekxyTzg1UFVHd2RKS0RNNHNOOVRsUUpxWFJUb1VHbGtrZHBOY0RvVzNNU0ZBYU16d1hBUWxCNVlLbzRHdHoxMTNFOCUyQlR0NEptSzk0Ym1kMG1Vc3MxV2FPeU0wSW1sd2RiNCUyRkx3amNzdjRmSm9SMXoyUnp2bThzamc4aFZJQzRQd2JDWGE3eVIxTFZkJTJCaCUyQiUyRmxVTzRya3Q4RElwd1kzREV4aXVVb09HdFVBbjFabzZ0amF4blh6NmVEM0lYZGpVVlhwNjYzVSUyQnFlR3FIN1F2Zkpaa2ZqY3Nmc0EyUXoyaERzVjdMWk45aU12TjJ5dWJuQmFTbHhLeTZhYnhWJTJCYnpsaFZ2akJyblBDTVU5clJWdmdWMFhicU1jSm5kJTJCVnhjSFc0dUdtVFZPdnhjNGpWNksya2ZIWGl6RnlqNFZsYmMlMkZCNlhVY3VnYkVJZllja0dycFBOdHpRSHZ0T1RSbWFseTdablU5RUtla242VnNpd1VYbUJUUWlVYmUlMkZQTzNJSDlvN0pQMkl3UjJIeUh3MWc1VHlEODYlMkZoNVR6eENoNCUyQkF2ZWdGJTJGdjdMeXY2YXZlUmRxanpUN282JTJGWmtockxidE9SdDNxSDIydjFDckg3bTZZJTJCYTNaJTJGZG5ualh3JTNEJTNEJTNDJTJGZGlhZ3JhbSUzRSUzQyUyRm14ZmlsZSUzRXNOQgQAACAASURBVHhe7X0LeBXV1faakyshJJGEcEm4KIEk8LUUC9JWsC3aovBYLeX/rY3YVggRQSwqUhUERKWKilVQw8X6C6naz9qqP96qtJ9gvyp8UuoPJBAUJEEuCeZG7jnzP3tg0slw5pw558zsMzP7Pc/jI8nZe62137XmzVp7r7OPRHhZisC+UrpYiqOvxSdkjJPi4gv8nV25styeKcsdvcnfmSTLfh9TKEk+P/ni2yQp4YwkJdb64uOq5K7O8s6Oul1yF306qoQ+sdQwCAMCHkRA8uCauC5pbylNSEy54MeyLF3Z1V4/OiG5f1NSWj71yijok9h7cFx88gCKT8okX0If8sWlkOSLV+yT/Z3k72omf0cjdbbVUmfrcWo/c7Srpa68sa2hgjpaT6TGJabvlSTp7fbm2j+NLqGPuC4MyoCACxAAgUXgpPIN9PX4Xv3nd7Wf+XFcYlp8av+JlJo9MSOl71iS4npFIPH8KXJXCzWf3k1Np3bUNR3fQV3tDZ1xib3/1NlyYm1BMf3LEiUQAgRcjgAILAwHlm+ga+KS+90n+ztGpOdeTek50/okpeWFISHyoW0NlVRfvbWxvuoNknwJB7taT91fUEyvRS4RM4GA+xEAgZnwYfnzST/y+VIfiU9Iy8ocMbtv2qApMcWt4dg7cu3Bjac7Oxpq/P6muwp+0fa6iWVgCBDwHAIxfRCdjua+jTQ0IWnAc5LkG9uvYMEFaYOucJTJDcfeo1PlT34ly/7dHW3Hbxo1m444ykAYAwRsRgAEZgDwwS395nW11T3ed/iNzf1Gzs2w2Q9RiT914Jm604deSIlLyrx9xA3H10UlDJOBgIsQAIEFcNah3+duJqKpA7/xYN9eGaNd4c6Wur305T/vPU1Ebw7/WdVMVxgNI4FAlAiAwHQAVv5+4F8TU4YW5o77bX/JFxclvHyny/4uqtp124n25iP783725ff5aoc2IMAfARCYBvNDmwduT+779YJBYx/M4u8K6zQe231vTevpf5UPn/nlJOukQhIQcB4CILBzPqksy/1zcp+8b+WMe7S/89wUvkXVu+480dpY+Y+8oqprw5+NGUDAHQiAwIjo4OaB98Qlpi68cNKLrs689CH3+fbra/xtTU/k3fjlg+4IR1gJBMJDQHgC27+eRko+3/4LL3vJl5h6UXjoOXx0e9Nn9PkHP/XLfn9h4Rw64HBzYR4QCBsB4QmscsvAv6QPvnpC1og5fcJGzwUTag6ub6w/+sZHeTd8+QMXmAsTgUBYCAhNYOzmiLik9P8a+cP3U8NCzWWDD7x7eVNXW/13ccOFyxwHc0MiIDSBHSzrX5aR+6Nrs0aUpIREysUDag6WNtdVvf7nEUUnily8DJgOBM5DQGgCq3gupe7Cy8rSE1IGRx0aK9dspPtWP9stZ8drm+jS8WOUn9l7Fw3NoaLpV4WlJ9J5eiUdzUfp8w+K6vNvanb0JwrCAgeDgQC7V09UFM5eiZP9wfDJb6ZHiwEjmurjJ2nNijuoV3ISVRw6QteV3E3rVi1WSCxSIop0XqD1HNo2tb6z5eRluIonWm9jvpMQEJfA1lNRSvbEJwdf8kTfaBzS0tpGC5c9RpMmjO2RYTHyYS+Wed0wf6ny7y1rVypjyl59q/t3Y0aNpJdLV9GQnAGKnLr6Jnr59XfpvtuL6f7HN/SYF42dRz/+1enmkzsWFMyhsmjkYC4QcBIC4hLYRrrrgqFFK7NHL0yM1iEqId2/6GZaunD2eeK0mdSHO/coGVnZugco84J05d/sdefcmQqB5QzI7pZhZQZ2cu+a9q+OlC0tmE2PRLtezAcCTkFAWALbv4GWZY2Yszxr5BxLfFH7VT0VzVtC7/ztvxV5WjILRkSM/D47Ut1NYNpMzkoCqzmwnmoOrl9eWEwrLFkwhAABByAgLIFVbIr/dcaQ65Zmj15o+QmkvqzUEpH6XunmV7vdz8hOzcBmzpgW9eZ/oLg6uXdN81dHylYgA3PAUwcTLENAWAIrZ3tg/SetHTx+TVQncyzzuvc36+jBX89TSkL1pWZWrKTUEhj7/faPdndv+OszMLsI7OjOhXXNJ7bPxx6YZc8OBDkAAXEJjJ1CJmd/MPxya04hmS/V/S+1nJw5Y6qyaW9EYM0trUrZyU4q7c7ADr0/tb6zFaeQDnjmYIKFCAhLYAxDO/vA1BNHpkfd5Ge/u/L73+neK5vyvW/T3J/PoLe2fUgP3T2f7lm1lrQZmHZeuD1k2hhBH5iFTwxEOQoBoQmssmzQi+k5V03LGjnXk5+DVCOt5sAzjfXVb23NKzp2vaOiD8YAgSgREJrA8FnIKKMH04FAjBEQmsAY9pVbBryXnnv1N7NGlkS1mR9jPxqqrzlQWldf9cb/5N1w3FlfqeRUwGCXqxAQnsBwH5ir4hXGAoEeCAhPYEoWVjZ4qS8+acGFk17y2I2sP63xd7Y9mVd0dCXiHgh4EQEQ2DmvVpYN+lNynxHfyRn3WLYXHF29646TrY0H/55XdOzHXlgP1gAEAiEAAtOgcqhs0PbkjP8YOWjsQ64msWO77znZWvfpgeFF+FYiPPbeRgAEpvNvZdmgbUm9h47OGfdEthu/F7J6169Otp05sjev6Nhkb4cuVgcEBL4PLJjzD5UNLiPJf+XAbzzksm/mvuc0yb63hxcdxc2reLqFQAAZmIGbD7yQdbO/o/63ffNubO03Ym6ak6Ph1MFnGk5XvpDsS0i/beSNNf++FtbJRsM2IGABAiCwICDu20hDE5IH/U4i+ka/wgUZaQOvcBReDV++J5/a/2SdTPTPjtZjvxw1m45YEBMQAQRcg4CjHkinorZvI02LT8x8LD4hIytzxE2ZaYOmxNTUhmPvUO3B52o7O+pqOttr7xg1m7bG1CAoBwIxQgAEFgbwBzYkTpeS0pfIckdees40f3ru1elJaXlhSIh8aFtDJdVXvVFfX73VJ0kJlXJb/QMji9v/falY5KIxEwi4FgEQWASuU74QJDl7XldH8/S4xLT41P6X+VKzv5OW0ncsSXG9IpB4/hS5q4WaT++mppN/b2g68YG/q72hMy4x5Y+dLSefxhdzWAIxhHgAARBYlE7cW0oTknpn/cTvpyld7V+NSkju35SUnu/vlZbfJzF1SEJ88gCKT8okX0If8sWlkOSLVzTK/k7ydzWTv6OROttqqbP1OLU3fdHR0lDR2FZf4etoPZEal3jBPp+P3mk7U/PH0SX0UZSmYjoQ8BwCIDCLXcpuuJDi6GtxcWljpfiEUXJX52DZ35kpU0dv8ncmybI/jqmUJF8X+eLbJEo4I/nia6W4+KNyZ8e+rq6G3XIXfYpv0bbYMRDnSQRAYJzdur+UljOVhSVn/48XEAACkSMAAoscu4hmsm9DUggM3w4UEX6YBAS0CIDAOMcDCIwz4FDnaQRAYJzdCwLjDDjUeRoBEBhn94LAOAMOdZ5GAATG2b0gMM6AQ52nEQCBcXYvCIwz4FDnaQRAYJzdCwLjDDjUeRoBEBhn94LAOAMOdZ5GAATG2b0gMM6AQ52nEQCBcXYvCIwz4FDnaQRAYJzdCwLjDDjUeRoBEBhn94LAOAMOdZ5GAATG2b0gMM6AQ52nEQCBcXYvCIwz4FDnaQRAYJzdCwLjDDjUeRoBEBhn94LAOAMOdZ5GAATG2b0gMM6AQ52nEQCBcXYvCIwz4FDnaQRAYJzdCwLjDDjUeRoBEBgH91Y8Qzn5c6maqdITmPY9DqZABRDwFAIgMJvdWb6J+sh++oSIqnwSLfbLdBVT6ZPoLb9MDxNRruSjiwtmUaPNpkA8EPAcAiAwDi7dv4FWkUyLZKI2iaiGqZSJsiSJkohodWEx3c3BDKgAAp5DAATGwaUsCyM/nfITJamAyywLI2ojH/VD9sXBCVDhSQRAYJzcyrIwmeh2iShRUSlRO8n0OLIvTg6AGk8iAALj5NZze2GnZFLKRmRfnHCHGm8jAALj6F81CzubgCH74gg9VHkUARAYR8cqWZh8dhNfkigLe18cwYcqTyIAAuPs1vINtIGpLCimYs6qoQ4IeA4BSwmMZRgJvYb8q/3MF8M8hxQW5FoEEnsPPtzRcvTryHhd60JDwy0lsIqNNDM5c8JTQyasS/ceVFiRGxFoqH6Tju99/K/5v6ib7Eb7YXNwBCwlsIP/J+P9foULJ6fnTgPuQMARCBz9eH5906l/LBhVTC84wiAYYSkClhHYuTaBhpFTPiBffIqlRkIYEIgEAX9nMx145zKSfJSG8jESBJ0/xzICY+Vjr6xvPTX4krUoH53vdyEsRPnofTdbRmAoH70fLG5bIcpHt3ksfHstITCUj+EDjxn2IoDy0V58nSLdEgJD+egUd8IOFQFWPp7c9/i2ET+vuxyoeBcBSwgM5aN3A8StK0P56FbPhWd31ASG8jE8wDHafgRQPtqPsVM0RE1gKB+d4krYgfJRvBiImsBQPooXNE5fMcpHp3vIOvuiIjCUj9Y5ApKsQQDlozU4ukVKVASG8tEtbhbHTpw+iuNrttKoCAzlo1jB4obVonx0g5esszFiAkP5aJ0TIMkaBFA+WoOjm6RETGAoH93kZjFsRfkohp+1q4yYwFA+ihcsTl8xykene8h6+yIiMJSP1jsCEqNDAOVjdPi5dXZEBGZUPpa9+hZ9dqSali6cbTkeFYeO0PJHS2ntQ4sp8wLrb+xZuWYjXTQ0h4qmX3We7cHeC7ZQZvN1JXfTulWL6dLxYyzHJJDAYDi1tLbRwmWP0cwZ00zbw9Z+3+pne6jasnZlQJysWCCLoe0f7aY1K+6gXsnKN9CZeqF8NAWT5wZFRGBG5aNXCSxSr7OHX33ZQerhElgk61DXoNrPCHLBktX05AOLKH/40EhEBp0TKYGhfLTcFa4QGDaBBSsftQT24c49tPa5lxUQXnrtXRozaiS9XLpKCXr2UKT2TqF3/vbfyn/3L7pZydr0GULtV/U0/56H6VfFP6Nlj5YqY6d879tUtu6BHllYIHksm7ph/tIeelX5pZtfVewqmTld+Uv/6pvblLHsxbILlkXurfiMXn793e6fmbxhgwfR5le2dmcHwQib2X7vb9bR7SU30LLVz9LyO0tCPvCqfRd/rYCefv4V2rPvQLd+lgVp187kF81bomDCXgzDW37xv7p/x8ZuemwprXxiI9XVNylref8/n6E/vP4X+t8/+oHyfzUTU3EOZKOewIJlcUb4MvtY5pczILs7m1N9zt5jsTLxmlmKr374vW9RQ2NTWBkYykdXcI0tRoZNYPs20I2p/b71ZKCbV/UExoJyx2ubiD2QagAzomIPxR+3blMILatvhvLQsd+r4wI9WGz1RiUkk8ceAkZsNafrlLLtJ9MmKzK1D6D23yoBsDGsvNOWiezf1cdPdj9E2vfYGtnryu9/h55+/j/pzrkzA5Y6zJ5tO3YqNqhzApWnWq+qBMB+x4j1k0/LlQebker0qZMVDCdNGNvj30ymNivS4pTSK7kH7lryKcgbphDsg7+eR2//9e8KOQcqcwNlYMH8wPSzNWvxVf2qXde8ux9W/M9eapmtH2e2hET5aAs3uEJo2ATGysfsUbdPTsuZet4C9QTGgl/NlrTv6R8K9T1GBto9Gm1mEIrAtA8Oy9rUbMIoS9JnEnoCU+Wx/2vfY/NYNrhn7wG67/Ziw70kNmfyxPHK+4xgNr34Gq24syTovo5qEyMplZi0ZGG0F2eEk0pgqjz9mhnJ3v/4BhozeqShbYH2wNgfpVB7elpdKjGpdmjtZX9wtFkts0n7s5mnCOWjGZS8OSYsAgt1+qgnMKNyS/8gWkFg6ga8vhzS2qRuqrPSTH2pD6OewLQb+np7Qz1k+vKO6dKW0EahpCcY/Ya81g617FJlqfIDZWBqRquXb2ZT36iEVMlIuxYjfINl1rv27OuxaR8KWz12KB+9SUxmVxUWgQUrH5nCcAhMn+Gwn/UZmFFppD+F1D7YRgSmyjbKRswSmLq3lT98GGVnXRDwNC7QRrSZAw6zBMbKV7XsZplQqAzMiMCYTSdrvqKKQ4eVUjLQ6a6ewPR+VgNNnz0GysACbQ1Em4GhfDT7qHtzXFgEFqx8DJfA1D0rNk+/B8Y2e9W9o9VPb+7eKwm29xIqA9MTmJrBhJuBqaUhyypYKTnr+mt6bM7rH2Q1bJg+bUkdKJwiJTBGRIFwUkvIQATG9h7Vspbttan7dXq7zGZg+nVr8Q2WgQXaA2U2mG2jQPnoTWIyuyrTBBaqfAyXwBrPNNO7f/tH90mbusGtLUMeX347fbz7/yn7WWqgK3oCnEKGIjBGiNqyi52CsZc6j5EAO4lUTyEDlZBsvLbPLVDPlVGbgVpWzpxxdu8wUL+cWQJjWKn2Mlmlj9yjbPgzomKb8+wPAnupp5B6AvvRlO/S5v/c2uNk1Gh/LdAemPYEURtoRviqBxBGp57aeWwtlYerQu4XMr0oH80+5t4dZ5rAQpWP4UBk9LCEI8PNYxmZsdaN4qIfu3kZMbcd5WPMXRBzA0wTWKjyMZyViE5gLONgr1AneeFgKuJYlI8ier3nmk0RmJnyEVACAZ4IoHzkibZzdZkiMCvLR+dCAcvchADKRzd5yz5bTRGYleWjfUuBZJEQQPkokreN1xqSwFA+Rh4oVt8MwSzRN8mqn+c0+7GbyFfjnJkoH53ji1hbEpLAUD5G7iKrrwDStmKobSeR3t4Q+apiPxPlY+x94BQLQhKYqOWjE2+GCERWZj4O5JRgs8oOlI9WIel+OUEJTOTy0Wk3Qxh1+Ls/BMNbAcrH8PDy+uigBCZy+ei0myFEzLQCPXwoH71OSeGtLyiBiVo+MgjD+VgPj5shkIGdDWyUj+E94F4fbUhgIpeP4RAYz5shjDbstXePeTlgUT562buRrc2QwEQuH6MhMDtvhjA6hdz8ypvnfcA9snBw9qz6qq10av+abSN+Xne5sy2FdbwQMCQwkcvHcAiM580QzC59H1ig7wjgFTy89bDysaXmH7fmz6bNvHVDnzMRCEhgopePznSV2FahfBTb/0arD0hgopePCBXnIYDy0Xk+cYJFAQlM9PLRCY6BDT0RQPmIiAiEwHkEhvIRgeI0BFA+Os0jzrHnPAJD+egc58CSswigfEQkmN4DQ/mIYHEaAigfneYR59jTIwND+egcx8CSswigfEQkBEOgB4GhfESwOA0BlI9O84iz7OlBYCgfneUcWHP2s49oXkUkhNwDQ/mIIHEaAigfneYR59nTnYGhfHSec0S3COWj6BEQev3dBIbyMTRYGMEXAZSPfPF2ozaFwFA+utF13rYZ5aO3/WvV6hQCQ/loFZyQYxUCKB+tQtLbchQCq3g+Y9uA0bd/Py1nqrdXi9W5BgGUj65xVUwNlVA+xhR/KA+AAMpHhIVZBCSUj2ahwjheCKB85IW0+/VIKB/d70SvreCLj+bVt9Z+hJtXveZYG9YjHfr9kM/bz3wxzAbZEAkEIkIgsfeQwx0tX3y9YBY1RiQAk4RBIOQ3cwuDBKeF7t9Ay5iqwmJawUkl1AABzyIAAuPsWhAYZ8ChztMIgMA4uxcExhlwqPM0AiAwzu4FgXEGHOo8jQAIjLN7QWCcAYc6TyMAAuPsXhAYZ8ChztMIgMA4uxcExhlwqPM0AiAwzu4FgXEGHOo8jQAIjLN7QWCcAYc6TyMAAuPsXhAYZ8ChztMIgMA4uxcExhlwqPM0AiAwzu4FgXEGHOo8jQAIjLN7QWCcAYc6TyMAAuPsXhAYZ8ChztMIgMA4uxcExhlwqPM0AiAwzu4FgXEGHOo8jQAIjLN7QWCcAYc6TyMAAuPsXhAYZ8ChztMIgMA4uxcExhlwqPM0AiAwzu4FgXEGHOo8jQAIjLN7QWCcAYc6TyMAAuPsXhAYZ8ChztMIgMA4uxcExhlwqPM0AiAwzu4FgXEGHOo8jQAIjLN7QWCcAYc6TyMAAuPsXhAYZ8ChztMIgMA4uxcExhlwqPM0AiAwzu4FgXEGHOo8jQAIjLN7QWCcAYc6TyMAAuPsXhAYZ8ChztMIgMA4uLfiGcrJn0vVTJWewLTvcTAFKoCApxAAgdnszvJN1Ef20ydEVOWTaLFfpquYSp9Eb/llepiIciUfXVwwixptNgXigYDnEACBcXDp/g20imRaJBO1SUQ1TKVMlCVJlEREqwuL6W4OZkAFEPAcAiAwDi5lWRj56ZSfKEkFXGZZGFEb+agfsi8OToAKTyIAAuPkVpaFyUS3S0SJikqJ2kmmx5F9cXIA1HgSARAYJ7ee2ws7JZNSNiL74oQ71HgbARAYR/+qWdjZBAzZF0foocqjCIDAODpWycLks5v4kkRZ2PviCD5UeRIBEBhnt5ZvoA1MZUExFXNWDXVAwHMIxJzAzjV2LvccsliQVQgsLyymFVYJgxxvIeAIAssaMWd51sg53kIWq4kagZoD66nm4HoQWNRIelcACMy7vnX9ykBgrneh7QsAgdkOMRREigAILFLkxJkHAhPH165bKQjMdS7jbjAIjDvkUGgWARCYWaTEHQcCE9f3jl85CMzxLoq5gSCwmLsABhghAAJDbIRCAAQWCiG8HzMEQGAxg941ikFgrnGVeIaCwMTzebgrBoGFixjGc0MABMYNatcqAoG51nXeNxwE5n0fR7tCEFi0CGK+bQiAwGyD1jOCQWCecaX3FgIC855PrV4RCMxqRCHPMgRAYJZB6VlBIDDPutb9CwOBud+Hdq8ABGY3wpAfMQIgsIihE2YiCEwYV7tvoSAw9/mMt8UgMN6IQ59pBEBgpqESdqArCKzs1bdo+0e7ac2KO6hXsvKtZCFfFYeO0PJHS2ntQ4sp84L0HuOZvBvmL+3xu/sX3UxLF87u/l1LaxstXPYYlW5+VfndlO99m8rWPXCerJVrNlL18ZNh2aY3vvarerr3N+vowV/Po7f/+veQtoVcvMGAD3fuoYnXzOp+d8valVQ0/SrlZ/beth07e2AQSAyztWjeEnrnb//d/XbJzOmm1s98cl3J3bRu1WK6dPyYkMsAgYWESPgBwhKYlhDVh5IRGHuwVPLKGZDd/UCzB5yRlZbE2AO5Zn2ZEkQL5xRR/vChEQUUkzt54nhFt56s9bZFpOAcQc27+2F6uXSVYqe6xkkTxnaTmNaOQHpU4t/x2qYeBMR+v/rpzd2yjWxk8tWX9o+F0XgQWKTeFmee6wlM/au+Z9+B7iyJuU/NEgJlToEyOvZwXTQ0R3mYA5EVk6kdw35mctTXZ0eqQ2YvgcKK2b/pxddoxZ0lSnYZyjYzMvRjApEVG6PPUvW2aOUEy2jVDG7zK1sNMzE1y7y95AZatvpZWn5nSUjCB4GJQ0SRrtTVBKbPTrTl3BfVx4OWkPoMbP49D3c/VGqmECxLYKSw7NFSmnX9NZTVN6O7BGTlqr5UU52jz1y0JKiWcoEyMK1tkRAYI58FS1bTkw8sCkoa2jXps0l9lshK8DGjRtKKRSXKehfP+7mCwcwZ0wKWh9oSVSV+dc3IwCJ9fDHP1QSmz5S0WULN6bqw9sC0+0H6TMsMaYQqv4KVVWr5qBKafn9Oa5tWTqC9PPa+nihDZU9amYHWod+jU8m/uaVVyXRZ6cvIPhhuWrnBMj2tLcjAQFChEHA9gWk3pdliWVbA9nnYK9gmvv5QQJt1mcnAzBwEhAJfLe20WYtRCclkGWWEoQjBbAamlslaQtWWh0t+NZsW3f9Ej/JPS0xGJB5o41/1U7B9QxBYqAjC+64nMKN9l1CnkHoCY9mcKuuTT8vP27DXlntXfv87Suahbvqz99hDqpZ6LPvTE2ugzCgQYQQiMK1tgU5hQxGY0R6YNrNST2oDkZCq/+YbZ9DDa5/vPtkNVkbrM0U93mydofYNQWAgqFAIuJrA9Htg7KHY/MqbyklhqBIyWAZmdAqpnuIx2foTSSOSCOUA/X5QJBlYKB1qFhXoFFJ70mq0B6YS5IJZP+2Rgal7jqz9g+1/aU80VZuMcDE6KEEJacabGKMi4BoC0+8Lqb1HbLOe9RaxU0htWaKSm5I56fq3ApV/+l4mfR+YVrZRiaklUH3vmVHIBTqFNFqr2R44I136wwV975tRJmeUXZY+cg89/fwrCvZG+3RG5avqn5kzpna3cejtRgYGogqFgCsILNQi3P5+pAcAVq87mB1mmonN7B2GYzMILBy0xBwLAnOA3wPtRfE2y0wnPiOoP27ddl7DqppNqaeRVtkOArMKSe/KAYF517e2rEzbOKwqMHOiGIkxILBIUBNrDghMLH+7arUgMFe5KybGgsBiAjuUmkEABGYGJbHHOJLAwml8DHYbRLDbF1S3B2qZCCckwrFVL5fZft/qZ7t/bbYUi9bmQOsze/uGfm6gE91AH5kKpDPUTR4gsHAiUcyxjiYwbaNooFOwYLdBMPIKdfsCc7napMn+zfqZzLY/qOES6LaIUCd26j7ST6ZN7tFdr/5+0S0zDVsLrLBZH+pmb9/QzlPXPWzwwB4f4Da7oW/mJg8QmJikFM6qXUNggTrrjW6DMHv7AgNKbR1gd2Gpt1GEA2AgAgv2KYBAHx/SE0OoD2+Ha3OoNg2zt29o7Qz2ucdQa2RyzNzkAQILJxLFHOsaAtN/9CTYx1jMfvZP277Auuv119roG0oDlXhGGZjRx2S07QraEz3WFFp5uEq53WLXnn2GH7MJZrNRCIcisHD7t7QNr+oHutkFh6wxlr3YZynZy+hjXmY/ggQCE5OUwlm1owlMe+un/l4vfde4/rYDow9ya8HRkkmwq2SCARpoD8zo9lZtxseu4NFeccPsZ/awTw2UVx42fPjN2hzILqY/0O2pZm7f0GKgZk/6z4RqLzZk4418EMx3Wj0gsHAeZTHHOprAtHtg+qwq2G0QZjMw/SY6CwGjj8QYhYdRCRno/i3tR3L+8PpfepSsWmIK1lQaic1WZmDa8vDw0WM9MkUtMbGPeGkzWj0BhrrSQH8c+gAAIABJREFUm40HgYlJSuGs2jUEpn1wCvKGBb0NYkjOAOU+e/2Hi/Xll55ktHtXge6mN1tCGu0BqQS2eP4v6NkXXulx+Z/2Q91GhBOImM3c9RWKwIz2wAJdPKhdm37f0MylhYEIX0vs2ut1QGDhPMpijnUNgWkfXjO3QRidQqq3LwQ6KYzk/vlwMjBtmarNwLS2sv0voy8wscpmfaiHun3D6HZWbQam7uexL+xQS+VAX4ISiCyNDl1AYGKSUjirdjSBaffA2KLU/iKzt0EY3b4Q7OqbUL1JenCN9pqMeqHU/SZ1/4itcdEtN1JDY5PyDUhG3/Bjpc2BAiTY7Rv68eqByp1zZ3Z/cxOzO61PKq1++gXDb3BSiY39X385Y6CbPEBg4TzKYo51JIF52RVm9ufM3JUVS4zMZKpm1hlqDSCwUAjhfRBYDGJAzQwDHRhoTyPDbarluRSjZlxmg9mvWQtlLwgsFEJ4HwQWoxjQl2yqGeGegsbI/G61gU5F9RclRmojCCxS5MSZBwITx9euWykIzHUu424wCIw75FBoFgEQmFmkxB0HAhPX945fOQjM8S6KuYEgsJi7AAYYIQACQ2yEQgAEFgohvB8zBEBgMYPeNYpBYK5xlXiGgsDE83m4KwaBhYsYxnNDAATGDWrXKgKBudZ13jccBOZ9H0e7QhBYtAhivm0IgMBsg9YzgkFgnnGl9xYCAvOeT61eEQjMakQhzzIEQGCWQelZQSAwz7rW/QsDgbnfh3avAARmN8KQHzECILCIoRNmIghMGFe7b6EgMPf5jLfFIDDeiEOfaQRAYKahEnagIwiMfQOXsB7AwkMhsLywmFaEGoT3xUQg5gQmGuz7N9AytmY8lKJ5Huu1AwEQmB2oBpEJAuMMONR5GgEQGGf3gsA4Aw51nkYABMbZvSAwzoBDnacRAIFxdi8IjDPgUOdpBEBgnN0LAuMMONR5GgEQGGf3gsA4Aw51nkYABMbZvSAwzoBDnacRAIFxdi8IjDPgUOdpBEBgnN0LAuMMONR5GgEQGGf3gsA4Aw51nkYABMbZvSAwzoBDnacRAIFxdi8IjDPgUOdpBEBgnN0LAuMMONR5GgEQGGf3gsA4Aw51nkYABMbZvSAwzoBDnacRAIFxdi8IjDPgUOdpBEBgnN0LAuMMONR5GgEQGGf3gsA4Aw51nkYABMbZvSAwzoBDnacRAIFxcG/FM5STP5eqmSo9gWnf42AKVAABTyEAArPZneWbqI/sp0+IqMon0WK/TFcxlT6J3vLL9DAR5Uo+urhgFjXabArEAwHPIQAC4+DS/RtoFcm0SCZqk4hqmEqZKEuSKImIVhcW090czIAKIOA5BEBgHFzKsjDy0yk/UZIKuMyyMKI28lE/ZF8cnAAVnkQABMbJrSwLk4lul4gSFZUStZNMjyP74uQAqPEkAiAwTm49txd2SialbET2xQl3qPE2AiAwjv5Vs7CzCRiyL47QQ5VHEQCBcXSskoXJZzfxJYmysPfFEXyo8iQCIDDObi3fQBuYyoJiKuasGuqAgOcQAIFxdumB5/v8lySRPOLnjd/jrBrqgIDnEACBcXLpoVJK70zKeK9P/0mjmMrGE9v3xbfVXTG8hOo5mQA1QMBzCIDAOLh0/zM0LC4l7S8Zudde2K9wQRxTeWr/k111VX/+vKu54QeFc+kwBzOgAgh4DgEQmM0u3buRxsbH9X47M29WdubwG3toqz30AtVWbjrZ2XXmytGzabfNpkA8EPAcAiAwG11avoEmU1ziGwNG35WSPvjagJrqj/6Zju99pJm62q8uKKZtNpoD0UDAcwiAwGxy6f5N9BPy0ys533yE+gyYHFRL4/FtVP0/d7Hu1hmFs+iPNpkEsUDAcwiAwGxw6f71VCzFJT81ePyapJSs8aY0NNfspKM7F7bJXa23Fs4522qBFxAAAsERAIFZHCH7NtJdCYmZS3IvebJPclp+WNJbGyqo6uMFjR3ttQ+Mmk2PhDUZg4GAgAiAwCx0evmmxEcSUgbOGTz+qfSElEERSe5oPkZHd95a39H85fqCWe13RSQEk4CAIAiAwCxydMXv+ryQ1GfY1bnjn8qIS0iNSmpXRxNV7by1ru3M4Tfyf97Y8+gyKsmYDAS8hQAIzAJ/Hnwh/a3kjK9/J3fcmjQLxHWLqNq1sKG17l9/H3FjvXKLK15AAAj0RAAEFkVE7Cql9LSkjL+k9p80euCYZSlRiDKc+uWeFc3o2rcDWcj0AgIgsAi9GKi7PkJRIaehaz8kRBggKAIgsAgc391dP2JWduZFfLao0LUfgaMwxfMIgMDCdLHaXd9/1KKUjCE/DnN2dMPRtR8dfpjtPQRAYGH4NJzu+jDEhjUUXfthwYXBHkcABGbSwZF015sUHfYwdO2HDRkmeBQBEJgJx7Lu+viEvksHT3gqNdzuehPiIxrCuvaPfnRrU2fH6ZXo2o8IQkzyAAIgsBBOZN31iSkD5+RG0V1vV5yga98uZCHXLQiAwIJ4ysruersCortrv/HwG/m/RNe+XThDrjMRAIEZ+MWu7nq7wgBd+3Yhe1Zu+cb4h2W5E59NtRfmsKTLUtz1IDAdZDy668PyUhiDWdd+04ntexva6n4wDnfth4Fc6KEHnk+tGnzJ0znJGcpXGuAVYwQOvT+toavlxBUgMI0jeHbX2+V/dO1bj2zFehrvS8l+L2/ym5Z+1tV6S8WQ2Fq3j7746JZj+b9sygGBnfN5LLrr7Qo3dO1biywrH/teWHRHv8JblS9kwSu2CJza/1TX6c/LHiuY3bkYBMb2N87dXR+L7nq7QgFd+9Yhi/LROiytkKSWj/lzaKfwBOaE7nornBpIBrr2o0cW5WP0GFopQVs+MrlCE1jFRppNvuS1uePM311vpTN4yGJd+1W7Frb5O3HXfiR4o3yMBDX75mjLR6EJbF8p3RWf7Kzuervcjq79yJFF+Rg5dnbM1JaPwhKYcnd9r4FzBl8S+d31djjHTplK1/7Ht9Z3tOCufbM4o3w0ixSfcfryUUgCc0N3vV3hgK798JBF+RgeXnaP1pePwhGY27rr7QoIdO2bQxblozmceI3Sl4/CEJibu+vtCg507QdHFuWjXZEXmdxA5aMQBHauu/7djNxrL+pXuACNiJr4YV379VV//qyzueGHhXPpcGSh5c1ZKB+d5ddA5aPnCcxL3fV2hVPtZy9Q7cFNJzu7zlw5ejbttkuP2+SifHSWxwKVj54mMNZdL/sS3xgwmv/d9c5yfWhr6r74Ex3fu7pZ8rdfXVBM20LP8PYIpXzslf1e3uX47KMTPG1UPnqWwLzcXW9XQKFr/9/Iony0K8oik2tUPnqSwEToro8sDELPQtf+WYxQPoaOFZ4jjMpHzxGYSN31dgWQ6F37KB/tiqzI5AYrHz1FYCJ210cWEqFnidy1j/IxdHzwHBGsfPQMgbHu+sTUYVcPueSpDF9CKk98PatL1K79iudSq4d86+lBuHnVGaEdrHz0BIGhu97eQBOpax/lo72xFK50pXz8xy3H8m9qyjGa69rrdLq76wdMGj3w68tSwgUH480jIErXPspH8zHBY2So8tG1GRi663mET08d5+7a/6zLw137KB/5x1UwjaHKR1cSGOuuT4jv/XbfvFnZmRfd6CzEPW4N69o/XbnpZEen97r2UT46K3jNlI+uIzB018c+yOzu2pdlWY50lZIkRbwlgvIxUtTtmWemfHQVgaG73p5AiUSqnV37sSIwlI+RRIJ9cyrfn9rgbzl5BfvijmBaIv6LZZ/p50uOtLu+7NW36LMj1bR04WzT5q5cs5HuW/1sj/Fb1q6koulXdf+u9qt6Kpq3hN75238rvyuZOZ3WrLiDeiUndY9paW2jhcseo5wB2ab1Vxw6QteV3E179h3oljPle9+msnUPUOYF6aZls3XfMH9p9/gdr22iS8eP6bEmVde6VYvPe88MWGrXPvlb5+fPpo1m5pgZwwhs5cqV9OGHH1JZWRllZmYq09jvLrroIioqKjIUY5SBlW+k2wpm02+NJlpRPupjQtV1/6KbA/qf4b/80VJa+9DiHr7V22gUw+z37DVs8CDa/MpWJf4efWbzebE7ZtRIerl0FeUPHxpw+WqczpwxLaI4YM/L5Inj6fDRY2E/a0b+MFs+uiIDi6a7PlICY8CopMcCbcGS1fTkA4uUIFADdeaMqd2kxvRs/2h3DxL7cOceJbDY68FfzwsapKoj9bqUB3fNWW7QknAw2cyWza+82U16qr1svpbEVLl62WZIRh3T3bXfenrlqBJ6JJy5RmNVArvvvvtoy5Yt3YQVKYHt30C/l2Wa4ZPon7KPlhTOonf1uq0oHwPhHC05MDvNENi2HTuV+AgUK6F8Eq2NWgJjurR/6EPpNnrfbPnoeAKLtrte63zVUaWbX1Vw02dVKpj6INA7OBBZBQoC1bEsuC4ammPKsYEITCUrbYZnJNuIrPQy2Lh7f7OObi+5gZatfpaW31li+Bc6VBBa3bWvElhjY6OietasWZSfn98jA2tpaaGFCxdSaWkpjRkzhl5++WVlTJAMrEb2UyZJdEYi2qcnMivKx2B/KJj/x40ZpfwhVB46SaIVd5bQExt+r2Rg5ZWHae1zLyvvvfTau6RmTTWn62jiNbOU3+szOeZT9srqm6HMv2bKd0MSmDYzV3UMyRmgVApqBqatQLQ6tdWBtip47Z3/ooK8YcRsZS99ph8qfgK9b7Z8dDSBWdFdryUw7b/VBzhQZqQnMG2qn9IrWXH2pAljgxKSVj5z7KYXX1MClpWY+vKOOUENJvZvbbbHfmb2aAkwmGwW1Gy8vuTUBwkbp/7VVkuRaP5y+jua6IuPb61rbzr8Rv4vG6M6GlYJjNk8efJk2rZtGy1durQHgbFsjL3Y71mpyX5m5WZWVlbALRFWQsoyPURESr+gzIhMpn3koyW+LvrKiqtzAhGY9neMaNj2gFqya+OKERAjKlbqX/y1gh5bD+FUEcEyMH1sqGPvnDuzm8AYNmo5yv697NFSmnX9NQpJsi0TNYtnc6uPnzxv2yQSstLPCad8dCyBfbZl0A/9cvv/HX752wnRgGJEYMFkBtoDU/eQzKbbWoJgc9RAMNqHUO0JtAem318LJjtQthZorWoGx/5aMp1ago0G70PvX9nR1dGY4O9qi1hMwWxZISSVoNasWUNTp06lP/zhD8oe2PTp05Xsa+bMmXTppZdSbW0tzZ8/n5YvX07y9gJjvTK1kES9ugfICpF1+qT4x/teWHRHv8Jbo7qt12gPTM309dm1nsC0f3giiVv1j51+/zbQ/icbq+owIjDtfq6e/Mzu30USBOGUj44lMGaY1RmY3sFGjjUqIVnWNX3qZFMZmJmDgEDONSohtcEdTLaZDCzQgxZqozdUINqVgbEMq6KigjZt2qSYwMrFYARWUFAQMAPbt55uI4kekohSWJOG5KMzpGZgUurvrPjso1EJqf3jpN201xOYmvmoWbp6+GRVBqbfQmF2sRJRS2DsD5q2QlDJl8WVWsqq64k2ZoxiKpzy0dEExoyzcg9MCxgLtvn3PBxw7ydQGq7/i6jfsFfJkZ3GsHRbXwZqg/Xtv/69xwmh8mCeOyli/9bP1doa6H2tbPa+NtXXPjxqlvXqm9vOO3AI5yHRB55de2BqBqZkC2VldMMNN3Rv6kdQQip7YLLv36Uj28y34vRRxcPpBKbfuw2UgWn3r7TVBlujlmBD/UGL9P1wy0fHExgz0KpTSO1eUjh7YKoj1X0vo1NI9eSPEZSe4EIFt5Zo9ASmzarMyDY6hWSnpkYZpJnMLVBQ2nkKqSUwViay9glWNrL/h7OJv389/V6WaIZE9E+256U9hbTi9NGNBNbc0qr8oWOEpc3AtK0Q2q0P/R6YPsYiJSz9vHDLR1cQGDPSij4wfekUrITU7yPoT4D0stRTmWCb/GY2PgPtgelPiwIdIOhl6w8KjPZh9A+ftjUkVFDa2QcWSrfR+4ankOvptoI55/eBWXH6aDeBqeWbUT+ZFotgm/jamGXxOvfnM+itbR/SQ3fPp3tWrVVOIdUDhEAn9drYdEr56BoCY4aiEz/Sx9r6eV7oxLeyfLQeYfEkRlI+uorAmLH4LGTsA9srn4W0snyMvVfcb0Ek5aPrCIwZjNsoYhesXrqNwsryMXYe8Y7mcE8f1ZW74rOQejfhPjD+geul+8BY+RjXq/97wy/fmsYfSWjUIxBp+ejKDExdfPeNrP0njR44Bjey2vlYfPmvFc1Nx7fvbWir+8G4Eqq3UxcP2SgfeaBsXkek5aOrCUyFB3fimw+USEZ68U58lI+RRIJ9cyItHz1BYGwRrGs/qc+wq3PHP5URh28lsiTSrOyut8Qgi4SgfLQISIvERFM+eobA2EKi7dq3yB+eEGN1d72TQEH56CRvEEVTPnqKwNhi9m2ku+IT+i4dPOGp1OS0fGd5yiXW2NFd76SlV/wutXrIBHzvo1N8Ek356DkCYwvav56KffHJT+WOW5OUkjXeKX5yhR12ddc7ZfEoH53iibN2sPLx6Me3VI/8RVNupJa5so0i1GLRtR8KofPft7O7Pnxr7JmB8tEeXCOVGm356MkMTAUTXfvmw8ru7nrzltg7EuWjvfiGKz3a8tHTBMYWx7r24+N6v505At8haRRcrLu+9uCmk51d3vuuR+2aUT6GSy/2jreifPQ8gSl7Ys/QsPiUtHfTc6+9qF/hgqhu3bTXpfyle6m7PhR6KB9DIcT3fSvKRyEIjC0SXfvnB+eXe1Y0N53wTnd9qMcP5WMohPi+X7ltaoO/OfT3PoayypOb+EaLRtf+WWS82F0fLNBRPoaiAb7vW1U+CpOB9dgLEbhrv6ujiap23lrX1hj9twfxDfnotKF8jA4/q2dbVT4KSWBs0SJ27Xu5uz7UA4byMRRCfN+3qnwUlsDYwkXq2vd6dz3KR74EFI02K8tHoQmMLV6Ern2vd9eHephQPoZCiO/7VpaPwhOYQmKb6Cfkp1dyvvkI9Rkwma83bdYmQnd9KAhRPoZCiO/7VpaPILBzvmNd+xSX+MaA0XelpA++lq9HbdLGuutP7FvdTF3tVxcU0zab1DhaLE4fneUeq8tHEJjGv91d+3mzsjOH3+gsz4dpjSjd9aFgQfkYCiG+71tdPoLAdP47d9f+XzJyr73QrV3757rrP+9qbvhB4Vw6zDdEnaUN5aOz/GF1+QgCC+BfN3fti9ZdH+zxRPnoLPKyo3wEgQXxsdu69kXrrg/1eO7bGPdTSe56MdQ4vM8PAUmKf6RgdudiKzUK9VGicIFzw137onbXh+tLr4/fv4GWsTUWFtMKr69Vuz4QWAhvK137KQPnDB7/VHpCyiBHxQbrrq/aeWt9e/OX6wtmtd/lKONgDFcEQGBc4XaXMid27Xd313ecXjlqNj3iLkRhrdUIgMCsRtRj8ljXvhSX/NTg8bG/a5911x/dubBN7mq9tXAObfAY1FhOBAiAwCIATbQpTujaR3e9aFFnbr0gMHM4CT8qll376K4XPvwMAQCBITZMIxCLrn1015t2j5ADQWBCuj3yRfPs2kd3feR+EmUmCEwUT1u4zkOllN6ZlPFen/6TRg0csyzFQtHdotBdbweq3pMJAvOeT7mtyK6ufXTXc3Oh6xWBwFzvwtguoOL/9Hkhqfewq3PHP5URl5AalTHoro8KPiEng8CEdLu1i7aia1+5u37nrfUd6K631jkelwYC87iDeS2Pde0nJGYuyb3kyT7JaflhqWXd9VUfL2jsaK99AN31YUEn/GAQmPAhYB0AkXTto7veOvxFlAQCE9HrNq45nK59dNfb6AhBRIPABHE0z2Wa6dqvP/pnOr73EaHvrufpE6/qAoF51bMxXlewrv3aQy9QbeWmk51dZ64cPZt2x9hUqHcxAiAwFzvP6aYH6tpHd73TveYu+0Bg7vKX66zVdu0z4xtPbN8X31Z3xfASqnfdYmCw4xAAgTnOJd40qOJ3vQ+TTJR/05lh3lwhVhULBEBgsUBdQJ2iBpqArua6ZFHjCnficw0zIlEDjTPMwqkTNa5AYJxDXdRA4wyzcOpEjSsQGOdQFzXQOMMsnDpR4woExjnURQ00zjALp07UuAKBcQ51UQONM8zCqRM1rkBgnENd1EDjDLNw6kSNKxAY51AXNdA4wyycOlHjCgTGOdRFDTTOMAunTtS4AoFxDnVRA40zzMKpEzWuQGCcQ13UQOMMs3DqRI0rEBjnUBc10DjDLJw6UeMKBMY51EUNNM4wC6dO1LgCgXEOdVEDjTPMwqkTNa5AYJxDXdRA4wyzcOpEjSsQGOdQFzXQOMMsnDpR4woExjnURQ00zjALp07UuAKBcQ51UQONM8zCqRM1rkBgNoS6LMtytGIlSYJvogVRoPkgMIGcbfdSQWB2Iwz5egRAYIgJqxC4dMqUKTvKysooMzNTkdnS0kILFy6kSZMmUVFRkSk9yMBMwYRB5xAAgSEULENgy5Yt8meffUZLly5VZDIy0/5sRhEIzAxKGKMiAAJDLFiGQHNzs7xs2TKaNWsWZWVl0b333ksPPvigkpGtXLmS7rvvPkXXli1blIystrZW+f8777yj/H7Hjh00ceJE7IFZ5hHvCwKBed/H3FbI9sA+/PBD2rZtm6Jz8uTJdOmll/bIxBhpzZ8/n5YvX067du3qztDYvM2bN1NpaWkKqz65GQ1FrkYABOZq9znLeHUTn2Vb7KWWktrsS7WYZWHjxo2j6667jvbs2aNkX4zsUEI6y6dOtwYE5nQPucg+lcD0e1+MwC666CLDjXyWfU2cOJGmTJnCysksIqp10bJhagwRAIHFEHyvqTYiMEZorDxk/2cvtu/FsrPDhw93/1xRUaGUlS+99BIIzGuBYeN6QGA2giuaaCMCYzgE2sRX2yxKS0sVqLCJL1rERL9eEFj0GELCOQTQyIpQ4I0ACIw34h7WBwLzsHMdujQQmEMd40azQGBu9Jq7bQaBudt/rrFe1EBzjYNcaqiocYVub84BK2qgcYZZOHWixhUIjHOoixponGEWTp2ocQUC4xzqogYaZ5iFUydqXIHAOIe6qIHGGWbh1IkaVyAwzqEuaqBxhlk4daLGFQiMc6iLGmicYRZOnahxBQLjHOqiBhpnmIVTJ2pcgcA4h7qogcYZZuHUiRpXIDAOoV7xDOXkz6VqpkofaNr3OJgCFR5FAATmUcfGelnlm6iP7KdPiKjKJ9Fiv0xXMZt8Er3ll+lhIsqVfHRxwSxqjLWt0O9eBEBg7vWd4y3fv4FWkUyLZKI2iaiGGSwTZUkSJRHR6sJiutvxi4CBjkYABOZo97jbOJaFkZ9O+YmS1JqdffOtj6iNfNQP2Ze7/esE60FgTvCCh21gWZhMdLtElKgsU6J2kulxZF8edjrHpYHAOIItoqpze2GnZFLKRmRfIgaBjWsGgdkILkSfRUDNws4mYMi+EBfWIQACsw5LSDJAQMnC5LOb+JJEWdj7QqhYhQAIzCokIScoAuUbaAMbUFBMxYAKCFiFAAjMKiRjLKd8Y/zDstx5V4zNgHoNArIUd/2o2V0vART7EACB2YctV8kHnk+tGnzJ0znJGaO46oWywAgcen9aQ1fLiSvy59BOYGQfAiAw+7DlJrliPY33pWS/lzf5zTRuSqHIEIHWun30xUe3HMv/ZVMOYLIXARCYvfhykc7Kx74XFt3Rr/DWOC4KoSQoAqf2P9V1+vOyxwpmdy4GVPYiAAKzF18u0lE+coHZtBKUj6ahinogCCxqCGMrAOVjbPHXa0f5yNcfIDC+eFuuDeWj5ZBGJRDlY1TwhT0ZBBY2ZM6agPLRWf5A+cjXHyAwvnhbqg3lo6VwRi0M5WPUEIYtAAQWNmTOmYDy0Tm+YJagfOTvDxAYf8wt04jy0TIoLRGE8tESGMMSAgILCy7nDEb56BxfMEtQPsbGHyCw2OAetVaUj1FDaKkAlI+WwmlaGAjMNFTOGojy0Vn+QPkYG3+AwGKDe1RalfKxV/Z7eZfjs49RAWnRZJSPFgEZgRgQWASgxXoKysdYe6CnfpSPsfMHCCx22EesGeVjxNDZMhHloy2wmhIKAjMFk3MGoXx0ji9w+hh7X4DAYu+DsCxA+RgWXLYPRvloO8RBFYDAYot/2NornkutHvKtpwfh5tWwobNlAspHW2A1LRQEZhqq2A9E+Rh7H2gtUE4f/3HLsfybcPNqrDwDAosV8hHoRfkYAWg2TkH5aCO4JkWDwEwC5YRhKB+d4IV/24DyMfb+AIHF3gemLED5aAomboNQPnKDGpv4ARCQnAG/eStQPprHisdIlI88UA6tAxlYaIwcMQLloyPc0G1E5ftTG/wtJ/G9jzF2Cwgsxg4wo97q8rHs1bfohvlLe6geM2okvVy6ivKHDz3PpJVrNtJFQ3OoaPpVhubWflVP8+95mJbfWdJDBvv9vb9ZR0t+NZseeGIjzZwxjbbt2En3rX72PFlTvvdtKlv3AGVekG4GFsMxbH3sNWzwINr8ylZas+IO6pWcFJVM7WSUj5ZBGbUgEFjUENovwOrykT3g2z/a3ePB/nDnnqgedjME9uSml2jW9dd0ExybUzRvCS1dOJsuHT/GMiC1BMbIksm38oXy0Uo0o5MFAosOPy6zrS4fAxFYxaEjtPzRUlr70GJ6+vn/pL0Vn9HLr79LW9aupM+OVCsZ2PSpk2nhsscoZ0B2dwZ1/6Kb6c65M5Xfl25+lfSZXEtrm0KMLPPa8sc3FRlqhhWIwBiR3v/4Bjpx6jR965v/Qf/7Rz+gP7z+l26yZbYze1RSYtmhms0xW1mWyGSwV1bfDCqvPEzXTPmupX5C+WgpnFEJA4FFBZ/9k60uH5nFgQhM+7tHn9lM1cdPdpOGWkKqBMZksLLsk0/Lad7dDyulJyOLQCVkMISMCEyVycpZfWaoJTCtzV9UH6frSu6mdasWW5rvFFWBAAAOxElEQVTN6e1H+Wh/zIejAQQWDloxGGt1+agSmH4PTLv/xAiLvbRZjjYDmzRhrJLpaMtGKwmM6Vf3wowITM36VFuYvWb26qJ1IcrHaBG0dj4IzFo8LZdmdflolIFpDdcTgT4DY+Ug27Oyi8C0G++hCIyVrdoXK2mt3vPSykf5aHmIRyUQBBYVfPZOtqN8dDuBqdmhmoGpZGqvJ85KR/nIA+XwdIDAwsOL62g7ykc3Eph2n42dWrLsj2VZ2j2w5pZW5URz5oypQds9onEgysdo0LNnLgjMHlwtkWpH+WgXgQ3JGaCcRP7jf/6fYT+ZHhSjTXx975Z60sj26dh/TWeaA55Cony0JOxcJQQE5lB32VU+OnS5jjcL5aMzXQQCc6ZfyK7y0aHLdbxZKB+d6SIQmDP9QnaVjw5druPNwumjM10EAnOgX1j5GNer/3vDL9+a5kDzhDMJ5aNzXQ4Cc6BvUD46yykoH53lD601IDAH+gblo7OcgvLRWf4AgRE59kJDlI/OelhQPjrLH3prkIE5zD8oH53lEJSPzvIHCOwsAs7NwH6XWj1kAr730SmPDcpHp3gisB3IwBzkH5SPDnLGuc8+Hv34luqRv2jKdZZlsEZFAATmoFhA+eggZxARykdn+SOQNSAwB/moAuWjg7xBhPLRUe4IaAwIzCE+QvnoEEecM4OdPqJ8dJZPkIH9GwHHbeKjfHTWw4Ly0Vn+MLIGGZhD/ITy0SGOOGdG5bapDf5mfO+js7xyvjUgMAd4COWjA5ygMQHlo7P8EcwaEJgDfIXy0QFO0JiA8tFZ/gCBnY+Ao/bAUD4664FB+egsf4DAHExgKB+d9bCgfHSWP0JZgxIyFEI2v4/y0WaAwxSP8jFMwGI8HAQWYwegfIyxA3TqUT46yx+hrAGBhULIxvdRPtoIbgSiUT5GAFqMp4DAYugAlI8xBD+AapSPzvKHGWtAYGZQsmkMykebgI1QLMrHCIGL4TQQWIzAR/kYI+AN1KJ8dJY/zFoDAjOLlMXj9m2M+6kkd71osViIiwIBSYp/pGB25+IoRGAqZwRAYJwBF1WdqIEmqr95rVvUuHJUJz4vZ8dSj6iBFkvMRdAtalyBwDhHt6iBxhlm4dSJGlcgMM6hLmqgcYZZOHWixhUIjHOoixponGEWTp2ocQUC4xzqogYaZ5iFUydqXIHAOIe6qIHGGWbh1IkaVyAwzqEuaqBxhlk4daLGFQiMc6iLGmicYRZOnahxBQLjHOqiBhpnmIVTJ2pcgcA4h7qogcYZZuHUiRpXIDDOoS5qoHGGWTh1osYVCIxzqIsaaJxhFk6dqHEFAuMc6qIGGmeYhVMnalyBwDiHuqiBxhlm4dSJGlcgMM6hLmqgcYZZOHWixhUIjHOoixponGEWTp2ocQUC4xzqogYaZ5iFUydqXIHAOIe6qIHGGWbh1IkaVyAwzqEuaqBxhlk4daLGFQiMQ6hXPEM5+XOpmqnSB5r2PQ6mQIVHEQCBedSxsV5W+SbqI/vpEyKq8km02C/TVcwmn0Rv+WV6mIhyJR9dXDCLGmNtK/S7FwEQmHt953jL92+gVSTTIpmoTSKqYQbLRFmSRElEtLqwmO52/CJgoKMRAIE52j3uNo5lYeSnU36iJLVml1kWRtRGPuqH7Mvd/nWC9SAwJ3jBwzawLEwmul0iSlSWKVE7yfQ4si8PO53j0kBgHMEWUdW5vbBTMillI7IvEYPAxjWDwGwEF6LPIqBmYWcTMGRfiAvrEACBWYclJBkgoGRh8tlNfEmiLOx9IVSsQgAEZhWSkBMUgfINtIENKCimYkAFBKxCAARmFZKCy9lXShdLcfS1+ISMcVJcfIG/sytXltszZbmjN/k7k2TZ7zubgfn85Itvk6SEM5KUWOuLj6uSuzrLOzvqdsld9OmoEqV3DC8gYAoBEJgpmDBIj8DeUpqQmHLBj2VZurKrvX50QnL/pqS0fOqVUdAnsffguPjkARSflEm+hD7ki0shyReviJD9neTvaiZ/RyN1ttVSZ+txaj9ztKulrryxraGCOlpPpMYlpu+VJOnt9ubaP40uoY+APhAwQgAEhtgwjUD5Bvp6fK/+87vaz/w4LjEtPrX/RErNnpiR0ncsSXG9TMsJNlDuaqHm07up6dSOuqbjO6irvaEzLrH3nzpbTqwtKKZ/WaIEQjyDAAjMM660byHlG+iauOR+98n+jhHpuVdTes60PklpefYp1Ehua6ik+uqtjfVVb5DkSzjY1Xrq/oJieo2LcihxPAIgMMe7KHYGlj+f9COfL/WR+IS0rMwRs/umDZoS0w/BNxx7R649uPF0Z0dDjd/fdFfBL9pejx060OwEBEBgTvCCw2zYt5GGJiQNeE6SfGP7FSy4IG3QFY6ysOHYe3Sq/MmvZNm/u6Pt+E2jZtMRRxkIY7ghAALjBrU7FB3c0m9eV1vd432H39jcb+TcDCdbferAM3WnD72QEpeUefuIG46vc7KtsM0eBEBg9uDqSqmHfp+7mYimDvzGg317ZYx2xRpa6vbSl/+89zQRvTn8Z1UzXWE0jLQMARCYZVC6W1Dl7wf+NTFlaGHuuN/2l3xxrlqM7O+iql23nWhvPrI/72dfft9VxsPYqBAAgUUFnzcmH9o8cHty368XDBr7YJabV3Rs9701raf/VT585peT3LwO2G4eARCYeaw8ObKyLPfPyX3yvpUz7tH+Xlhg9a47T7Q2Vv4jr6jqWi+sB2sIjgAITOAIObh54D1xiakLL5z0oqszL70LP99+fY2/remJvBu/fFBg9wqxdBCYEG4+f5H719NIyefbf+FlL/kSUy/yFArtTZ/R5x/81C/7/YWFc+iApxaHxfRAAAQmaEBUbhn4l/TBV0/IGjGnjxchqDm4vrH+6Bsf5d3w5Q+8uD6s6SwCIDABI4HdHBGXlP5fI3/4fqqXl3/g3cubutrqv4sbLrzrZRCYd31ruLKDZf3LMnJ/dG3WiJIULy+/5mBpc13V638eUXSiyMvrFHltIDABvV/xXErdhZeVpSekDLZk9SvXbKT7Vj97nqwta1dS0XTl6yBNvT7cuYeYrLJ1D1DmBemm5gQb1NF8lD7/oKg+/6Zmw08UlK+n2wrm0G+jVgYBMUEABBYT2GOn9OyVONkfDJ/8ZvQMcW4ZjHTYa+nC2VEtzGoCY8Yc2ja1vrPl5GX6q3j2b6Ifkp8ekIm+Icn0SuEc+llUxmNyTBAAgcUE9tgpLV9PRSnZE58cfMkTfa2yIhiBtbS20cJlj1HOgOzuLO3+RTd3k13FoSN0XcndtGffAWK/ZyRmVQbG1nf041+dbj65Y0HBHCpjP3cTl0SjJD/1lnxUWzCbPNVGYpVf3SAHBOYGL1loY/lGuuuCoUUrs0cvPPs9jRa8zBAYU7NmxR30yaflNO/uh+nl0lWU1TeDiuYtoZkzpiqlJpNjNYGd3Lum/asjZUtlif7JMi6SaJTMiEtSviW8mWS6ZxRKSAuiIDYiQGCxwT1mWpnDs0bMWZ41co5lNgTaAxszaqRCUkNyBigZ2KQJYxWSqv2qnubf8zAtv7NE0b/80VJa+9BiZc+LZWPan60wsObAeqo5uH65TLREkimefa9b90umFpLImqtkrTAWMiJFYHlhMa2IdLIb58X0Yr5YAlaxKf7XGUOuW5o9eqFlJ5BmMrCZM6bRpePH9CCwmtN1PTbt7SCwk3vXNH91pGyFmoHJrHSUqTfzgSTRGSK6t2A2NvFjGZPQHT4CwhKYsgfWf9LawePXWHbXV6QExiMDO7pzYV3zie3ztXtg0tnN+1EkYw8s/EcHM5yAgLgExk4hk7M/GH45n1NIdRM/UAamLy/t2AM79P7U+s7WwKeQjMj8Mn1DkuiVwmKcQjrhwYQN5hAQlsAYPLz6wNip4p1zZyp7YIEILH/4UGXfSz2FfHz57VRx6DA9+Ot5/PrANtJtKCHNPTQY5RwEhCawyrJBL6bnXDUta+RcT34OUg2zmgPPNNZXv7U1r+jY9c4JPVgCBKJHQGgCw2chow8gSAACsURAaAJjwFduGfBeeu7V38waWWLZZn4sHarXXXOgtK6+6o3/ybvhuLO+UslJIMEW1yIgPIHhPjDXxi4MBwI92hmFhaOybPBSX3zSggsnveSpj9J8vv2nNf7Otifzio6uFNa5WLinERA+A1O9W1k26E/JfUZ8J2fcY9le8Hj1rjtOtjYe/Hte0bEfe2E9WAMQCIQACEyDyqGyQduTM/5j5KCxD7maxI7tvudka92nB4YX4VuJ8Nh7GwEQmM6/lWWDtiX1Hjo6Z9wT2W78XsjqXb862XbmyN68omOTvR26WB0QIOyBBQqCQ2WDy0jyXznwGw+57Ju57zlNsu/t4UVHcfMqnm4hEEAGZuDmAy9k3ezvqP9t37wbW/uNmJvm5Gg4dfCZhtOVLyT7EtJvG3ljzflXwjrZeNgGBKJAAAQWBLx9G2loQvKg30lE3+hXuCAjbeAVjsKr4cv35FP7n6yTif7Z0Xrsl6Nm05EoYgFTgYDrEHDUA+lU9PZtpGnxiZmPxSdkZGWOuCkzbdCUmJracOwdqj34XG1nR11NZ3vtHaNm09aYGgTlQCBGCIDAwgD+wIbE6VJS+hJZ7shLz5nmT8+9Oj0pLS8MCZEPbWuopPqqN+rrq7f6JCmhUm6rf2BkcfurkUvETCDgfgRAYBH4UPlCkOTseV0dzdPjEtPiU/tf5kvN/k5aSt+xJMVZc7Gp3NVCzad3U9PJvzc0nfjA39Xe0BmXmPLHzpaTT+u/mCOCJWAKEPAEAiCwKN24t5QmJPXO+onfT1O62r8alZDcvykpPd/fKy2/T2LqkIT45AEUn5RJvoQ+5ItLIckXr2iU/Z3k72omf0cjdbbVUmfrcWpv+qKjpaGisa2+wtfReiI1LvGCfT4fvdN2puaPo0vooyhNxXQg4DkEQGAWu5TdcCHF0dfi4tLGSvEJo+SuzsGyvzNTpo7e5O9MkmW/j6mUJJ+ffPFtEiWckXzxtVJc/FG5s2NfV1fDbrmLPsW3aFvsGIjzJAL/H/Jle4FW1Z+zAAAAAElFTkSuQmCC)"
      ]
    },
    {
      "cell_type": "code",
      "metadata": {
        "colab": {
          "base_uri": "https://localhost:8080/"
        },
        "id": "jrKABEDKWB5g",
        "outputId": "4180bca0-8b40-4139-ac95-4a74a91d95e6"
      },
      "source": [
        "#4\n",
        "\n",
        "BCA = (B + C) @ A\n",
        "\n",
        "BCA"
      ],
      "execution_count": null,
      "outputs": [
        {
          "output_type": "execute_result",
          "data": {
            "text/plain": [
              "array([[ 83, 126,  78],\n",
              "       [ 54,  71, 102],\n",
              "       [ -3, 142,  66]])"
            ]
          },
          "metadata": {},
          "execution_count": 45
        }
      ]
    },
    {
      "cell_type": "code",
      "metadata": {
        "colab": {
          "base_uri": "https://localhost:8080/"
        },
        "id": "IJC-eNuRWJ6Z",
        "outputId": "40f0adef-d108-4dff-c362-11e614a83c85"
      },
      "source": [
        "BACA = B @ A + C @ A\n",
        "BACA"
      ],
      "execution_count": null,
      "outputs": [
        {
          "output_type": "execute_result",
          "data": {
            "text/plain": [
              "array([[ 83, 126,  78],\n",
              "       [ 54,  71, 102],\n",
              "       [ -3, 142,  66]])"
            ]
          },
          "metadata": {},
          "execution_count": 46
        }
      ]
    },
    {
      "cell_type": "code",
      "metadata": {
        "colab": {
          "base_uri": "https://localhost:8080/"
        },
        "id": "xvsmDR1eWO8B",
        "outputId": "52cc1ee6-1c4c-4184-fb78-4e78332346d0"
      },
      "source": [
        "np.array_equiv(BCA, BACA)"
      ],
      "execution_count": null,
      "outputs": [
        {
          "output_type": "execute_result",
          "data": {
            "text/plain": [
              "True"
            ]
          },
          "metadata": {},
          "execution_count": 47
        }
      ]
    },
    {
      "cell_type": "markdown",
      "metadata": {
        "id": "bJjq8DIipd6Z"
      },
      "source": [
        "![Ass6 (5).png](data:image/png;base64,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)"
      ]
    },
    {
      "cell_type": "code",
      "metadata": {
        "colab": {
          "base_uri": "https://localhost:8080/"
        },
        "id": "q9NKxCLtbbDj",
        "outputId": "77ad97f3-a3e1-4407-8a14-b4a6e5737199"
      },
      "source": [
        "#5 \n",
        "F= np.eye(3)\n",
        "F"
      ],
      "execution_count": null,
      "outputs": [
        {
          "output_type": "execute_result",
          "data": {
            "text/plain": [
              "array([[1., 0., 0.],\n",
              "       [0., 1., 0.],\n",
              "       [0., 0., 1.]])"
            ]
          },
          "metadata": {},
          "execution_count": 57
        }
      ]
    },
    {
      "cell_type": "code",
      "metadata": {
        "colab": {
          "base_uri": "https://localhost:8080/"
        },
        "id": "XhpaAWsmbuk-",
        "outputId": "112fe169-932d-48e6-e83e-0d95a8739926"
      },
      "source": [
        "V= A.dot(np.eye(3))\n",
        "V"
      ],
      "execution_count": null,
      "outputs": [
        {
          "output_type": "execute_result",
          "data": {
            "text/plain": [
              "array([[ 1.,  8.,  9.],\n",
              "       [ 6., -1.,  0.],\n",
              "       [ 0.,  9.,  3.]])"
            ]
          },
          "metadata": {},
          "execution_count": 58
        }
      ]
    },
    {
      "cell_type": "code",
      "metadata": {
        "colab": {
          "base_uri": "https://localhost:8080/"
        },
        "id": "xeh2st7Wb2bU",
        "outputId": "db7f00f6-5f32-4827-bf23-97683872c8d6"
      },
      "source": [
        "np.array_equiv(F, V)"
      ],
      "execution_count": null,
      "outputs": [
        {
          "output_type": "execute_result",
          "data": {
            "text/plain": [
              "False"
            ]
          },
          "metadata": {},
          "execution_count": 59
        }
      ]
    },
    {
      "cell_type": "markdown",
      "metadata": {
        "id": "tUtfwoY8pgve"
      },
      "source": [
        "![Ass6 (6).png](data:image/png;base64,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)"
      ]
    },
    {
      "cell_type": "code",
      "metadata": {
        "colab": {
          "base_uri": "https://localhost:8080/"
        },
        "id": "pn7hFgMZZfzS",
        "outputId": "45dac314-cb3f-4862-b2f6-05081e065837"
      },
      "source": [
        "#6\n",
        "A6= np.zeros(A.shape)\n",
        "A6"
      ],
      "execution_count": null,
      "outputs": [
        {
          "output_type": "execute_result",
          "data": {
            "text/plain": [
              "array([[0., 0., 0.],\n",
              "       [0., 0., 0.],\n",
              "       [0., 0., 0.]])"
            ]
          },
          "metadata": {},
          "execution_count": 60
        }
      ]
    },
    {
      "cell_type": "code",
      "metadata": {
        "colab": {
          "base_uri": "https://localhost:8080/"
        },
        "id": "2vTvyU9nZoji",
        "outputId": "2af588a2-b44d-48bd-eed9-84e9986527a6"
      },
      "source": [
        "AB= A.dot(np.zeros(B.shape))\n",
        "AB"
      ],
      "execution_count": null,
      "outputs": [
        {
          "output_type": "execute_result",
          "data": {
            "text/plain": [
              "array([[0., 0., 0.],\n",
              "       [0., 0., 0.],\n",
              "       [0., 0., 0.]])"
            ]
          },
          "metadata": {},
          "execution_count": 53
        }
      ]
    },
    {
      "cell_type": "code",
      "metadata": {
        "colab": {
          "base_uri": "https://localhost:8080/"
        },
        "id": "ht2jaWahZ4xE",
        "outputId": "724df218-9ff5-4edf-b29f-757dda043060"
      },
      "source": [
        "np.array_equiv(A6, AB)"
      ],
      "execution_count": null,
      "outputs": [
        {
          "output_type": "execute_result",
          "data": {
            "text/plain": [
              "True"
            ]
          },
          "metadata": {},
          "execution_count": 61
        }
      ]
    },
    {
      "cell_type": "markdown",
      "metadata": {
        "id": "FvIKBveFub4f"
      },
      "source": [
        "## Conclusion\n",
        "\n",
        "For your conclusion synthesize the concept and application of the laboratory. Briefly discuss what you have learned and achieved in this activity. "
      ]
    },
    {
      "cell_type": "markdown",
      "metadata": {
        "id": "G5la8Epswp7s"
      },
      "source": [
        "Last laboratory the student discussed the basic fundamentals of matrix such as showing and operating with vectors. In this laboratory report in tackled the deeper understanding of matrix. At first is the transposition of the matrix algebra, this simply means turning the rows and columns of the matrix on their opposite direction. And by switching the values it is still has the equivalent value. Also, in this laboratory it is also discussed the dot product/ inner product. We all know how to solve a dot product but in Colaboratory we only use variable.dot(variable) and it can automatically show the equation of the dot product. Not only this, but we can also use np.matmul or variable @ variable that you wanted to find a dot product of a matrix. Dot product is not just as easy as that we are to follow different rules. One rule is that we need to consider the dimension in the matrices we want to dot product. The shape of the two matrices we want to find the product must have the same shape. Another rule is that it has special properties. This is where the professor tasked the student to prove the following solution. At the end of this, we have proved that the two equations that is given are equal to each other. Lastly, the determinant in this part of the laboratory it covers not only a 2x2 matrix but a much bigger matrix. The determinant of a matrix can easily be computed even in a bigger or higher value. Knowing the basic of this or how it can be solved and comparing it when inputting to the Google Colaboratory makes it easier and less hassle. It is important to understand first how it solved so that it is easier for us to understand why and how did it turned from this matrix to another."
      ]
    }
  ]
}