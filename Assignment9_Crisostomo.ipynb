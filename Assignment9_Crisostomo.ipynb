{
  "nbformat": 4,
  "nbformat_minor": 0,
  "metadata": {
    "colab": {
      "name": "Assignment9_Crisostomo.ipynb",
      "provenance": [],
      "authorship_tag": "ABX9TyMcoSWGzGsWj3cb/tZ91Rl0",
      "include_colab_link": true
    },
    "kernelspec": {
      "name": "python3",
      "display_name": "Python 3"
    },
    "language_info": {
      "name": "python"
    }
  },
  "cells": [
    {
      "cell_type": "markdown",
      "metadata": {
        "id": "view-in-github",
        "colab_type": "text"
      },
      "source": [
        "<a href=\"https://colab.research.google.com/github/chescrisostomo/LinearAlgebra21/blob/main/Assignment9_Crisostomo.ipynb\" target=\"_parent\"><img src=\"https://colab.research.google.com/assets/colab-badge.svg\" alt=\"Open In Colab\"/></a>"
      ]
    },
    {
      "cell_type": "markdown",
      "metadata": {
        "id": "yDCE5OkbOpns"
      },
      "source": [
        "#Lab 2 - Plotting using NumPy and MatPlotLib\n",
        "\n",
        "In this laboratory we will be discussing the basics of numerical and scientific programming by working with Vectors using NumPy and MatPlotLib"
      ]
    },
    {
      "cell_type": "markdown",
      "metadata": {
        "id": "1xdNJBZRdHjq"
      },
      "source": [
        "### Objectives\n",
        "At the end of this activity you will be able to:\n",
        "1. Be familiar with the libraries in Python for numerical and scientific pragramming.\n",
        "2. Visualize vectors through Python programming.\n",
        "3. Perform simple vector operations through code."
      ]
    },
    {
      "cell_type": "markdown",
      "metadata": {
        "id": "KpCkQCNBdpRU"
      },
      "source": [
        "## Discussion"
      ]
    },
    {
      "cell_type": "markdown",
      "metadata": {
        "id": "6mIp1EIkdvXg"
      },
      "source": [
        "### NumPy\n",
        "\n",
        "NumPy or Numerical Python, is mainly used for matrix and vector operations. It is capable of declaring computing and representing matrices. Most Python scientific programming libraries uses NumPy as the basic code.\n",
        "\n",
        "Scalars \\\\ \n",
        "Represents magnitude or a single value\n",
        "\n",
        "Vector \\\\ \n",
        "Represent magnitude with directions"
      ]
    },
    {
      "cell_type": "markdown",
      "metadata": {
        "id": "EUVDQqEaPu9b"
      },
      "source": [
        "#### Representing Vectors\n",
        "\n",
        "Now that you have know how to represent vectors using their component and matrix form we can now hard-code them in Python. Let's say that you have the vectors:"
      ]
    },
    {
      "cell_type": "markdown",
      "metadata": {
        "id": "iG6US5I7O66R"
      },
      "source": [
        "$$ A = 4\\hat{x} + 3\\hat{y} \\\\\n",
        "B = 2\\hat{x} - 5\\hat{y} \\\\\n",
        "C = 4ax + 3 ay - 2az \\\\\n",
        "D = 2\\hat{x} - 2\\hat{y} + 3\\hat{z} $$"
      ]
    },
    {
      "cell_type": "markdown",
      "metadata": {
        "id": "KRjEQZi2eWQc"
      },
      "source": [
        "In which it's matrix equivalent is:"
      ]
    },
    {
      "cell_type": "markdown",
      "metadata": {
        "id": "tOvUf5cNP0uv"
      },
      "source": [
        "$$ A = \\begin{bmatrix} 4 \\\\ 3\\end{bmatrix} , B = \\begin{bmatrix} 2 \\\\ -5\\end{bmatrix} C = \\begin{bmatrix} 4 \\\\ 3 \\\\  4 \\end{bmatrix} D = \\begin{bmatrix} 2 \\\\ -2 \\\\ 3\\end{bmatrix} \n",
        "$$\n",
        "$$ A = \\begin{bmatrix} 4 & 3\\end{bmatrix} , B = \\begin{bmatrix} 2 & -5\\end{bmatrix} , C = \\begin{bmatrix} 4 & 3 &  -2 \\end{bmatrix} , D = \\begin{bmatrix} 2 & -2 &  3 \\end{bmatrix}\n",
        "$$"
      ]
    },
    {
      "cell_type": "markdown",
      "metadata": {
        "id": "FvDtq2YrSDwX"
      },
      "source": [
        "We can start doing numpy code with this by:"
      ]
    },
    {
      "cell_type": "code",
      "metadata": {
        "id": "e0lf-CWZR73h"
      },
      "source": [
        "## Importing neccessary libraries\n",
        "import numpy as np ## 'np' here is short-hand name of the library (numpy) or a nickname."
      ],
      "execution_count": 13,
      "outputs": []
    },
    {
      "cell_type": "code",
      "metadata": {
        "colab": {
          "base_uri": "https://localhost:8080/"
        },
        "id": "HADjfP6VSIk1",
        "outputId": "68449f96-82ea-4c5e-f745-8fca7c85532a"
      },
      "source": [
        "A= np.array ([4,3])\n",
        "B= np.array([2,-5])\n",
        "C= np.array ([4,3,-2])\n",
        "D= np.array ([2,-2,3])\n",
        "print('Vector A is ', A)\n",
        "print('Vector B is ', B)\n",
        "print('Vector C is ', C)\n",
        "print('Vector D is ', D)"
      ],
      "execution_count": 3,
      "outputs": [
        {
          "output_type": "stream",
          "name": "stdout",
          "text": [
            "Vector A is  [4 3]\n",
            "Vector B is  [ 2 -5]\n",
            "Vector C is  [ 4  3 -2]\n",
            "Vector D is  [ 2 -2  3]\n"
          ]
        }
      ]
    },
    {
      "cell_type": "code",
      "metadata": {
        "colab": {
          "base_uri": "https://localhost:8080/"
        },
        "id": "Heu_LfX2SrQd",
        "outputId": "3c56b753-f3c9-40ca-8b90-13934dcb0350"
      },
      "source": [
        "C = np.array([\n",
        "              [4],\n",
        "              [3],\n",
        "              [-2]\n",
        "])\n",
        "D= np.array([\n",
        "              [2],\n",
        "              [-2],\n",
        "              [3]\n",
        "])\n",
        "print('Vector C is ',C)\n",
        "print('Vector D is ',D)"
      ],
      "execution_count": 8,
      "outputs": [
        {
          "output_type": "stream",
          "name": "stdout",
          "text": [
            "Vector C is  [[ 4]\n",
            " [ 3]\n",
            " [-2]]\n",
            "Vector D is  [[ 2]\n",
            " [-2]\n",
            " [ 3]]\n"
          ]
        }
      ]
    },
    {
      "cell_type": "markdown",
      "metadata": {
        "id": "FSfFnjKPezhn"
      },
      "source": [
        "#### Describing vectors in NumPy\n",
        "\n",
        "Describing vectors is very important if we want to perform basic to advanced operations with them. The fundamental ways in describing vectors are knowing their shape, size and dimensions. "
      ]
    },
    {
      "cell_type": "code",
      "metadata": {
        "colab": {
          "base_uri": "https://localhost:8080/"
        },
        "id": "37WWA0_aTegT",
        "outputId": "afeaffbd-fd01-413c-ccbd-28a458cbf050"
      },
      "source": [
        "### Checking shapes\n",
        "### Shapes tells us hwo many elements are there on each row and column\n",
        "A.shape\n",
        "H = np.array ([1, 0, 2, 5, -0.2, 0])\n",
        "H.shape\n",
        "C.shape"
      ],
      "execution_count": 9,
      "outputs": [
        {
          "output_type": "execute_result",
          "data": {
            "text/plain": [
              "(3, 1)"
            ]
          },
          "metadata": {},
          "execution_count": 9
        }
      ]
    },
    {
      "cell_type": "code",
      "metadata": {
        "colab": {
          "base_uri": "https://localhost:8080/"
        },
        "id": "cytrvOLoT3rM",
        "outputId": "af3c3a39-883d-4826-a6cd-6e7234037d96"
      },
      "source": [
        "### Checking size\n",
        "### Array/Vector sizes tells us many total number of elements are there in the vector\n",
        "C.size"
      ],
      "execution_count": 10,
      "outputs": [
        {
          "output_type": "execute_result",
          "data": {
            "text/plain": [
              "3"
            ]
          },
          "metadata": {},
          "execution_count": 10
        }
      ]
    },
    {
      "cell_type": "code",
      "metadata": {
        "colab": {
          "base_uri": "https://localhost:8080/"
        },
        "id": "d38oqcqUUHTA",
        "outputId": "b79575f9-b743-4670-e771-853d6ad8bbe9"
      },
      "source": [
        "### Checking dimensions\n",
        "### The dimension or rank of a vector tells us how many are there for the vector\n",
        "C.ndim"
      ],
      "execution_count": 11,
      "outputs": [
        {
          "output_type": "execute_result",
          "data": {
            "text/plain": [
              "2"
            ]
          },
          "metadata": {},
          "execution_count": 11
        }
      ]
    },
    {
      "cell_type": "markdown",
      "metadata": {
        "id": "ZdLxfNiDUZMG"
      },
      "source": [
        "Great! Now let's try to explore in performing operations with these vectors"
      ]
    },
    {
      "cell_type": "markdown",
      "metadata": {
        "id": "U3LXSwgeUezk"
      },
      "source": [
        "#### Addition\n",
        "The addition rule is simple, the we just need to add the elements of the matrices according to their index. So in this case if we add vector $A$ and vector $B$ we will have a resulting vector:"
      ]
    },
    {
      "cell_type": "markdown",
      "metadata": {
        "id": "P1h3fiUPfbmA"
      },
      "source": [
        "$$R = 6\\hat{x}-2\\hat{y} \\\\ \\\\or \\\\ \\\\ R = \\begin{bmatrix} 6 \\\\ -2\\end{bmatrix} $$"
      ]
    },
    {
      "cell_type": "markdown",
      "metadata": {
        "id": "ar39Vhdefgni"
      },
      "source": [
        "So let's try to do that in NumPy in several number of ways:"
      ]
    },
    {
      "cell_type": "code",
      "metadata": {
        "colab": {
          "base_uri": "https://localhost:8080/"
        },
        "id": "i6ZpwWA8UuyK",
        "outputId": "deaea643-263e-4b67-ffcc-927fc657bc99"
      },
      "source": [
        "R= np.add(A,B) ## this is the functional method using the numpy library\n",
        "P= np.add (C,D)\n",
        "Q= np.add(A,C)\n",
        "Q"
      ],
      "execution_count": 12,
      "outputs": [
        {
          "output_type": "execute_result",
          "data": {
            "text/plain": [
              "array([[8, 7],\n",
              "       [7, 6],\n",
              "       [2, 1]])"
            ]
          },
          "metadata": {},
          "execution_count": 12
        }
      ]
    },
    {
      "cell_type": "code",
      "metadata": {
        "colab": {
          "base_uri": "https://localhost:8080/"
        },
        "id": "taP6ZnqAU2iY",
        "outputId": "1d4ddaff-c340-461c-acac-19d882fa30ed"
      },
      "source": [
        "R= A + B ## this is the explicit method, since Python does a value-reference so it can \n",
        "         ## know that these variables would need to do array operations\n",
        "R"
      ],
      "execution_count": 13,
      "outputs": [
        {
          "output_type": "execute_result",
          "data": {
            "text/plain": [
              "array([ 6, -2])"
            ]
          },
          "metadata": {},
          "execution_count": 13
        }
      ]
    },
    {
      "cell_type": "code",
      "metadata": {
        "colab": {
          "base_uri": "https://localhost:8080/"
        },
        "id": "5Vgd0CWAV4oB",
        "outputId": "6e8884ef-2dd4-47ad-e9b8-7ef4ef6c3aed"
      },
      "source": [
        "pos1= np.array ([0,0,0])\n",
        "pos2= np.array ([0,1,3])\n",
        "pos3= np.array ([1,5,-2])\n",
        "pos4= np.array ([5,-3,3])\n",
        "R= pos1 + pos2 + pos3 + pos4\n",
        "R"
      ],
      "execution_count": 14,
      "outputs": [
        {
          "output_type": "execute_result",
          "data": {
            "text/plain": [
              "array([6, 3, 4])"
            ]
          },
          "metadata": {},
          "execution_count": 14
        }
      ]
    },
    {
      "cell_type": "code",
      "metadata": {
        "colab": {
          "base_uri": "https://localhost:8080/"
        },
        "id": "rvGrDcA1VyXZ",
        "outputId": "6f5b13e6-7262-4fe4-b5aa-02832b0bc249"
      },
      "source": [
        "T= np.subtract(A,B)\n",
        "T"
      ],
      "execution_count": 15,
      "outputs": [
        {
          "output_type": "execute_result",
          "data": {
            "text/plain": [
              "array([2, 8])"
            ]
          },
          "metadata": {},
          "execution_count": 15
        }
      ]
    },
    {
      "cell_type": "code",
      "metadata": {
        "colab": {
          "base_uri": "https://localhost:8080/"
        },
        "id": "DSni4cV1WWEB",
        "outputId": "402f109c-2e2a-42e2-d8aa-36c009781cbd"
      },
      "source": [
        "T= A-B\n",
        "T"
      ],
      "execution_count": 16,
      "outputs": [
        {
          "output_type": "execute_result",
          "data": {
            "text/plain": [
              "array([2, 8])"
            ]
          },
          "metadata": {},
          "execution_count": 16
        }
      ]
    },
    {
      "cell_type": "code",
      "metadata": {
        "colab": {
          "base_uri": "https://localhost:8080/"
        },
        "id": "eJE2uuhsWbEX",
        "outputId": "d9e1dae3-08b9-4ab2-fd29-538ebbac2377"
      },
      "source": [
        "# O= np.multiply (pos3, pos4)\n",
        "O= pos3 * pos4\n",
        "O"
      ],
      "execution_count": 17,
      "outputs": [
        {
          "output_type": "execute_result",
          "data": {
            "text/plain": [
              "array([  5, -15,  -6])"
            ]
          },
          "metadata": {},
          "execution_count": 17
        }
      ]
    },
    {
      "cell_type": "code",
      "metadata": {
        "colab": {
          "base_uri": "https://localhost:8080/"
        },
        "id": "xuDZIMVvW3bw",
        "outputId": "aa21f29d-082a-459a-ee01-91f177910c83"
      },
      "source": [
        "G= pos3/ pos4\n",
        "\n",
        "G"
      ],
      "execution_count": 18,
      "outputs": [
        {
          "output_type": "execute_result",
          "data": {
            "text/plain": [
              "array([ 0.2       , -1.66666667, -0.66666667])"
            ]
          },
          "metadata": {},
          "execution_count": 18
        }
      ]
    },
    {
      "cell_type": "markdown",
      "metadata": {
        "id": "8U9bkj3LjqQY"
      },
      "source": [
        "##### Activity: Try for yourself! \n",
        "\n",
        "Try to implement subtraction, multiplication and division with your own vectors $A$ and $B$!"
      ]
    },
    {
      "cell_type": "code",
      "metadata": {
        "id": "8WLD66Urjveb"
      },
      "source": [
        "C= np.array ([5,8,9])\n",
        "H= np.array ([5,7,8])\n",
        "E= np.array ([10,5,6])\n",
        "S= np.array ([7,8,9])"
      ],
      "execution_count": 40,
      "outputs": []
    },
    {
      "cell_type": "code",
      "metadata": {
        "colab": {
          "base_uri": "https://localhost:8080/"
        },
        "id": "hubVWDf7j_Qe",
        "outputId": "669a1e06-d14e-4121-fb90-80a5d0aec4d7"
      },
      "source": [
        "P= np.subtract (C,H)\n",
        "P"
      ],
      "execution_count": 36,
      "outputs": [
        {
          "output_type": "execute_result",
          "data": {
            "text/plain": [
              "array([0, 1, 1])"
            ]
          },
          "metadata": {},
          "execution_count": 36
        }
      ]
    },
    {
      "cell_type": "code",
      "metadata": {
        "colab": {
          "base_uri": "https://localhost:8080/"
        },
        "id": "m4x_VcxykJZv",
        "outputId": "cb9a01b5-b689-480a-efdd-8513b608ebba"
      },
      "source": [
        "Q= C-H\n",
        "Q"
      ],
      "execution_count": 37,
      "outputs": [
        {
          "output_type": "execute_result",
          "data": {
            "text/plain": [
              "array([0, 1, 1])"
            ]
          },
          "metadata": {},
          "execution_count": 37
        }
      ]
    },
    {
      "cell_type": "code",
      "metadata": {
        "colab": {
          "base_uri": "https://localhost:8080/"
        },
        "id": "Jf0gmVhpkQJy",
        "outputId": "d1773dda-d58d-4954-8c76-4e1dd731f232"
      },
      "source": [
        "R= np.multiply (S,E)\n",
        "R"
      ],
      "execution_count": 39,
      "outputs": [
        {
          "output_type": "execute_result",
          "data": {
            "text/plain": [
              "array([70, 40, 54])"
            ]
          },
          "metadata": {},
          "execution_count": 39
        }
      ]
    },
    {
      "cell_type": "code",
      "metadata": {
        "colab": {
          "base_uri": "https://localhost:8080/"
        },
        "id": "VTeizo7RkVf5",
        "outputId": "e445849f-ffa0-4e67-dd35-7525bbbbf90e"
      },
      "source": [
        "S= S * E\n",
        "S"
      ],
      "execution_count": 41,
      "outputs": [
        {
          "output_type": "execute_result",
          "data": {
            "text/plain": [
              "array([700, 200, 324])"
            ]
          },
          "metadata": {},
          "execution_count": 41
        }
      ]
    },
    {
      "cell_type": "code",
      "metadata": {
        "colab": {
          "base_uri": "https://localhost:8080/"
        },
        "id": "I93cKBFHkidw",
        "outputId": "57b1ab52-a096-49df-e987-44e770d00c3b"
      },
      "source": [
        "F= np.divide (E,S)\n",
        "F"
      ],
      "execution_count": 42,
      "outputs": [
        {
          "output_type": "execute_result",
          "data": {
            "text/plain": [
              "array([0.01428571, 0.025     , 0.01851852])"
            ]
          },
          "metadata": {},
          "execution_count": 42
        }
      ]
    },
    {
      "cell_type": "code",
      "metadata": {
        "colab": {
          "base_uri": "https://localhost:8080/"
        },
        "id": "igJHrNAJkrGT",
        "outputId": "76a053ea-90a1-4f2c-a3f8-b47572811195"
      },
      "source": [
        "D= E/S\n",
        "D"
      ],
      "execution_count": 43,
      "outputs": [
        {
          "output_type": "execute_result",
          "data": {
            "text/plain": [
              "array([0.01428571, 0.025     , 0.01851852])"
            ]
          },
          "metadata": {},
          "execution_count": 43
        }
      ]
    },
    {
      "cell_type": "markdown",
      "metadata": {
        "id": "gUsyYcEwgiRh"
      },
      "source": [
        "### Scaling\n",
        "\n",
        "Scalling or scalar multiplication takes a scalar value and performs multiplication with a vector. Let's take the example below: \n",
        "\n",
        "$$S = 5 \\cdot A$$"
      ]
    },
    {
      "cell_type": "markdown",
      "metadata": {
        "id": "MrWpyC_ng1Af"
      },
      "source": [
        "We can do this in NumPy through:"
      ]
    },
    {
      "cell_type": "code",
      "metadata": {
        "colab": {
          "base_uri": "https://localhost:8080/"
        },
        "id": "x-ZMFZrRXOKH",
        "outputId": "d994553c-fd43-4e1b-951a-ca05c1e036ff"
      },
      "source": [
        "S = 5 * A\n",
        "S"
      ],
      "execution_count": 19,
      "outputs": [
        {
          "output_type": "execute_result",
          "data": {
            "text/plain": [
              "array([20, 15])"
            ]
          },
          "metadata": {},
          "execution_count": 19
        }
      ]
    },
    {
      "cell_type": "markdown",
      "metadata": {
        "id": "6HY_J_FiXorm"
      },
      "source": [
        "Try to implement scaling with two vectors\n",
        "\n"
      ]
    },
    {
      "cell_type": "code",
      "metadata": {
        "colab": {
          "base_uri": "https://localhost:8080/"
        },
        "id": "CkJIx8-5h6jl",
        "outputId": "8750634a-3c64-48fa-e494-43a1925ee079"
      },
      "source": [
        "T= np.multiply(2,C)\n",
        "T"
      ],
      "execution_count": 41,
      "outputs": [
        {
          "output_type": "execute_result",
          "data": {
            "text/plain": [
              "array([10, 16, 18])"
            ]
          },
          "metadata": {},
          "execution_count": 41
        }
      ]
    },
    {
      "cell_type": "code",
      "metadata": {
        "colab": {
          "base_uri": "https://localhost:8080/"
        },
        "id": "rzJp0AQa5_Va",
        "outputId": "ed4b1a0d-4d6a-42a7-d097-52ecaccc33c8"
      },
      "source": [
        "D= 2 * C\n",
        "D"
      ],
      "execution_count": 42,
      "outputs": [
        {
          "output_type": "execute_result",
          "data": {
            "text/plain": [
              "array([10, 16, 18])"
            ]
          },
          "metadata": {},
          "execution_count": 42
        }
      ]
    },
    {
      "cell_type": "markdown",
      "metadata": {
        "id": "y1egx0Qvh57U"
      },
      "source": [
        "### MatPlotLib\n",
        "\n",
        "MatPlotLib or MATLab Plotting library is Python's take on MATLabs plotting feature. MatPlotLib can be used vastly from graphing values to visualizing several dimensions of data. "
      ]
    },
    {
      "cell_type": "markdown",
      "metadata": {
        "id": "oF9xTqMhYMlG"
      },
      "source": [
        "#### Visualizing Data\n",
        "\n",
        "It's enough just solving these vectors so might need to visualize them. So we'll use MatPlotLib for that. We'll need to import it first"
      ]
    },
    {
      "cell_type": "code",
      "metadata": {
        "id": "cu1-k7jhYFPu"
      },
      "source": [
        "import matplotlib.pyplot as plt\n",
        "import matplotlib\n",
        "%matplotlib inline"
      ],
      "execution_count": 5,
      "outputs": []
    },
    {
      "cell_type": "code",
      "metadata": {
        "colab": {
          "base_uri": "https://localhost:8080/",
          "height": 265
        },
        "id": "RNDRwP3PYjHp",
        "outputId": "07bffb1c-c1dd-4444-953e-9e36dce0e780"
      },
      "source": [
        "A = [1, -1]\n",
        "B = [1, 2]\n",
        "plt.plot(A, label='A')\n",
        "plt.plot(B, label='B')\n",
        "plt.grid()\n",
        "plt.legend()\n",
        "plt.show()"
      ],
      "execution_count": 6,
      "outputs": [
        {
          "output_type": "display_data",
          "data": {
            "image/png": "[encoded data removed]",
            "text/plain": [
              "<Figure size 432x288 with 1 Axes>"
            ]
          },
          "metadata": {
            "needs_background": "light"
          }
        }
      ]
    },
    {
      "cell_type": "code",
      "metadata": {
        "colab": {
          "base_uri": "https://localhost:8080/",
          "height": 265
        },
        "id": "9xGFCU80ZYRP",
        "outputId": "7bc001b2-953c-4e08-a06a-4be094c9cdf1"
      },
      "source": [
        "A = [1, -1]\n",
        "B = [5, 2]\n",
        "plt.scatter(A[0],A[1], label='A', c='black')\n",
        "plt.scatter(B[0],B[1], label='B', c='blue')\n",
        "plt.grid()\n",
        "plt.legend()\n",
        "plt.show()"
      ],
      "execution_count": 7,
      "outputs": [
        {
          "output_type": "display_data",
          "data": {
            "image/png": "[encoded data removed]",
            "text/plain": [
              "<Figure size 432x288 with 1 Axes>"
            ]
          },
          "metadata": {
            "needs_background": "light"
          }
        }
      ]
    },
    {
      "cell_type": "code",
      "metadata": {
        "colab": {
          "base_uri": "https://localhost:8080/",
          "height": 364
        },
        "id": "TQwApuXyabWr",
        "outputId": "da6e9dd1-b559-4f03-bc84-28ad287f6cd3"
      },
      "source": [
        "A = np.array([1,-1])\n",
        "B = np.array([1, 5])\n",
        "plt.title(\"Resultant Vector\\nMagnitude:{}\".format(Magnitude))\n",
        "plt.xlim(-5, 5)\n",
        "plt.ylim(-5, 5)\n",
        "plt.quiver(0, 0, A[0], A[1], angles='xy', scale_units='xy', scale=1, color='red')\n",
        "plt.quiver(A[0], A[1], B[0], B[1], angles='xy', scale_units='xy', scale=1, color='green')\n",
        "R= A + B\n",
        "plt.quiver(0,0, R[0], R[1], angles='xy', scale_units='xy', scale=1, color='blue')\n",
        "plt.grid()\n",
        "plt.show()\n",
        "print(R)\n",
        "Magnitude= np.sqrt(np.sum(R**2))\n",
        "print(Magnitude)\n",
        "Slope= R[1]/R[0]\n",
        "print(Slope)\n",
        "Angle= (np.arctan(Slope))*(180/np.pi)\n",
        "print(Angle)"
      ],
      "execution_count": 16,
      "outputs": [
        {
          "output_type": "display_data",
          "data": {
            "image/png": "[encoded data removed]",
            "text/plain": [
              "<Figure size 432x288 with 1 Axes>"
            ]
          },
          "metadata": {
            "needs_background": "light"
          }
        },
        {
          "output_type": "stream",
          "name": "stdout",
          "text": [
            "[2 4]\n",
            "4.47213595499958\n",
            "2.0\n",
            "63.43494882292201\n"
          ]
        }
      ]
    },
    {
      "cell_type": "code",
      "metadata": {
        "colab": {
          "base_uri": "https://localhost:8080/",
          "height": 269
        },
        "id": "dTe21QZDiyOR",
        "outputId": "b89eb647-427d-4f56-a9d9-2a58e7069f09"
      },
      "source": [
        "n = A.shape[0]\n",
        "plt.xlim(-10, 10)\n",
        "plt.ylim(-10, 10)\n",
        "plt.quiver(0,0, A[0], A[1], angles='xy', scale_units='xy',scale=1)\n",
        "plt.quiver(A[0],A[1], B[0], B[1], angles='xy', scale_units='xy',scale=1)\n",
        "plt.quiver(0,0, R[0], R[1], angles='xy', scale_units='xy',scale=1)\n",
        "plt.show()"
      ],
      "execution_count": 17,
      "outputs": [
        {
          "output_type": "display_data",
          "data": {
            "image/png": "[encoded data removed]",
            "text/plain": [
              "<Figure size 432x288 with 1 Axes>"
            ]
          },
          "metadata": {
            "needs_background": "light"
          }
        }
      ]
    },
    {
      "cell_type": "markdown",
      "metadata": {
        "id": "qSx0j0g9hbdY"
      },
      "source": [
        "Try plotting Three Vectors and show the Resultant Vector as a result. Use a Head to Tail method "
      ]
    },
    {
      "cell_type": "code",
      "metadata": {
        "colab": {
          "base_uri": "https://localhost:8080/",
          "height": 364
        },
        "id": "pWV3pNKujlDm",
        "outputId": "e9a0ad21-a9a1-45fe-d27f-5785191fa8f6"
      },
      "source": [
        "A = np.array([3, -2])\n",
        "B = np.array([2, 6])\n",
        "plt.title(\"Resultant Vector\\nMagnitude:{}\".format(Magnitude))\n",
        "plt.xlim(-7, 7)\n",
        "plt.ylim(-7, 7)\n",
        "plt.quiver(0, 0, A[0], A[1], angles='xy', scale_units='xy', scale=1, color='black')\n",
        "plt.quiver(A[0], A[1], B[0], B[1], angles='xy', scale_units='xy', scale=1, color='gray')\n",
        "R= A + B\n",
        "plt.quiver(0,0, R[0], R[1], angles='xy', scale_units='xy', scale=1, color='pink')\n",
        "plt.grid()\n",
        "plt.show()\n",
        "print(R)\n",
        "Magnitude= np.sqrt(np.sum(R**2))\n",
        "print(Magnitude)\n",
        "Slope= R[1]/R[0]\n",
        "print(Slope)\n",
        "Angle= (np.arctan(Slope))*(180/np.pi)\n",
        "print(Angle)"
      ],
      "execution_count": 18,
      "outputs": [
        {
          "output_type": "display_data",
          "data": {
            "image/png": "[encoded data removed]",
            "text/plain": [
              "<Figure size 432x288 with 1 Axes>"
            ]
          },
          "metadata": {
            "needs_background": "light"
          }
        },
        {
          "output_type": "stream",
          "name": "stdout",
          "text": [
            "[5 4]\n",
            "6.4031242374328485\n",
            "0.8\n",
            "38.659808254090095\n"
          ]
        }
      ]
    },
    {
      "cell_type": "code",
      "metadata": {
        "colab": {
          "base_uri": "https://localhost:8080/",
          "height": 364
        },
        "id": "2i06kM0LmPXD",
        "outputId": "de578c9c-7261-4e47-caf6-5b68ff73f72f"
      },
      "source": [
        "A = np.array([3, 4])\n",
        "B = np.array([-1, 6])\n",
        "plt.title(\"Resultant Vector\\nMagnitude:{}\".format(Magnitude))\n",
        "plt.xlim(-10, 10)\n",
        "plt.ylim(-10, 10)\n",
        "plt.quiver(0, 0, A[0], A[1], angles='xy', scale_units='xy', scale=1, color='red')\n",
        "plt.quiver(A[0], A[1], B[0], B[1], angles='xy', scale_units='xy', scale=1, color='brown')\n",
        "R= A + B\n",
        "plt.quiver(0,0, R[0], R[1], angles='xy', scale_units='xy', scale=1, color='green')\n",
        "plt.grid()\n",
        "plt.show()\n",
        "print(R)\n",
        "Magnitude= np.sqrt(np.sum(R**2))\n",
        "print(Magnitude)\n",
        "Slope= R[1]/R[0]\n",
        "print(Slope)\n",
        "Angle= (np.arctan(Slope))*(180/np.pi)\n",
        "print(Angle)"
      ],
      "execution_count": 38,
      "outputs": [
        {
          "output_type": "display_data",
          "data": {
            "image/png": "[encoded data removed]",
            "text/plain": [
              "<Figure size 432x288 with 1 Axes>"
            ]
          },
          "metadata": {
            "needs_background": "light"
          }
        },
        {
          "output_type": "stream",
          "name": "stdout",
          "text": [
            "[ 2 10]\n",
            "10.198039027185569\n",
            "5.0\n",
            "78.69006752597979\n"
          ]
        }
      ]
    },
    {
      "cell_type": "code",
      "metadata": {
        "colab": {
          "base_uri": "https://localhost:8080/",
          "height": 364
        },
        "id": "CgwpYwHi4ACa",
        "outputId": "f77fe139-2fb6-425e-fcf4-9f4f5e3a7e39"
      },
      "source": [
        "A = np.array([-6, 9])\n",
        "B = np.array([10, 15])\n",
        "plt.title(\"Resultant Vector\\nMagnitude:{}\".format(Magnitude))\n",
        "plt.xlim(-15, 25)\n",
        "plt.ylim(-15, 25)\n",
        "plt.quiver(0, 0, A[0], A[1], angles='xy', scale_units='xy', scale=1, color='yellow')\n",
        "plt.quiver(A[0], A[1], B[0], B[1], angles='xy', scale_units='xy', scale=1, color='violet')\n",
        "R= A + B\n",
        "plt.quiver(0,0, R[0], R[1], angles='xy', scale_units='xy', scale=1, color='orange')\n",
        "plt.grid()\n",
        "plt.show()\n",
        "print(R)\n",
        "Magnitude= np.sqrt(np.sum(R**2))\n",
        "print(Magnitude)\n",
        "Slope= R[1]/R[0]\n",
        "print(Slope)\n",
        "Angle= (np.arctan(Slope))*(180/np.pi)\n",
        "print(Angle)"
      ],
      "execution_count": 35,
      "outputs": [
        {
          "output_type": "display_data",
          "data": {
            "image/png": "[encoded data removed]",
            "text/plain": [
              "<Figure size 432x288 with 1 Axes>"
            ]
          },
          "metadata": {
            "needs_background": "light"
          }
        },
        {
          "output_type": "stream",
          "name": "stdout",
          "text": [
            "[ 4 24]\n",
            "24.331050121192877\n",
            "6.0\n",
            "80.53767779197439\n"
          ]
        }
      ]
    }
  ]
}